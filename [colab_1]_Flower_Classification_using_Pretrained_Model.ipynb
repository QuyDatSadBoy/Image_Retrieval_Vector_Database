{
  "nbformat": 4,
  "nbformat_minor": 0,
  "metadata": {
    "colab": {
      "provenance": [],
      "toc_visible": true,
      "gpuType": "V100"
    },
    "kernelspec": {
      "name": "python3",
      "display_name": "Python 3"
    },
    "language_info": {
      "name": "python"
    },
    "accelerator": "GPU"
  },
  "cells": [
    {
      "cell_type": "markdown",
      "source": [
        "#AI VIET NAM\n",
        "# Transfer Learning"
      ],
      "metadata": {
        "id": "tPJVGfge3-kf"
      }
    },
    {
      "cell_type": "code",
      "source": [
        "import os\n",
        "import time\n",
        "import random\n",
        "import numpy as np\n",
        "\n",
        "import torch\n",
        "import torch.nn as nn\n",
        "import torch.optim as optim\n",
        "import torch.nn.functional as F\n",
        "import torch.utils.data as data\n",
        "\n",
        "from torchvision import datasets, models, transforms\n",
        "\n",
        "from torchsummary import summary\n",
        "\n",
        "import matplotlib.pyplot as plt\n",
        "from PIL import Image"
      ],
      "metadata": {
        "id": "7iz4ivIW4rag"
      },
      "execution_count": null,
      "outputs": []
    },
    {
      "cell_type": "code",
      "source": [
        "SEED = 1\n",
        "\n",
        "random.seed(SEED)\n",
        "np.random.seed(SEED)\n",
        "torch.manual_seed(SEED)\n",
        "torch.cuda.manual_seed(SEED)\n",
        "torch.backends.cudnn.deterministic = True"
      ],
      "metadata": {
        "id": "7ZR6C5aREz9x"
      },
      "execution_count": null,
      "outputs": []
    },
    {
      "cell_type": "markdown",
      "source": [
        "##**1. Load Flower dataset**"
      ],
      "metadata": {
        "id": "BbXUCx78_8wx"
      }
    },
    {
      "cell_type": "code",
      "source": [
        "%cd /dataset."
      ],
      "metadata": {
        "id": "eJKgvc35_SGX"
      },
      "execution_count": null,
      "outputs": []
    },
    {
      "cell_type": "code",
      "execution_count": null,
      "metadata": {
        "id": "75kM4bpG35Y7",
        "colab": {
          "base_uri": "https://localhost:8080/"
        },
        "outputId": "d32c4160-0a3f-4f48-e590-1b24b6253bf1"
      },
      "outputs": [
        {
          "output_type": "stream",
          "name": "stdout",
          "text": [
            "Downloading...\n",
            "From: https://drive.google.com/uc?id=11Buzytn4vIh4x_Oqz8MY29JMMdIqSzj-\n",
            "To: /content/flower_photos.zip\n",
            "100% 230M/230M [00:02<00:00, 90.8MB/s]\n"
          ]
        }
      ],
      "source": [
        "!gdown 11Buzytn4vIh4x_Oqz8MY29JMMdIqSzj-"
      ]
    },
    {
      "cell_type": "code",
      "source": [
        "!unzip ./flower_photos.zip"
      ],
      "metadata": {
        "id": "uDAtKLUK4Plk"
      },
      "execution_count": null,
      "outputs": []
    },
    {
      "cell_type": "markdown",
      "source": [
        "##**2. Preprocessing**"
      ],
      "metadata": {
        "id": "11SBy8YmARsS"
      }
    },
    {
      "cell_type": "markdown",
      "source": [
        "**Load Dataset from Path**"
      ],
      "metadata": {
        "id": "ZDNl57--Auyv"
      }
    },
    {
      "cell_type": "code",
      "source": [
        "data_pạth = \"./dataset/flower_photos\""
      ],
      "metadata": {
        "id": "DIuxfkko5E4y"
      },
      "execution_count": null,
      "outputs": []
    },
    {
      "cell_type": "code",
      "source": [
        "# load image from path\n",
        "\n",
        "dataset = datasets.ImageFolder(root=data_pạth)"
      ],
      "metadata": {
        "id": "ogcAcqEZ6nzR"
      },
      "execution_count": null,
      "outputs": []
    },
    {
      "cell_type": "code",
      "source": [
        "dataset"
      ],
      "metadata": {
        "colab": {
          "base_uri": "https://localhost:8080/"
        },
        "id": "1dORKXFMGRgZ",
        "outputId": "2e67d30d-5339-4a7b-a89b-7ebcfc213ea9"
      },
      "execution_count": null,
      "outputs": [
        {
          "output_type": "execute_result",
          "data": {
            "text/plain": [
              "Dataset ImageFolder\n",
              "    Number of datapoints: 3670\n",
              "    Root location: ./dataset/flower_photos"
            ]
          },
          "metadata": {},
          "execution_count": 118
        }
      ]
    },
    {
      "cell_type": "code",
      "source": [
        "num_samples = len(dataset)\n",
        "num_samples"
      ],
      "metadata": {
        "colab": {
          "base_uri": "https://localhost:8080/"
        },
        "id": "VOXNzbH1AqQE",
        "outputId": "5ca678fe-988a-4696-f3f4-306b6766d38a"
      },
      "execution_count": null,
      "outputs": [
        {
          "output_type": "execute_result",
          "data": {
            "text/plain": [
              "3670"
            ]
          },
          "metadata": {},
          "execution_count": 119
        }
      ]
    },
    {
      "cell_type": "code",
      "source": [
        "dataset.classes"
      ],
      "metadata": {
        "colab": {
          "base_uri": "https://localhost:8080/"
        },
        "id": "HyYTDHMu5RO_",
        "outputId": "35dc8177-b662-4f93-85c7-9022522ab638"
      },
      "execution_count": null,
      "outputs": [
        {
          "output_type": "execute_result",
          "data": {
            "text/plain": [
              "['daisy', 'dandelion', 'roses', 'sunflowers', 'tulips']"
            ]
          },
          "metadata": {},
          "execution_count": 120
        }
      ]
    },
    {
      "cell_type": "code",
      "source": [
        "num_classes = len(dataset.classes)"
      ],
      "metadata": {
        "id": "QLwg4Lz4JdSb"
      },
      "execution_count": null,
      "outputs": []
    },
    {
      "cell_type": "markdown",
      "source": [
        "**Training : validation : testing = 0.8 : 0.1 : 0.1**"
      ],
      "metadata": {
        "id": "uk4JU_zJAyu9"
      }
    },
    {
      "cell_type": "code",
      "source": [
        "TRAIN_RATIO, VALID_RATIO = 0.8, 0.1\n",
        "\n",
        "n_train_examples = int(num_samples * TRAIN_RATIO)\n",
        "n_valid_examples = int(num_samples * VALID_RATIO)\n",
        "n_test_examples = num_samples - n_train_examples - n_valid_examples"
      ],
      "metadata": {
        "id": "coCip7FO5qEZ"
      },
      "execution_count": null,
      "outputs": []
    },
    {
      "cell_type": "code",
      "source": [
        "n_train_examples, n_valid_examples, n_test_examples"
      ],
      "metadata": {
        "colab": {
          "base_uri": "https://localhost:8080/"
        },
        "id": "9xnoMF6b555D",
        "outputId": "456ce1bb-92b0-47fc-ffcb-e543d4a50a37"
      },
      "execution_count": null,
      "outputs": [
        {
          "output_type": "execute_result",
          "data": {
            "text/plain": [
              "(2936, 367, 367)"
            ]
          },
          "metadata": {},
          "execution_count": 123
        }
      ]
    },
    {
      "cell_type": "code",
      "source": [
        "train_dataset, valid_dataset, test_dataset = data.random_split(\n",
        "    dataset,\n",
        "    [n_train_examples, n_valid_examples, n_test_examples]\n",
        ")"
      ],
      "metadata": {
        "id": "r1CXDmD75-oE"
      },
      "execution_count": null,
      "outputs": []
    },
    {
      "cell_type": "markdown",
      "source": [
        "**Augmentation**"
      ],
      "metadata": {
        "id": "3NxVOeh-Bvqm"
      }
    },
    {
      "cell_type": "code",
      "source": [
        "# resize + convert to tensor\n",
        "IMG_SIZE = 224\n",
        "\n",
        "train_transforms = transforms.Compose([\n",
        "    transforms.Resize((IMG_SIZE, IMG_SIZE)),\n",
        "    transforms.RandomHorizontalFlip(),\n",
        "    transforms.RandomRotation(0.2),\n",
        "    transforms.ToTensor(),\n",
        "    transforms.Normalize([0.5, 0.5, 0.5], [0.5, 0.5, 0.5])\n",
        "])\n",
        "\n",
        "test_transforms = transforms.Compose([\n",
        "    transforms.Resize((IMG_SIZE, IMG_SIZE)),\n",
        "    transforms.ToTensor(),\n",
        "    transforms.Normalize([0.5, 0.5, 0.5], [0.5, 0.5, 0.5])\n",
        "])"
      ],
      "metadata": {
        "id": "iT1NCq8F9yf0"
      },
      "execution_count": null,
      "outputs": []
    },
    {
      "cell_type": "code",
      "source": [
        "train_dataset.dataset.transform = train_transforms\n",
        "valid_dataset.dataset.transform = test_transforms\n",
        "test_dataset.dataset.transform = test_transforms"
      ],
      "metadata": {
        "id": "fBXUGNG-6DzP"
      },
      "execution_count": null,
      "outputs": []
    },
    {
      "cell_type": "markdown",
      "source": [
        "##**3. Dataloader**"
      ],
      "metadata": {
        "id": "lz9BBPYfHtLM"
      }
    },
    {
      "cell_type": "code",
      "source": [
        "BATCH_SIZE = 256\n",
        "\n",
        "train_dataloader = data.DataLoader(\n",
        "    train_dataset,\n",
        "    shuffle=True,\n",
        "    batch_size=BATCH_SIZE\n",
        ")\n",
        "\n",
        "valid_dataloader = data.DataLoader(\n",
        "    valid_dataset,\n",
        "    batch_size=BATCH_SIZE\n",
        ")\n",
        "\n",
        "test_dataloader = data.DataLoader(\n",
        "    test_dataset,\n",
        "    batch_size=BATCH_SIZE\n",
        ")"
      ],
      "metadata": {
        "id": "ic0f7rl56aQB"
      },
      "execution_count": null,
      "outputs": []
    },
    {
      "cell_type": "code",
      "source": [
        "inputs, labels = next(iter(train_dataloader))"
      ],
      "metadata": {
        "id": "fYAs-lDO6e1J"
      },
      "execution_count": null,
      "outputs": []
    },
    {
      "cell_type": "code",
      "source": [
        "inputs.shape"
      ],
      "metadata": {
        "colab": {
          "base_uri": "https://localhost:8080/"
        },
        "id": "Opplwv4CHfmg",
        "outputId": "f4fe17e5-bb15-4240-e0cd-76a06296ddff"
      },
      "execution_count": null,
      "outputs": [
        {
          "output_type": "execute_result",
          "data": {
            "text/plain": [
              "torch.Size([256, 3, 224, 224])"
            ]
          },
          "metadata": {},
          "execution_count": 130
        }
      ]
    },
    {
      "cell_type": "code",
      "source": [
        "len(train_dataloader)"
      ],
      "metadata": {
        "colab": {
          "base_uri": "https://localhost:8080/"
        },
        "id": "d4bpfz_7LdLs",
        "outputId": "588f5f19-98c1-4186-ae93-efb3bf5859f4"
      },
      "execution_count": null,
      "outputs": [
        {
          "output_type": "execute_result",
          "data": {
            "text/plain": [
              "12"
            ]
          },
          "metadata": {},
          "execution_count": 131
        }
      ]
    },
    {
      "cell_type": "markdown",
      "source": [
        "##**4. Trainer**"
      ],
      "metadata": {
        "id": "_uExLmvJKRS2"
      }
    },
    {
      "cell_type": "code",
      "source": [
        "def train_epoch(model, optimizer, criterion, train_dataloader, device, epoch=0, log_interval=5):\n",
        "    model.train()\n",
        "    accs, losses = [], []\n",
        "    start_time = time.time()\n",
        "\n",
        "    for idx, (inputs, labels) in enumerate(train_dataloader):\n",
        "        inputs = inputs.to(device)\n",
        "        labels = labels.to(device)\n",
        "\n",
        "        optimizer.zero_grad()\n",
        "\n",
        "        predictions = model(inputs)\n",
        "\n",
        "        # compute loss\n",
        "        loss = criterion(predictions, labels)\n",
        "        losses.append(loss.item())\n",
        "\n",
        "        # backward\n",
        "        loss.backward()\n",
        "        optimizer.step()\n",
        "\n",
        "        total_acc = (predictions.argmax(1) == labels).sum().item()\n",
        "        acc = total_acc / labels.size(0)\n",
        "        accs.append(acc)\n",
        "        if idx % log_interval == 0 and idx > 0:\n",
        "            elapsed = time.time() - start_time\n",
        "            print(\n",
        "                \"| epoch {:3d} | {:5d}/{:5d} batches \"\n",
        "                \"| accuracy {:8.3f}\".format(\n",
        "                    epoch, idx, len(train_dataloader), sum(accs) / len(accs)\n",
        "                )\n",
        "            )\n",
        "            start_time = time.time()\n",
        "\n",
        "    epoch_acc = sum(accs) / len(accs)\n",
        "    epoch_loss = sum(losses) / len(losses)\n",
        "    return epoch_acc, epoch_loss"
      ],
      "metadata": {
        "id": "gsTuucfWKTtE"
      },
      "execution_count": null,
      "outputs": []
    },
    {
      "cell_type": "code",
      "source": [
        "def evaluate_epoch(model, criterion, valid_dataloader):\n",
        "    model.eval()\n",
        "    accs, losses = [], []\n",
        "\n",
        "    with torch.no_grad():\n",
        "        for idx, (inputs, labels) in enumerate(valid_dataloader):\n",
        "            inputs = inputs.to(device)\n",
        "            labels = labels.to(device)\n",
        "\n",
        "            predictions = model(inputs)\n",
        "\n",
        "            loss = criterion(predictions, labels)\n",
        "            losses.append(loss.item())\n",
        "\n",
        "            total_acc = (predictions.argmax(1) == labels).sum().item()\n",
        "            acc = total_acc / labels.size(0)\n",
        "            accs.append(acc)\n",
        "\n",
        "    epoch_acc = sum(accs) / len(accs)\n",
        "    epoch_loss = sum(losses) / len(losses)\n",
        "    return epoch_acc, epoch_loss"
      ],
      "metadata": {
        "id": "X7kn_HbVKZyz"
      },
      "execution_count": null,
      "outputs": []
    },
    {
      "cell_type": "code",
      "source": [
        "def train(model, model_name, save_model, optimizer, criterion, train_dataloader, valid_dataloader, num_epochs, device):\n",
        "    train_accs, train_losses = [], []\n",
        "    eval_accs, eval_losses = [], []\n",
        "    best_loss_eval = 100\n",
        "    times = []\n",
        "    for epoch in range(1, num_epochs+1):\n",
        "        epoch_start_time = time.time()\n",
        "        # Training\n",
        "        train_acc, train_loss = train_epoch(model, optimizer, criterion, train_dataloader, device, epoch)\n",
        "        train_accs.append(train_acc)\n",
        "        train_losses.append(train_loss)\n",
        "\n",
        "        # Evaluation\n",
        "        eval_acc, eval_loss = evaluate_epoch(model, criterion, valid_dataloader)\n",
        "        eval_accs.append(eval_acc)\n",
        "        eval_losses.append(eval_loss)\n",
        "\n",
        "        # Save best model\n",
        "        if eval_loss < best_loss_eval:\n",
        "            torch.save(model.state_dict(), save_model + f'/{model_name}.pt')\n",
        "\n",
        "        times.append(time.time() - epoch_start_time)\n",
        "        # Print loss, acc end epoch\n",
        "        print(\"-\" * 59)\n",
        "        print(\n",
        "            \"| End of epoch {:3d} | Time: {:5.2f}s | Train Accuracy {:8.3f} | Train Loss {:8.3f} \"\n",
        "            \"| Valid Accuracy {:8.3f} | Valid Loss {:8.3f} \".format(\n",
        "                epoch, time.time() - epoch_start_time, train_acc, train_loss, eval_acc, eval_loss\n",
        "            )\n",
        "        )\n",
        "        print(\"-\" * 59)\n",
        "\n",
        "    # Load best model\n",
        "    model.load_state_dict(torch.load(save_model + f'/{model_name}.pt'))\n",
        "    model.eval()\n",
        "    metrics = {\n",
        "        'train_accuracy': train_accs,\n",
        "        'train_loss': train_losses,\n",
        "        'valid_accuracy': eval_accs,\n",
        "        'valid_loss': eval_losses,\n",
        "        'time': times\n",
        "    }\n",
        "    return model, metrics"
      ],
      "metadata": {
        "id": "yLASx-6kM0Wg"
      },
      "execution_count": null,
      "outputs": []
    },
    {
      "cell_type": "code",
      "source": [
        "def plot_result(num_epochs, train_accs, eval_accs, train_losses, eval_losses):\n",
        "    epochs = list(range(num_epochs))\n",
        "    fig, axs = plt.subplots(nrows = 1, ncols =2 , figsize = (12,6))\n",
        "    axs[0].plot(epochs, train_accs, label = \"Training\")\n",
        "    axs[0].plot(epochs, eval_accs, label = \"Evaluation\")\n",
        "    axs[1].plot(epochs, train_losses, label = \"Training\")\n",
        "    axs[1].plot(epochs, eval_losses, label = \"Evaluation\")\n",
        "    axs[0].set_xlabel(\"Epochs\")\n",
        "    axs[1].set_xlabel(\"Epochs\")\n",
        "    axs[0].set_ylabel(\"Accuracy\")\n",
        "    axs[1].set_ylabel(\"Loss\")\n",
        "    plt.legend()"
      ],
      "metadata": {
        "id": "dx2itK1p2kMu"
      },
      "execution_count": null,
      "outputs": []
    },
    {
      "cell_type": "markdown",
      "source": [
        "##**4. Model**"
      ],
      "metadata": {
        "id": "V13mwIfHIDFj"
      }
    },
    {
      "cell_type": "markdown",
      "source": [
        "###**4.1. From Scratch**"
      ],
      "metadata": {
        "id": "SQ9jpdtYIQQt"
      }
    },
    {
      "cell_type": "code",
      "source": [
        "model = models.resnet18(weights=None)"
      ],
      "metadata": {
        "id": "xCTI-HbEIV22"
      },
      "execution_count": null,
      "outputs": []
    },
    {
      "cell_type": "code",
      "source": [
        "in_features = model.fc.in_features\n",
        "model.fc = nn.Linear(in_features, num_classes)"
      ],
      "metadata": {
        "id": "cvNkDYxgJOW2"
      },
      "execution_count": null,
      "outputs": []
    },
    {
      "cell_type": "code",
      "source": [
        "model"
      ],
      "metadata": {
        "colab": {
          "base_uri": "https://localhost:8080/"
        },
        "id": "gxQg-wbOJKAl",
        "outputId": "d31fff58-abf8-4673-ea6e-ad38ea5bb280"
      },
      "execution_count": null,
      "outputs": [
        {
          "output_type": "execute_result",
          "data": {
            "text/plain": [
              "ResNet(\n",
              "  (conv1): Conv2d(3, 64, kernel_size=(7, 7), stride=(2, 2), padding=(3, 3), bias=False)\n",
              "  (bn1): BatchNorm2d(64, eps=1e-05, momentum=0.1, affine=True, track_running_stats=True)\n",
              "  (relu): ReLU(inplace=True)\n",
              "  (maxpool): MaxPool2d(kernel_size=3, stride=2, padding=1, dilation=1, ceil_mode=False)\n",
              "  (layer1): Sequential(\n",
              "    (0): BasicBlock(\n",
              "      (conv1): Conv2d(64, 64, kernel_size=(3, 3), stride=(1, 1), padding=(1, 1), bias=False)\n",
              "      (bn1): BatchNorm2d(64, eps=1e-05, momentum=0.1, affine=True, track_running_stats=True)\n",
              "      (relu): ReLU(inplace=True)\n",
              "      (conv2): Conv2d(64, 64, kernel_size=(3, 3), stride=(1, 1), padding=(1, 1), bias=False)\n",
              "      (bn2): BatchNorm2d(64, eps=1e-05, momentum=0.1, affine=True, track_running_stats=True)\n",
              "    )\n",
              "    (1): BasicBlock(\n",
              "      (conv1): Conv2d(64, 64, kernel_size=(3, 3), stride=(1, 1), padding=(1, 1), bias=False)\n",
              "      (bn1): BatchNorm2d(64, eps=1e-05, momentum=0.1, affine=True, track_running_stats=True)\n",
              "      (relu): ReLU(inplace=True)\n",
              "      (conv2): Conv2d(64, 64, kernel_size=(3, 3), stride=(1, 1), padding=(1, 1), bias=False)\n",
              "      (bn2): BatchNorm2d(64, eps=1e-05, momentum=0.1, affine=True, track_running_stats=True)\n",
              "    )\n",
              "  )\n",
              "  (layer2): Sequential(\n",
              "    (0): BasicBlock(\n",
              "      (conv1): Conv2d(64, 128, kernel_size=(3, 3), stride=(2, 2), padding=(1, 1), bias=False)\n",
              "      (bn1): BatchNorm2d(128, eps=1e-05, momentum=0.1, affine=True, track_running_stats=True)\n",
              "      (relu): ReLU(inplace=True)\n",
              "      (conv2): Conv2d(128, 128, kernel_size=(3, 3), stride=(1, 1), padding=(1, 1), bias=False)\n",
              "      (bn2): BatchNorm2d(128, eps=1e-05, momentum=0.1, affine=True, track_running_stats=True)\n",
              "      (downsample): Sequential(\n",
              "        (0): Conv2d(64, 128, kernel_size=(1, 1), stride=(2, 2), bias=False)\n",
              "        (1): BatchNorm2d(128, eps=1e-05, momentum=0.1, affine=True, track_running_stats=True)\n",
              "      )\n",
              "    )\n",
              "    (1): BasicBlock(\n",
              "      (conv1): Conv2d(128, 128, kernel_size=(3, 3), stride=(1, 1), padding=(1, 1), bias=False)\n",
              "      (bn1): BatchNorm2d(128, eps=1e-05, momentum=0.1, affine=True, track_running_stats=True)\n",
              "      (relu): ReLU(inplace=True)\n",
              "      (conv2): Conv2d(128, 128, kernel_size=(3, 3), stride=(1, 1), padding=(1, 1), bias=False)\n",
              "      (bn2): BatchNorm2d(128, eps=1e-05, momentum=0.1, affine=True, track_running_stats=True)\n",
              "    )\n",
              "  )\n",
              "  (layer3): Sequential(\n",
              "    (0): BasicBlock(\n",
              "      (conv1): Conv2d(128, 256, kernel_size=(3, 3), stride=(2, 2), padding=(1, 1), bias=False)\n",
              "      (bn1): BatchNorm2d(256, eps=1e-05, momentum=0.1, affine=True, track_running_stats=True)\n",
              "      (relu): ReLU(inplace=True)\n",
              "      (conv2): Conv2d(256, 256, kernel_size=(3, 3), stride=(1, 1), padding=(1, 1), bias=False)\n",
              "      (bn2): BatchNorm2d(256, eps=1e-05, momentum=0.1, affine=True, track_running_stats=True)\n",
              "      (downsample): Sequential(\n",
              "        (0): Conv2d(128, 256, kernel_size=(1, 1), stride=(2, 2), bias=False)\n",
              "        (1): BatchNorm2d(256, eps=1e-05, momentum=0.1, affine=True, track_running_stats=True)\n",
              "      )\n",
              "    )\n",
              "    (1): BasicBlock(\n",
              "      (conv1): Conv2d(256, 256, kernel_size=(3, 3), stride=(1, 1), padding=(1, 1), bias=False)\n",
              "      (bn1): BatchNorm2d(256, eps=1e-05, momentum=0.1, affine=True, track_running_stats=True)\n",
              "      (relu): ReLU(inplace=True)\n",
              "      (conv2): Conv2d(256, 256, kernel_size=(3, 3), stride=(1, 1), padding=(1, 1), bias=False)\n",
              "      (bn2): BatchNorm2d(256, eps=1e-05, momentum=0.1, affine=True, track_running_stats=True)\n",
              "    )\n",
              "  )\n",
              "  (layer4): Sequential(\n",
              "    (0): BasicBlock(\n",
              "      (conv1): Conv2d(256, 512, kernel_size=(3, 3), stride=(2, 2), padding=(1, 1), bias=False)\n",
              "      (bn1): BatchNorm2d(512, eps=1e-05, momentum=0.1, affine=True, track_running_stats=True)\n",
              "      (relu): ReLU(inplace=True)\n",
              "      (conv2): Conv2d(512, 512, kernel_size=(3, 3), stride=(1, 1), padding=(1, 1), bias=False)\n",
              "      (bn2): BatchNorm2d(512, eps=1e-05, momentum=0.1, affine=True, track_running_stats=True)\n",
              "      (downsample): Sequential(\n",
              "        (0): Conv2d(256, 512, kernel_size=(1, 1), stride=(2, 2), bias=False)\n",
              "        (1): BatchNorm2d(512, eps=1e-05, momentum=0.1, affine=True, track_running_stats=True)\n",
              "      )\n",
              "    )\n",
              "    (1): BasicBlock(\n",
              "      (conv1): Conv2d(512, 512, kernel_size=(3, 3), stride=(1, 1), padding=(1, 1), bias=False)\n",
              "      (bn1): BatchNorm2d(512, eps=1e-05, momentum=0.1, affine=True, track_running_stats=True)\n",
              "      (relu): ReLU(inplace=True)\n",
              "      (conv2): Conv2d(512, 512, kernel_size=(3, 3), stride=(1, 1), padding=(1, 1), bias=False)\n",
              "      (bn2): BatchNorm2d(512, eps=1e-05, momentum=0.1, affine=True, track_running_stats=True)\n",
              "    )\n",
              "  )\n",
              "  (avgpool): AdaptiveAvgPool2d(output_size=(1, 1))\n",
              "  (fc): Linear(in_features=512, out_features=1000, bias=True)\n",
              ")"
            ]
          },
          "metadata": {},
          "execution_count": 84
        }
      ]
    },
    {
      "cell_type": "code",
      "source": [
        "model"
      ],
      "metadata": {
        "colab": {
          "base_uri": "https://localhost:8080/"
        },
        "id": "hp7Q54JwJlYB",
        "outputId": "af529239-bb7d-4869-8478-7f4e1d0baf6a"
      },
      "execution_count": null,
      "outputs": [
        {
          "output_type": "execute_result",
          "data": {
            "text/plain": [
              "ResNet(\n",
              "  (conv1): Conv2d(3, 64, kernel_size=(7, 7), stride=(2, 2), padding=(3, 3), bias=False)\n",
              "  (bn1): BatchNorm2d(64, eps=1e-05, momentum=0.1, affine=True, track_running_stats=True)\n",
              "  (relu): ReLU(inplace=True)\n",
              "  (maxpool): MaxPool2d(kernel_size=3, stride=2, padding=1, dilation=1, ceil_mode=False)\n",
              "  (layer1): Sequential(\n",
              "    (0): BasicBlock(\n",
              "      (conv1): Conv2d(64, 64, kernel_size=(3, 3), stride=(1, 1), padding=(1, 1), bias=False)\n",
              "      (bn1): BatchNorm2d(64, eps=1e-05, momentum=0.1, affine=True, track_running_stats=True)\n",
              "      (relu): ReLU(inplace=True)\n",
              "      (conv2): Conv2d(64, 64, kernel_size=(3, 3), stride=(1, 1), padding=(1, 1), bias=False)\n",
              "      (bn2): BatchNorm2d(64, eps=1e-05, momentum=0.1, affine=True, track_running_stats=True)\n",
              "    )\n",
              "    (1): BasicBlock(\n",
              "      (conv1): Conv2d(64, 64, kernel_size=(3, 3), stride=(1, 1), padding=(1, 1), bias=False)\n",
              "      (bn1): BatchNorm2d(64, eps=1e-05, momentum=0.1, affine=True, track_running_stats=True)\n",
              "      (relu): ReLU(inplace=True)\n",
              "      (conv2): Conv2d(64, 64, kernel_size=(3, 3), stride=(1, 1), padding=(1, 1), bias=False)\n",
              "      (bn2): BatchNorm2d(64, eps=1e-05, momentum=0.1, affine=True, track_running_stats=True)\n",
              "    )\n",
              "  )\n",
              "  (layer2): Sequential(\n",
              "    (0): BasicBlock(\n",
              "      (conv1): Conv2d(64, 128, kernel_size=(3, 3), stride=(2, 2), padding=(1, 1), bias=False)\n",
              "      (bn1): BatchNorm2d(128, eps=1e-05, momentum=0.1, affine=True, track_running_stats=True)\n",
              "      (relu): ReLU(inplace=True)\n",
              "      (conv2): Conv2d(128, 128, kernel_size=(3, 3), stride=(1, 1), padding=(1, 1), bias=False)\n",
              "      (bn2): BatchNorm2d(128, eps=1e-05, momentum=0.1, affine=True, track_running_stats=True)\n",
              "      (downsample): Sequential(\n",
              "        (0): Conv2d(64, 128, kernel_size=(1, 1), stride=(2, 2), bias=False)\n",
              "        (1): BatchNorm2d(128, eps=1e-05, momentum=0.1, affine=True, track_running_stats=True)\n",
              "      )\n",
              "    )\n",
              "    (1): BasicBlock(\n",
              "      (conv1): Conv2d(128, 128, kernel_size=(3, 3), stride=(1, 1), padding=(1, 1), bias=False)\n",
              "      (bn1): BatchNorm2d(128, eps=1e-05, momentum=0.1, affine=True, track_running_stats=True)\n",
              "      (relu): ReLU(inplace=True)\n",
              "      (conv2): Conv2d(128, 128, kernel_size=(3, 3), stride=(1, 1), padding=(1, 1), bias=False)\n",
              "      (bn2): BatchNorm2d(128, eps=1e-05, momentum=0.1, affine=True, track_running_stats=True)\n",
              "    )\n",
              "  )\n",
              "  (layer3): Sequential(\n",
              "    (0): BasicBlock(\n",
              "      (conv1): Conv2d(128, 256, kernel_size=(3, 3), stride=(2, 2), padding=(1, 1), bias=False)\n",
              "      (bn1): BatchNorm2d(256, eps=1e-05, momentum=0.1, affine=True, track_running_stats=True)\n",
              "      (relu): ReLU(inplace=True)\n",
              "      (conv2): Conv2d(256, 256, kernel_size=(3, 3), stride=(1, 1), padding=(1, 1), bias=False)\n",
              "      (bn2): BatchNorm2d(256, eps=1e-05, momentum=0.1, affine=True, track_running_stats=True)\n",
              "      (downsample): Sequential(\n",
              "        (0): Conv2d(128, 256, kernel_size=(1, 1), stride=(2, 2), bias=False)\n",
              "        (1): BatchNorm2d(256, eps=1e-05, momentum=0.1, affine=True, track_running_stats=True)\n",
              "      )\n",
              "    )\n",
              "    (1): BasicBlock(\n",
              "      (conv1): Conv2d(256, 256, kernel_size=(3, 3), stride=(1, 1), padding=(1, 1), bias=False)\n",
              "      (bn1): BatchNorm2d(256, eps=1e-05, momentum=0.1, affine=True, track_running_stats=True)\n",
              "      (relu): ReLU(inplace=True)\n",
              "      (conv2): Conv2d(256, 256, kernel_size=(3, 3), stride=(1, 1), padding=(1, 1), bias=False)\n",
              "      (bn2): BatchNorm2d(256, eps=1e-05, momentum=0.1, affine=True, track_running_stats=True)\n",
              "    )\n",
              "  )\n",
              "  (layer4): Sequential(\n",
              "    (0): BasicBlock(\n",
              "      (conv1): Conv2d(256, 512, kernel_size=(3, 3), stride=(2, 2), padding=(1, 1), bias=False)\n",
              "      (bn1): BatchNorm2d(512, eps=1e-05, momentum=0.1, affine=True, track_running_stats=True)\n",
              "      (relu): ReLU(inplace=True)\n",
              "      (conv2): Conv2d(512, 512, kernel_size=(3, 3), stride=(1, 1), padding=(1, 1), bias=False)\n",
              "      (bn2): BatchNorm2d(512, eps=1e-05, momentum=0.1, affine=True, track_running_stats=True)\n",
              "      (downsample): Sequential(\n",
              "        (0): Conv2d(256, 512, kernel_size=(1, 1), stride=(2, 2), bias=False)\n",
              "        (1): BatchNorm2d(512, eps=1e-05, momentum=0.1, affine=True, track_running_stats=True)\n",
              "      )\n",
              "    )\n",
              "    (1): BasicBlock(\n",
              "      (conv1): Conv2d(512, 512, kernel_size=(3, 3), stride=(1, 1), padding=(1, 1), bias=False)\n",
              "      (bn1): BatchNorm2d(512, eps=1e-05, momentum=0.1, affine=True, track_running_stats=True)\n",
              "      (relu): ReLU(inplace=True)\n",
              "      (conv2): Conv2d(512, 512, kernel_size=(3, 3), stride=(1, 1), padding=(1, 1), bias=False)\n",
              "      (bn2): BatchNorm2d(512, eps=1e-05, momentum=0.1, affine=True, track_running_stats=True)\n",
              "    )\n",
              "  )\n",
              "  (avgpool): AdaptiveAvgPool2d(output_size=(1, 1))\n",
              "  (fc): Linear(in_features=512, out_features=5, bias=True)\n",
              ")"
            ]
          },
          "metadata": {},
          "execution_count": 86
        }
      ]
    },
    {
      "cell_type": "code",
      "source": [
        "device = torch.device('cuda' if torch.cuda.is_available() else 'cpu')"
      ],
      "metadata": {
        "id": "v7c1hN4XKlOz"
      },
      "execution_count": null,
      "outputs": []
    },
    {
      "cell_type": "code",
      "source": [
        "model.to(device)"
      ],
      "metadata": {
        "colab": {
          "base_uri": "https://localhost:8080/"
        },
        "id": "40tNVygtLtUF",
        "outputId": "baa4bb1e-0a65-47c3-b569-ff598e3f1c75"
      },
      "execution_count": null,
      "outputs": [
        {
          "output_type": "execute_result",
          "data": {
            "text/plain": [
              "ResNet(\n",
              "  (conv1): Conv2d(3, 64, kernel_size=(7, 7), stride=(2, 2), padding=(3, 3), bias=False)\n",
              "  (bn1): BatchNorm2d(64, eps=1e-05, momentum=0.1, affine=True, track_running_stats=True)\n",
              "  (relu): ReLU(inplace=True)\n",
              "  (maxpool): MaxPool2d(kernel_size=3, stride=2, padding=1, dilation=1, ceil_mode=False)\n",
              "  (layer1): Sequential(\n",
              "    (0): BasicBlock(\n",
              "      (conv1): Conv2d(64, 64, kernel_size=(3, 3), stride=(1, 1), padding=(1, 1), bias=False)\n",
              "      (bn1): BatchNorm2d(64, eps=1e-05, momentum=0.1, affine=True, track_running_stats=True)\n",
              "      (relu): ReLU(inplace=True)\n",
              "      (conv2): Conv2d(64, 64, kernel_size=(3, 3), stride=(1, 1), padding=(1, 1), bias=False)\n",
              "      (bn2): BatchNorm2d(64, eps=1e-05, momentum=0.1, affine=True, track_running_stats=True)\n",
              "    )\n",
              "    (1): BasicBlock(\n",
              "      (conv1): Conv2d(64, 64, kernel_size=(3, 3), stride=(1, 1), padding=(1, 1), bias=False)\n",
              "      (bn1): BatchNorm2d(64, eps=1e-05, momentum=0.1, affine=True, track_running_stats=True)\n",
              "      (relu): ReLU(inplace=True)\n",
              "      (conv2): Conv2d(64, 64, kernel_size=(3, 3), stride=(1, 1), padding=(1, 1), bias=False)\n",
              "      (bn2): BatchNorm2d(64, eps=1e-05, momentum=0.1, affine=True, track_running_stats=True)\n",
              "    )\n",
              "  )\n",
              "  (layer2): Sequential(\n",
              "    (0): BasicBlock(\n",
              "      (conv1): Conv2d(64, 128, kernel_size=(3, 3), stride=(2, 2), padding=(1, 1), bias=False)\n",
              "      (bn1): BatchNorm2d(128, eps=1e-05, momentum=0.1, affine=True, track_running_stats=True)\n",
              "      (relu): ReLU(inplace=True)\n",
              "      (conv2): Conv2d(128, 128, kernel_size=(3, 3), stride=(1, 1), padding=(1, 1), bias=False)\n",
              "      (bn2): BatchNorm2d(128, eps=1e-05, momentum=0.1, affine=True, track_running_stats=True)\n",
              "      (downsample): Sequential(\n",
              "        (0): Conv2d(64, 128, kernel_size=(1, 1), stride=(2, 2), bias=False)\n",
              "        (1): BatchNorm2d(128, eps=1e-05, momentum=0.1, affine=True, track_running_stats=True)\n",
              "      )\n",
              "    )\n",
              "    (1): BasicBlock(\n",
              "      (conv1): Conv2d(128, 128, kernel_size=(3, 3), stride=(1, 1), padding=(1, 1), bias=False)\n",
              "      (bn1): BatchNorm2d(128, eps=1e-05, momentum=0.1, affine=True, track_running_stats=True)\n",
              "      (relu): ReLU(inplace=True)\n",
              "      (conv2): Conv2d(128, 128, kernel_size=(3, 3), stride=(1, 1), padding=(1, 1), bias=False)\n",
              "      (bn2): BatchNorm2d(128, eps=1e-05, momentum=0.1, affine=True, track_running_stats=True)\n",
              "    )\n",
              "  )\n",
              "  (layer3): Sequential(\n",
              "    (0): BasicBlock(\n",
              "      (conv1): Conv2d(128, 256, kernel_size=(3, 3), stride=(2, 2), padding=(1, 1), bias=False)\n",
              "      (bn1): BatchNorm2d(256, eps=1e-05, momentum=0.1, affine=True, track_running_stats=True)\n",
              "      (relu): ReLU(inplace=True)\n",
              "      (conv2): Conv2d(256, 256, kernel_size=(3, 3), stride=(1, 1), padding=(1, 1), bias=False)\n",
              "      (bn2): BatchNorm2d(256, eps=1e-05, momentum=0.1, affine=True, track_running_stats=True)\n",
              "      (downsample): Sequential(\n",
              "        (0): Conv2d(128, 256, kernel_size=(1, 1), stride=(2, 2), bias=False)\n",
              "        (1): BatchNorm2d(256, eps=1e-05, momentum=0.1, affine=True, track_running_stats=True)\n",
              "      )\n",
              "    )\n",
              "    (1): BasicBlock(\n",
              "      (conv1): Conv2d(256, 256, kernel_size=(3, 3), stride=(1, 1), padding=(1, 1), bias=False)\n",
              "      (bn1): BatchNorm2d(256, eps=1e-05, momentum=0.1, affine=True, track_running_stats=True)\n",
              "      (relu): ReLU(inplace=True)\n",
              "      (conv2): Conv2d(256, 256, kernel_size=(3, 3), stride=(1, 1), padding=(1, 1), bias=False)\n",
              "      (bn2): BatchNorm2d(256, eps=1e-05, momentum=0.1, affine=True, track_running_stats=True)\n",
              "    )\n",
              "  )\n",
              "  (layer4): Sequential(\n",
              "    (0): BasicBlock(\n",
              "      (conv1): Conv2d(256, 512, kernel_size=(3, 3), stride=(2, 2), padding=(1, 1), bias=False)\n",
              "      (bn1): BatchNorm2d(512, eps=1e-05, momentum=0.1, affine=True, track_running_stats=True)\n",
              "      (relu): ReLU(inplace=True)\n",
              "      (conv2): Conv2d(512, 512, kernel_size=(3, 3), stride=(1, 1), padding=(1, 1), bias=False)\n",
              "      (bn2): BatchNorm2d(512, eps=1e-05, momentum=0.1, affine=True, track_running_stats=True)\n",
              "      (downsample): Sequential(\n",
              "        (0): Conv2d(256, 512, kernel_size=(1, 1), stride=(2, 2), bias=False)\n",
              "        (1): BatchNorm2d(512, eps=1e-05, momentum=0.1, affine=True, track_running_stats=True)\n",
              "      )\n",
              "    )\n",
              "    (1): BasicBlock(\n",
              "      (conv1): Conv2d(512, 512, kernel_size=(3, 3), stride=(1, 1), padding=(1, 1), bias=False)\n",
              "      (bn1): BatchNorm2d(512, eps=1e-05, momentum=0.1, affine=True, track_running_stats=True)\n",
              "      (relu): ReLU(inplace=True)\n",
              "      (conv2): Conv2d(512, 512, kernel_size=(3, 3), stride=(1, 1), padding=(1, 1), bias=False)\n",
              "      (bn2): BatchNorm2d(512, eps=1e-05, momentum=0.1, affine=True, track_running_stats=True)\n",
              "    )\n",
              "  )\n",
              "  (avgpool): AdaptiveAvgPool2d(output_size=(1, 1))\n",
              "  (fc): Linear(in_features=512, out_features=5, bias=True)\n",
              ")"
            ]
          },
          "metadata": {},
          "execution_count": 88
        }
      ]
    },
    {
      "cell_type": "code",
      "source": [
        "summary(model, (3, 224, 224))"
      ],
      "metadata": {
        "colab": {
          "base_uri": "https://localhost:8080/"
        },
        "id": "Cg_niEdzJoGq",
        "outputId": "04817d8a-d575-4201-c0fa-37bf840f38ae"
      },
      "execution_count": null,
      "outputs": [
        {
          "output_type": "stream",
          "name": "stdout",
          "text": [
            "----------------------------------------------------------------\n",
            "        Layer (type)               Output Shape         Param #\n",
            "================================================================\n",
            "            Conv2d-1         [-1, 64, 112, 112]           9,408\n",
            "       BatchNorm2d-2         [-1, 64, 112, 112]             128\n",
            "              ReLU-3         [-1, 64, 112, 112]               0\n",
            "         MaxPool2d-4           [-1, 64, 56, 56]               0\n",
            "            Conv2d-5           [-1, 64, 56, 56]          36,864\n",
            "       BatchNorm2d-6           [-1, 64, 56, 56]             128\n",
            "              ReLU-7           [-1, 64, 56, 56]               0\n",
            "            Conv2d-8           [-1, 64, 56, 56]          36,864\n",
            "       BatchNorm2d-9           [-1, 64, 56, 56]             128\n",
            "             ReLU-10           [-1, 64, 56, 56]               0\n",
            "       BasicBlock-11           [-1, 64, 56, 56]               0\n",
            "           Conv2d-12           [-1, 64, 56, 56]          36,864\n",
            "      BatchNorm2d-13           [-1, 64, 56, 56]             128\n",
            "             ReLU-14           [-1, 64, 56, 56]               0\n",
            "           Conv2d-15           [-1, 64, 56, 56]          36,864\n",
            "      BatchNorm2d-16           [-1, 64, 56, 56]             128\n",
            "             ReLU-17           [-1, 64, 56, 56]               0\n",
            "       BasicBlock-18           [-1, 64, 56, 56]               0\n",
            "           Conv2d-19          [-1, 128, 28, 28]          73,728\n",
            "      BatchNorm2d-20          [-1, 128, 28, 28]             256\n",
            "             ReLU-21          [-1, 128, 28, 28]               0\n",
            "           Conv2d-22          [-1, 128, 28, 28]         147,456\n",
            "      BatchNorm2d-23          [-1, 128, 28, 28]             256\n",
            "           Conv2d-24          [-1, 128, 28, 28]           8,192\n",
            "      BatchNorm2d-25          [-1, 128, 28, 28]             256\n",
            "             ReLU-26          [-1, 128, 28, 28]               0\n",
            "       BasicBlock-27          [-1, 128, 28, 28]               0\n",
            "           Conv2d-28          [-1, 128, 28, 28]         147,456\n",
            "      BatchNorm2d-29          [-1, 128, 28, 28]             256\n",
            "             ReLU-30          [-1, 128, 28, 28]               0\n",
            "           Conv2d-31          [-1, 128, 28, 28]         147,456\n",
            "      BatchNorm2d-32          [-1, 128, 28, 28]             256\n",
            "             ReLU-33          [-1, 128, 28, 28]               0\n",
            "       BasicBlock-34          [-1, 128, 28, 28]               0\n",
            "           Conv2d-35          [-1, 256, 14, 14]         294,912\n",
            "      BatchNorm2d-36          [-1, 256, 14, 14]             512\n",
            "             ReLU-37          [-1, 256, 14, 14]               0\n",
            "           Conv2d-38          [-1, 256, 14, 14]         589,824\n",
            "      BatchNorm2d-39          [-1, 256, 14, 14]             512\n",
            "           Conv2d-40          [-1, 256, 14, 14]          32,768\n",
            "      BatchNorm2d-41          [-1, 256, 14, 14]             512\n",
            "             ReLU-42          [-1, 256, 14, 14]               0\n",
            "       BasicBlock-43          [-1, 256, 14, 14]               0\n",
            "           Conv2d-44          [-1, 256, 14, 14]         589,824\n",
            "      BatchNorm2d-45          [-1, 256, 14, 14]             512\n",
            "             ReLU-46          [-1, 256, 14, 14]               0\n",
            "           Conv2d-47          [-1, 256, 14, 14]         589,824\n",
            "      BatchNorm2d-48          [-1, 256, 14, 14]             512\n",
            "             ReLU-49          [-1, 256, 14, 14]               0\n",
            "       BasicBlock-50          [-1, 256, 14, 14]               0\n",
            "           Conv2d-51            [-1, 512, 7, 7]       1,179,648\n",
            "      BatchNorm2d-52            [-1, 512, 7, 7]           1,024\n",
            "             ReLU-53            [-1, 512, 7, 7]               0\n",
            "           Conv2d-54            [-1, 512, 7, 7]       2,359,296\n",
            "      BatchNorm2d-55            [-1, 512, 7, 7]           1,024\n",
            "           Conv2d-56            [-1, 512, 7, 7]         131,072\n",
            "      BatchNorm2d-57            [-1, 512, 7, 7]           1,024\n",
            "             ReLU-58            [-1, 512, 7, 7]               0\n",
            "       BasicBlock-59            [-1, 512, 7, 7]               0\n",
            "           Conv2d-60            [-1, 512, 7, 7]       2,359,296\n",
            "      BatchNorm2d-61            [-1, 512, 7, 7]           1,024\n",
            "             ReLU-62            [-1, 512, 7, 7]               0\n",
            "           Conv2d-63            [-1, 512, 7, 7]       2,359,296\n",
            "      BatchNorm2d-64            [-1, 512, 7, 7]           1,024\n",
            "             ReLU-65            [-1, 512, 7, 7]               0\n",
            "       BasicBlock-66            [-1, 512, 7, 7]               0\n",
            "AdaptiveAvgPool2d-67            [-1, 512, 1, 1]               0\n",
            "           Linear-68                    [-1, 5]           2,565\n",
            "================================================================\n",
            "Total params: 11,179,077\n",
            "Trainable params: 11,179,077\n",
            "Non-trainable params: 0\n",
            "----------------------------------------------------------------\n",
            "Input size (MB): 0.57\n",
            "Forward/backward pass size (MB): 62.79\n",
            "Params size (MB): 42.64\n",
            "Estimated Total Size (MB): 106.00\n",
            "----------------------------------------------------------------\n"
          ]
        }
      ]
    },
    {
      "cell_type": "code",
      "source": [
        "predictions = model(inputs.to(device))"
      ],
      "metadata": {
        "id": "OWcqI7AqJ3gT"
      },
      "execution_count": null,
      "outputs": []
    },
    {
      "cell_type": "code",
      "source": [
        "predictions.shape"
      ],
      "metadata": {
        "colab": {
          "base_uri": "https://localhost:8080/"
        },
        "id": "ZEvVLZECJ7DB",
        "outputId": "238f04a5-0053-4a9a-fac2-6d473edebda5"
      },
      "execution_count": null,
      "outputs": [
        {
          "output_type": "execute_result",
          "data": {
            "text/plain": [
              "torch.Size([256, 5])"
            ]
          },
          "metadata": {},
          "execution_count": 91
        }
      ]
    },
    {
      "cell_type": "code",
      "source": [
        "optimizer = optim.Adam(model.parameters())\n",
        "criterion = nn.CrossEntropyLoss()"
      ],
      "metadata": {
        "id": "bl_FATGAKfQS"
      },
      "execution_count": null,
      "outputs": []
    },
    {
      "cell_type": "code",
      "source": [
        "loss = criterion(predictions, labels.to(device))\n",
        "loss"
      ],
      "metadata": {
        "colab": {
          "base_uri": "https://localhost:8080/"
        },
        "id": "xZqmiXtfKiKB",
        "outputId": "1a6b40a5-e1e8-455b-d5e5-54818ed97c3a"
      },
      "execution_count": null,
      "outputs": [
        {
          "output_type": "execute_result",
          "data": {
            "text/plain": [
              "tensor(1.7518, device='cuda:0', grad_fn=<NllLossBackward0>)"
            ]
          },
          "metadata": {},
          "execution_count": 93
        }
      ]
    },
    {
      "cell_type": "code",
      "source": [
        "train_acc, train_loss = train_epoch(model, optimizer, criterion, train_dataloader, device)\n",
        "train_acc, train_loss"
      ],
      "metadata": {
        "colab": {
          "base_uri": "https://localhost:8080/"
        },
        "id": "RdBjCDa9Kn6k",
        "outputId": "098defce-aad7-4a2b-c53c-aeea8f83806f"
      },
      "execution_count": null,
      "outputs": [
        {
          "output_type": "stream",
          "name": "stdout",
          "text": [
            "| epoch   0 |     5/   12 batches | accuracy    0.338\n",
            "| epoch   0 |    10/   12 batches | accuracy    0.418\n"
          ]
        },
        {
          "output_type": "execute_result",
          "data": {
            "text/plain": [
              "(0.4293402777777778, 1.5094538033008575)"
            ]
          },
          "metadata": {},
          "execution_count": 94
        }
      ]
    },
    {
      "cell_type": "code",
      "source": [
        "eval_acc, eval_loss = evaluate_epoch(model, criterion, valid_dataloader)\n",
        "eval_acc, eval_loss"
      ],
      "metadata": {
        "colab": {
          "base_uri": "https://localhost:8080/"
        },
        "id": "YIk3fO3Knh0q",
        "outputId": "811ffdaf-f977-4d02-d977-e285ef588de0"
      },
      "execution_count": null,
      "outputs": [
        {
          "output_type": "execute_result",
          "data": {
            "text/plain": [
              "(0.21086711711711711, 3.8904836177825928)"
            ]
          },
          "metadata": {},
          "execution_count": 95
        }
      ]
    },
    {
      "cell_type": "code",
      "source": [
        "base_model = models.resnet18(weights=None)\n",
        "in_features = base_model.fc.in_features\n",
        "base_model.fc = nn.Linear(in_features, num_classes)\n",
        "\n",
        "device = torch.device('cuda' if torch.cuda.is_available() else 'cpu')\n",
        "base_model.to(device)\n",
        "\n",
        "criterion = torch.nn.CrossEntropyLoss()\n",
        "optimizer = optim.Adam(base_model.parameters(), lr=0.0001)\n",
        "\n",
        "num_epochs = 50\n",
        "save_model = './model'\n",
        "os.makedirs(save_model, exist_ok = True)\n",
        "model_name = 'base_model'\n",
        "\n",
        "base_model, base_metrics = train(\n",
        "    base_model, model_name, save_model, optimizer, criterion, train_dataloader, valid_dataloader, num_epochs, device\n",
        ")"
      ],
      "metadata": {
        "colab": {
          "base_uri": "https://localhost:8080/"
        },
        "id": "hTOOGmnWipOH",
        "outputId": "1934bb72-2562-486a-f32b-5d728b2c7bda"
      },
      "execution_count": null,
      "outputs": [
        {
          "output_type": "stream",
          "name": "stdout",
          "text": [
            "| epoch   1 |     5/   12 batches | accuracy    0.410\n",
            "| epoch   1 |    10/   12 batches | accuracy    0.483\n",
            "-----------------------------------------------------------\n",
            "| End of epoch   1 | Time: 24.84s | Train Accuracy    0.488 | Train Loss    1.261 | Valid Accuracy    0.243 | Valid Loss    2.478 \n",
            "-----------------------------------------------------------\n",
            "| epoch   2 |     5/   12 batches | accuracy    0.637\n",
            "| epoch   2 |    10/   12 batches | accuracy    0.634\n",
            "-----------------------------------------------------------\n",
            "| End of epoch   2 | Time: 22.33s | Train Accuracy    0.638 | Train Loss    0.940 | Valid Accuracy    0.284 | Valid Loss    2.105 \n",
            "-----------------------------------------------------------\n",
            "| epoch   3 |     5/   12 batches | accuracy    0.704\n",
            "| epoch   3 |    10/   12 batches | accuracy    0.715\n",
            "-----------------------------------------------------------\n",
            "| End of epoch   3 | Time: 23.25s | Train Accuracy    0.719 | Train Loss    0.758 | Valid Accuracy    0.480 | Valid Loss    1.469 \n",
            "-----------------------------------------------------------\n",
            "| epoch   4 |     5/   12 batches | accuracy    0.761\n",
            "| epoch   4 |    10/   12 batches | accuracy    0.777\n",
            "-----------------------------------------------------------\n",
            "| End of epoch   4 | Time: 23.87s | Train Accuracy    0.777 | Train Loss    0.609 | Valid Accuracy    0.624 | Valid Loss    1.075 \n",
            "-----------------------------------------------------------\n",
            "| epoch   5 |     5/   12 batches | accuracy    0.836\n",
            "| epoch   5 |    10/   12 batches | accuracy    0.839\n",
            "-----------------------------------------------------------\n",
            "| End of epoch   5 | Time: 23.39s | Train Accuracy    0.839 | Train Loss    0.471 | Valid Accuracy    0.712 | Valid Loss    0.781 \n",
            "-----------------------------------------------------------\n",
            "| epoch   6 |     5/   12 batches | accuracy    0.902\n",
            "| epoch   6 |    10/   12 batches | accuracy    0.903\n",
            "-----------------------------------------------------------\n",
            "| End of epoch   6 | Time: 24.57s | Train Accuracy    0.903 | Train Loss    0.330 | Valid Accuracy    0.606 | Valid Loss    1.104 \n",
            "-----------------------------------------------------------\n",
            "| epoch   7 |     5/   12 batches | accuracy    0.924\n",
            "| epoch   7 |    10/   12 batches | accuracy    0.929\n",
            "-----------------------------------------------------------\n",
            "| End of epoch   7 | Time: 23.38s | Train Accuracy    0.930 | Train Loss    0.257 | Valid Accuracy    0.654 | Valid Loss    1.112 \n",
            "-----------------------------------------------------------\n",
            "| epoch   8 |     5/   12 batches | accuracy    0.962\n",
            "| epoch   8 |    10/   12 batches | accuracy    0.959\n",
            "-----------------------------------------------------------\n",
            "| End of epoch   8 | Time: 24.71s | Train Accuracy    0.960 | Train Loss    0.172 | Valid Accuracy    0.681 | Valid Loss    1.003 \n",
            "-----------------------------------------------------------\n",
            "| epoch   9 |     5/   12 batches | accuracy    0.980\n",
            "| epoch   9 |    10/   12 batches | accuracy    0.983\n",
            "-----------------------------------------------------------\n",
            "| End of epoch   9 | Time: 23.38s | Train Accuracy    0.983 | Train Loss    0.098 | Valid Accuracy    0.731 | Valid Loss    0.821 \n",
            "-----------------------------------------------------------\n",
            "| epoch  10 |     5/   12 batches | accuracy    0.993\n",
            "| epoch  10 |    10/   12 batches | accuracy    0.994\n",
            "-----------------------------------------------------------\n",
            "| End of epoch  10 | Time: 26.20s | Train Accuracy    0.993 | Train Loss    0.057 | Valid Accuracy    0.697 | Valid Loss    0.975 \n",
            "-----------------------------------------------------------\n",
            "| epoch  11 |     5/   12 batches | accuracy    0.997\n",
            "| epoch  11 |    10/   12 batches | accuracy    0.997\n",
            "-----------------------------------------------------------\n",
            "| End of epoch  11 | Time: 24.03s | Train Accuracy    0.997 | Train Loss    0.031 | Valid Accuracy    0.617 | Valid Loss    1.331 \n",
            "-----------------------------------------------------------\n",
            "| epoch  12 |     5/   12 batches | accuracy    0.998\n",
            "| epoch  12 |    10/   12 batches | accuracy    0.998\n",
            "-----------------------------------------------------------\n",
            "| End of epoch  12 | Time: 22.72s | Train Accuracy    0.998 | Train Loss    0.026 | Valid Accuracy    0.702 | Valid Loss    0.868 \n",
            "-----------------------------------------------------------\n",
            "| epoch  13 |     5/   12 batches | accuracy    0.998\n",
            "| epoch  13 |    10/   12 batches | accuracy    0.999\n",
            "-----------------------------------------------------------\n",
            "| End of epoch  13 | Time: 23.96s | Train Accuracy    0.999 | Train Loss    0.015 | Valid Accuracy    0.704 | Valid Loss    0.949 \n",
            "-----------------------------------------------------------\n",
            "| epoch  14 |     5/   12 batches | accuracy    0.999\n",
            "| epoch  14 |    10/   12 batches | accuracy    0.999\n",
            "-----------------------------------------------------------\n",
            "| End of epoch  14 | Time: 22.46s | Train Accuracy    0.999 | Train Loss    0.010 | Valid Accuracy    0.712 | Valid Loss    0.916 \n",
            "-----------------------------------------------------------\n",
            "| epoch  15 |     5/   12 batches | accuracy    0.999\n",
            "| epoch  15 |    10/   12 batches | accuracy    1.000\n",
            "-----------------------------------------------------------\n",
            "| End of epoch  15 | Time: 23.41s | Train Accuracy    1.000 | Train Loss    0.007 | Valid Accuracy    0.750 | Valid Loss    0.835 \n",
            "-----------------------------------------------------------\n",
            "| epoch  16 |     5/   12 batches | accuracy    1.000\n",
            "| epoch  16 |    10/   12 batches | accuracy    1.000\n",
            "-----------------------------------------------------------\n",
            "| End of epoch  16 | Time: 23.37s | Train Accuracy    1.000 | Train Loss    0.006 | Valid Accuracy    0.730 | Valid Loss    0.824 \n",
            "-----------------------------------------------------------\n",
            "| epoch  17 |     5/   12 batches | accuracy    1.000\n",
            "| epoch  17 |    10/   12 batches | accuracy    1.000\n",
            "-----------------------------------------------------------\n",
            "| End of epoch  17 | Time: 24.40s | Train Accuracy    1.000 | Train Loss    0.006 | Valid Accuracy    0.734 | Valid Loss    0.825 \n",
            "-----------------------------------------------------------\n",
            "| epoch  18 |     5/   12 batches | accuracy    0.999\n",
            "| epoch  18 |    10/   12 batches | accuracy    0.999\n",
            "-----------------------------------------------------------\n",
            "| End of epoch  18 | Time: 23.94s | Train Accuracy    0.999 | Train Loss    0.008 | Valid Accuracy    0.734 | Valid Loss    0.870 \n",
            "-----------------------------------------------------------\n",
            "| epoch  19 |     5/   12 batches | accuracy    0.999\n",
            "| epoch  19 |    10/   12 batches | accuracy    1.000\n",
            "-----------------------------------------------------------\n",
            "| End of epoch  19 | Time: 22.53s | Train Accuracy    1.000 | Train Loss    0.005 | Valid Accuracy    0.724 | Valid Loss    0.877 \n",
            "-----------------------------------------------------------\n",
            "| epoch  20 |     5/   12 batches | accuracy    1.000\n",
            "| epoch  20 |    10/   12 batches | accuracy    1.000\n",
            "-----------------------------------------------------------\n",
            "| End of epoch  20 | Time: 23.27s | Train Accuracy    1.000 | Train Loss    0.005 | Valid Accuracy    0.737 | Valid Loss    0.827 \n",
            "-----------------------------------------------------------\n",
            "| epoch  21 |     5/   12 batches | accuracy    1.000\n",
            "| epoch  21 |    10/   12 batches | accuracy    1.000\n",
            "-----------------------------------------------------------\n",
            "| End of epoch  21 | Time: 23.40s | Train Accuracy    1.000 | Train Loss    0.004 | Valid Accuracy    0.742 | Valid Loss    0.910 \n",
            "-----------------------------------------------------------\n",
            "| epoch  22 |     5/   12 batches | accuracy    1.000\n",
            "| epoch  22 |    10/   12 batches | accuracy    1.000\n",
            "-----------------------------------------------------------\n",
            "| End of epoch  22 | Time: 22.52s | Train Accuracy    1.000 | Train Loss    0.004 | Valid Accuracy    0.724 | Valid Loss    0.883 \n",
            "-----------------------------------------------------------\n",
            "| epoch  23 |     5/   12 batches | accuracy    0.999\n",
            "| epoch  23 |    10/   12 batches | accuracy    1.000\n",
            "-----------------------------------------------------------\n",
            "| End of epoch  23 | Time: 24.24s | Train Accuracy    1.000 | Train Loss    0.003 | Valid Accuracy    0.735 | Valid Loss    0.864 \n",
            "-----------------------------------------------------------\n",
            "| epoch  24 |     5/   12 batches | accuracy    0.999\n",
            "| epoch  24 |    10/   12 batches | accuracy    0.999\n",
            "-----------------------------------------------------------\n",
            "| End of epoch  24 | Time: 22.51s | Train Accuracy    0.999 | Train Loss    0.003 | Valid Accuracy    0.733 | Valid Loss    0.865 \n",
            "-----------------------------------------------------------\n",
            "| epoch  25 |     5/   12 batches | accuracy    1.000\n",
            "| epoch  25 |    10/   12 batches | accuracy    1.000\n",
            "-----------------------------------------------------------\n",
            "| End of epoch  25 | Time: 23.08s | Train Accuracy    1.000 | Train Loss    0.003 | Valid Accuracy    0.748 | Valid Loss    0.864 \n",
            "-----------------------------------------------------------\n",
            "| epoch  26 |     5/   12 batches | accuracy    1.000\n",
            "| epoch  26 |    10/   12 batches | accuracy    1.000\n",
            "-----------------------------------------------------------\n",
            "| End of epoch  26 | Time: 24.22s | Train Accuracy    1.000 | Train Loss    0.004 | Valid Accuracy    0.735 | Valid Loss    0.872 \n",
            "-----------------------------------------------------------\n",
            "| epoch  27 |     5/   12 batches | accuracy    0.999\n",
            "| epoch  27 |    10/   12 batches | accuracy    0.999\n",
            "-----------------------------------------------------------\n",
            "| End of epoch  27 | Time: 22.18s | Train Accuracy    0.999 | Train Loss    0.003 | Valid Accuracy    0.729 | Valid Loss    0.870 \n",
            "-----------------------------------------------------------\n",
            "| epoch  28 |     5/   12 batches | accuracy    0.999\n",
            "| epoch  28 |    10/   12 batches | accuracy    1.000\n",
            "-----------------------------------------------------------\n",
            "| End of epoch  28 | Time: 23.39s | Train Accuracy    1.000 | Train Loss    0.003 | Valid Accuracy    0.724 | Valid Loss    0.923 \n",
            "-----------------------------------------------------------\n",
            "| epoch  29 |     5/   12 batches | accuracy    0.999\n",
            "| epoch  29 |    10/   12 batches | accuracy    0.999\n",
            "-----------------------------------------------------------\n",
            "| End of epoch  29 | Time: 22.22s | Train Accuracy    0.999 | Train Loss    0.004 | Valid Accuracy    0.723 | Valid Loss    0.871 \n",
            "-----------------------------------------------------------\n",
            "| epoch  30 |     5/   12 batches | accuracy    1.000\n",
            "| epoch  30 |    10/   12 batches | accuracy    1.000\n",
            "-----------------------------------------------------------\n",
            "| End of epoch  30 | Time: 23.29s | Train Accuracy    0.999 | Train Loss    0.004 | Valid Accuracy    0.730 | Valid Loss    0.865 \n",
            "-----------------------------------------------------------\n",
            "| epoch  31 |     5/   12 batches | accuracy    0.999\n",
            "| epoch  31 |    10/   12 batches | accuracy    0.999\n",
            "-----------------------------------------------------------\n",
            "| End of epoch  31 | Time: 23.05s | Train Accuracy    0.999 | Train Loss    0.005 | Valid Accuracy    0.731 | Valid Loss    0.903 \n",
            "-----------------------------------------------------------\n",
            "| epoch  32 |     5/   12 batches | accuracy    0.999\n",
            "| epoch  32 |    10/   12 batches | accuracy    1.000\n",
            "-----------------------------------------------------------\n",
            "| End of epoch  32 | Time: 22.66s | Train Accuracy    1.000 | Train Loss    0.004 | Valid Accuracy    0.730 | Valid Loss    0.866 \n",
            "-----------------------------------------------------------\n",
            "| epoch  33 |     5/   12 batches | accuracy    0.999\n",
            "| epoch  33 |    10/   12 batches | accuracy    0.999\n",
            "-----------------------------------------------------------\n",
            "| End of epoch  33 | Time: 25.31s | Train Accuracy    0.999 | Train Loss    0.003 | Valid Accuracy    0.731 | Valid Loss    0.905 \n",
            "-----------------------------------------------------------\n",
            "| epoch  34 |     5/   12 batches | accuracy    0.999\n",
            "| epoch  34 |    10/   12 batches | accuracy    1.000\n",
            "-----------------------------------------------------------\n",
            "| End of epoch  34 | Time: 22.27s | Train Accuracy    1.000 | Train Loss    0.002 | Valid Accuracy    0.748 | Valid Loss    0.883 \n",
            "-----------------------------------------------------------\n",
            "| epoch  35 |     5/   12 batches | accuracy    0.999\n",
            "| epoch  35 |    10/   12 batches | accuracy    0.999\n",
            "-----------------------------------------------------------\n",
            "| End of epoch  35 | Time: 23.87s | Train Accuracy    0.999 | Train Loss    0.003 | Valid Accuracy    0.734 | Valid Loss    0.844 \n",
            "-----------------------------------------------------------\n",
            "| epoch  36 |     5/   12 batches | accuracy    0.999\n",
            "| epoch  36 |    10/   12 batches | accuracy    1.000\n",
            "-----------------------------------------------------------\n",
            "| End of epoch  36 | Time: 22.31s | Train Accuracy    1.000 | Train Loss    0.002 | Valid Accuracy    0.739 | Valid Loss    0.879 \n",
            "-----------------------------------------------------------\n",
            "| epoch  37 |     5/   12 batches | accuracy    1.000\n",
            "| epoch  37 |    10/   12 batches | accuracy    1.000\n",
            "-----------------------------------------------------------\n",
            "| End of epoch  37 | Time: 22.87s | Train Accuracy    0.999 | Train Loss    0.003 | Valid Accuracy    0.737 | Valid Loss    0.890 \n",
            "-----------------------------------------------------------\n",
            "| epoch  38 |     5/   12 batches | accuracy    1.000\n",
            "| epoch  38 |    10/   12 batches | accuracy    1.000\n",
            "-----------------------------------------------------------\n",
            "| End of epoch  38 | Time: 23.47s | Train Accuracy    1.000 | Train Loss    0.003 | Valid Accuracy    0.722 | Valid Loss    0.902 \n",
            "-----------------------------------------------------------\n",
            "| epoch  39 |     5/   12 batches | accuracy    0.999\n",
            "| epoch  39 |    10/   12 batches | accuracy    1.000\n",
            "-----------------------------------------------------------\n",
            "| End of epoch  39 | Time: 22.47s | Train Accuracy    1.000 | Train Loss    0.002 | Valid Accuracy    0.737 | Valid Loss    0.865 \n",
            "-----------------------------------------------------------\n",
            "| epoch  40 |     5/   12 batches | accuracy    0.999\n",
            "| epoch  40 |    10/   12 batches | accuracy    1.000\n",
            "-----------------------------------------------------------\n",
            "| End of epoch  40 | Time: 23.88s | Train Accuracy    1.000 | Train Loss    0.002 | Valid Accuracy    0.746 | Valid Loss    0.844 \n",
            "-----------------------------------------------------------\n",
            "| epoch  41 |     5/   12 batches | accuracy    1.000\n",
            "| epoch  41 |    10/   12 batches | accuracy    1.000\n",
            "-----------------------------------------------------------\n",
            "| End of epoch  41 | Time: 22.47s | Train Accuracy    1.000 | Train Loss    0.002 | Valid Accuracy    0.751 | Valid Loss    0.864 \n",
            "-----------------------------------------------------------\n",
            "| epoch  42 |     5/   12 batches | accuracy    1.000\n",
            "| epoch  42 |    10/   12 batches | accuracy    1.000\n",
            "-----------------------------------------------------------\n",
            "| End of epoch  42 | Time: 24.66s | Train Accuracy    1.000 | Train Loss    0.002 | Valid Accuracy    0.751 | Valid Loss    0.860 \n",
            "-----------------------------------------------------------\n",
            "| epoch  43 |     5/   12 batches | accuracy    0.999\n",
            "| epoch  43 |    10/   12 batches | accuracy    1.000\n",
            "-----------------------------------------------------------\n",
            "| End of epoch  43 | Time: 23.40s | Train Accuracy    1.000 | Train Loss    0.002 | Valid Accuracy    0.751 | Valid Loss    0.885 \n",
            "-----------------------------------------------------------\n",
            "| epoch  44 |     5/   12 batches | accuracy    1.000\n",
            "| epoch  44 |    10/   12 batches | accuracy    1.000\n",
            "-----------------------------------------------------------\n",
            "| End of epoch  44 | Time: 22.20s | Train Accuracy    1.000 | Train Loss    0.002 | Valid Accuracy    0.753 | Valid Loss    0.878 \n",
            "-----------------------------------------------------------\n",
            "| epoch  45 |     5/   12 batches | accuracy    1.000\n",
            "| epoch  45 |    10/   12 batches | accuracy    1.000\n",
            "-----------------------------------------------------------\n",
            "| End of epoch  45 | Time: 23.51s | Train Accuracy    1.000 | Train Loss    0.002 | Valid Accuracy    0.748 | Valid Loss    0.869 \n",
            "-----------------------------------------------------------\n",
            "| epoch  46 |     5/   12 batches | accuracy    0.999\n",
            "| epoch  46 |    10/   12 batches | accuracy    0.999\n",
            "-----------------------------------------------------------\n",
            "| End of epoch  46 | Time: 22.51s | Train Accuracy    0.999 | Train Loss    0.002 | Valid Accuracy    0.751 | Valid Loss    0.883 \n",
            "-----------------------------------------------------------\n",
            "| epoch  47 |     5/   12 batches | accuracy    1.000\n",
            "| epoch  47 |    10/   12 batches | accuracy    1.000\n",
            "-----------------------------------------------------------\n",
            "| End of epoch  47 | Time: 22.83s | Train Accuracy    1.000 | Train Loss    0.001 | Valid Accuracy    0.749 | Valid Loss    0.869 \n",
            "-----------------------------------------------------------\n",
            "| epoch  48 |     5/   12 batches | accuracy    1.000\n",
            "| epoch  48 |    10/   12 batches | accuracy    1.000\n",
            "-----------------------------------------------------------\n",
            "| End of epoch  48 | Time: 23.78s | Train Accuracy    1.000 | Train Loss    0.001 | Valid Accuracy    0.746 | Valid Loss    0.885 \n",
            "-----------------------------------------------------------\n",
            "| epoch  49 |     5/   12 batches | accuracy    1.000\n",
            "| epoch  49 |    10/   12 batches | accuracy    0.999\n",
            "-----------------------------------------------------------\n",
            "| End of epoch  49 | Time: 24.33s | Train Accuracy    0.999 | Train Loss    0.001 | Valid Accuracy    0.750 | Valid Loss    0.882 \n",
            "-----------------------------------------------------------\n",
            "| epoch  50 |     5/   12 batches | accuracy    0.999\n",
            "| epoch  50 |    10/   12 batches | accuracy    0.999\n",
            "-----------------------------------------------------------\n",
            "| End of epoch  50 | Time: 23.98s | Train Accuracy    0.999 | Train Loss    0.001 | Valid Accuracy    0.748 | Valid Loss    0.884 \n",
            "-----------------------------------------------------------\n"
          ]
        }
      ]
    },
    {
      "cell_type": "code",
      "source": [
        "test_acc, test_loss = evaluate_epoch(base_model, criterion, test_dataloader)\n",
        "test_acc, test_loss"
      ],
      "metadata": {
        "colab": {
          "base_uri": "https://localhost:8080/"
        },
        "id": "Vv_PC15esm56",
        "outputId": "d18f1c49-4fcc-4d3a-f41b-694d34b351bd"
      },
      "execution_count": null,
      "outputs": [
        {
          "output_type": "execute_result",
          "data": {
            "text/plain": [
              "(0.7311373873873874, 0.9084880948066711)"
            ]
          },
          "metadata": {},
          "execution_count": 97
        }
      ]
    },
    {
      "cell_type": "code",
      "source": [
        "plot_result(\n",
        "    num_epochs,\n",
        "    base_metrics[\"train_accuracy\"],\n",
        "    base_metrics[\"valid_accuracy\"],\n",
        "    base_metrics[\"train_loss\"],\n",
        "    base_metrics[\"valid_loss\"]\n",
        ")"
      ],
      "metadata": {
        "colab": {
          "base_uri": "https://localhost:8080/",
          "height": 542
        },
        "id": "icYRUvp22gV3",
        "outputId": "5f12479c-d507-4160-9973-d3515b08649f"
      },
      "execution_count": null,
      "outputs": [
        {
          "output_type": "display_data",
          "data": {
            "text/plain": [
              "<Figure size 1200x600 with 2 Axes>"
            ],
            "image/png": "[encoded data removed]"
          },
          "metadata": {}
        }
      ]
    },
    {
      "cell_type": "markdown",
      "source": [
        "###**4.2.Transfer Learning**"
      ],
      "metadata": {
        "id": "9v0AnriF2shS"
      }
    },
    {
      "cell_type": "code",
      "source": [
        "model = models.resnet18(\n",
        "    weights=models.ResNet18_Weights.IMAGENET1K_V1\n",
        ")"
      ],
      "metadata": {
        "colab": {
          "base_uri": "https://localhost:8080/"
        },
        "id": "k0R2Q9qZ2wcL",
        "outputId": "a3db1caf-f574-43c1-e954-6b6b8b3169e7"
      },
      "execution_count": null,
      "outputs": [
        {
          "output_type": "stream",
          "name": "stderr",
          "text": [
            "Downloading: \"https://download.pytorch.org/models/resnet18-f37072fd.pth\" to /root/.cache/torch/hub/checkpoints/resnet18-f37072fd.pth\n",
            "100%|██████████| 44.7M/44.7M [00:00<00:00, 104MB/s]\n"
          ]
        }
      ]
    },
    {
      "cell_type": "code",
      "source": [
        "model"
      ],
      "metadata": {
        "colab": {
          "base_uri": "https://localhost:8080/"
        },
        "id": "HdywOdZ73Mkk",
        "outputId": "1286b3e0-0954-4fbd-afc4-4636d4ca247f"
      },
      "execution_count": null,
      "outputs": [
        {
          "output_type": "execute_result",
          "data": {
            "text/plain": [
              "ResNet(\n",
              "  (conv1): Conv2d(3, 64, kernel_size=(7, 7), stride=(2, 2), padding=(3, 3), bias=False)\n",
              "  (bn1): BatchNorm2d(64, eps=1e-05, momentum=0.1, affine=True, track_running_stats=True)\n",
              "  (relu): ReLU(inplace=True)\n",
              "  (maxpool): MaxPool2d(kernel_size=3, stride=2, padding=1, dilation=1, ceil_mode=False)\n",
              "  (layer1): Sequential(\n",
              "    (0): BasicBlock(\n",
              "      (conv1): Conv2d(64, 64, kernel_size=(3, 3), stride=(1, 1), padding=(1, 1), bias=False)\n",
              "      (bn1): BatchNorm2d(64, eps=1e-05, momentum=0.1, affine=True, track_running_stats=True)\n",
              "      (relu): ReLU(inplace=True)\n",
              "      (conv2): Conv2d(64, 64, kernel_size=(3, 3), stride=(1, 1), padding=(1, 1), bias=False)\n",
              "      (bn2): BatchNorm2d(64, eps=1e-05, momentum=0.1, affine=True, track_running_stats=True)\n",
              "    )\n",
              "    (1): BasicBlock(\n",
              "      (conv1): Conv2d(64, 64, kernel_size=(3, 3), stride=(1, 1), padding=(1, 1), bias=False)\n",
              "      (bn1): BatchNorm2d(64, eps=1e-05, momentum=0.1, affine=True, track_running_stats=True)\n",
              "      (relu): ReLU(inplace=True)\n",
              "      (conv2): Conv2d(64, 64, kernel_size=(3, 3), stride=(1, 1), padding=(1, 1), bias=False)\n",
              "      (bn2): BatchNorm2d(64, eps=1e-05, momentum=0.1, affine=True, track_running_stats=True)\n",
              "    )\n",
              "  )\n",
              "  (layer2): Sequential(\n",
              "    (0): BasicBlock(\n",
              "      (conv1): Conv2d(64, 128, kernel_size=(3, 3), stride=(2, 2), padding=(1, 1), bias=False)\n",
              "      (bn1): BatchNorm2d(128, eps=1e-05, momentum=0.1, affine=True, track_running_stats=True)\n",
              "      (relu): ReLU(inplace=True)\n",
              "      (conv2): Conv2d(128, 128, kernel_size=(3, 3), stride=(1, 1), padding=(1, 1), bias=False)\n",
              "      (bn2): BatchNorm2d(128, eps=1e-05, momentum=0.1, affine=True, track_running_stats=True)\n",
              "      (downsample): Sequential(\n",
              "        (0): Conv2d(64, 128, kernel_size=(1, 1), stride=(2, 2), bias=False)\n",
              "        (1): BatchNorm2d(128, eps=1e-05, momentum=0.1, affine=True, track_running_stats=True)\n",
              "      )\n",
              "    )\n",
              "    (1): BasicBlock(\n",
              "      (conv1): Conv2d(128, 128, kernel_size=(3, 3), stride=(1, 1), padding=(1, 1), bias=False)\n",
              "      (bn1): BatchNorm2d(128, eps=1e-05, momentum=0.1, affine=True, track_running_stats=True)\n",
              "      (relu): ReLU(inplace=True)\n",
              "      (conv2): Conv2d(128, 128, kernel_size=(3, 3), stride=(1, 1), padding=(1, 1), bias=False)\n",
              "      (bn2): BatchNorm2d(128, eps=1e-05, momentum=0.1, affine=True, track_running_stats=True)\n",
              "    )\n",
              "  )\n",
              "  (layer3): Sequential(\n",
              "    (0): BasicBlock(\n",
              "      (conv1): Conv2d(128, 256, kernel_size=(3, 3), stride=(2, 2), padding=(1, 1), bias=False)\n",
              "      (bn1): BatchNorm2d(256, eps=1e-05, momentum=0.1, affine=True, track_running_stats=True)\n",
              "      (relu): ReLU(inplace=True)\n",
              "      (conv2): Conv2d(256, 256, kernel_size=(3, 3), stride=(1, 1), padding=(1, 1), bias=False)\n",
              "      (bn2): BatchNorm2d(256, eps=1e-05, momentum=0.1, affine=True, track_running_stats=True)\n",
              "      (downsample): Sequential(\n",
              "        (0): Conv2d(128, 256, kernel_size=(1, 1), stride=(2, 2), bias=False)\n",
              "        (1): BatchNorm2d(256, eps=1e-05, momentum=0.1, affine=True, track_running_stats=True)\n",
              "      )\n",
              "    )\n",
              "    (1): BasicBlock(\n",
              "      (conv1): Conv2d(256, 256, kernel_size=(3, 3), stride=(1, 1), padding=(1, 1), bias=False)\n",
              "      (bn1): BatchNorm2d(256, eps=1e-05, momentum=0.1, affine=True, track_running_stats=True)\n",
              "      (relu): ReLU(inplace=True)\n",
              "      (conv2): Conv2d(256, 256, kernel_size=(3, 3), stride=(1, 1), padding=(1, 1), bias=False)\n",
              "      (bn2): BatchNorm2d(256, eps=1e-05, momentum=0.1, affine=True, track_running_stats=True)\n",
              "    )\n",
              "  )\n",
              "  (layer4): Sequential(\n",
              "    (0): BasicBlock(\n",
              "      (conv1): Conv2d(256, 512, kernel_size=(3, 3), stride=(2, 2), padding=(1, 1), bias=False)\n",
              "      (bn1): BatchNorm2d(512, eps=1e-05, momentum=0.1, affine=True, track_running_stats=True)\n",
              "      (relu): ReLU(inplace=True)\n",
              "      (conv2): Conv2d(512, 512, kernel_size=(3, 3), stride=(1, 1), padding=(1, 1), bias=False)\n",
              "      (bn2): BatchNorm2d(512, eps=1e-05, momentum=0.1, affine=True, track_running_stats=True)\n",
              "      (downsample): Sequential(\n",
              "        (0): Conv2d(256, 512, kernel_size=(1, 1), stride=(2, 2), bias=False)\n",
              "        (1): BatchNorm2d(512, eps=1e-05, momentum=0.1, affine=True, track_running_stats=True)\n",
              "      )\n",
              "    )\n",
              "    (1): BasicBlock(\n",
              "      (conv1): Conv2d(512, 512, kernel_size=(3, 3), stride=(1, 1), padding=(1, 1), bias=False)\n",
              "      (bn1): BatchNorm2d(512, eps=1e-05, momentum=0.1, affine=True, track_running_stats=True)\n",
              "      (relu): ReLU(inplace=True)\n",
              "      (conv2): Conv2d(512, 512, kernel_size=(3, 3), stride=(1, 1), padding=(1, 1), bias=False)\n",
              "      (bn2): BatchNorm2d(512, eps=1e-05, momentum=0.1, affine=True, track_running_stats=True)\n",
              "    )\n",
              "  )\n",
              "  (avgpool): AdaptiveAvgPool2d(output_size=(1, 1))\n",
              "  (fc): Linear(in_features=512, out_features=1000, bias=True)\n",
              ")"
            ]
          },
          "metadata": {},
          "execution_count": 103
        }
      ]
    },
    {
      "cell_type": "code",
      "source": [
        "for param in model.parameters():\n",
        "   param.requires_grad = False"
      ],
      "metadata": {
        "id": "PT-JtF5i3Vj-"
      },
      "execution_count": null,
      "outputs": []
    },
    {
      "cell_type": "code",
      "source": [
        "in_features = model.fc.in_features\n",
        "model.fc = nn.Linear(in_features, num_classes)"
      ],
      "metadata": {
        "id": "WyPOMN8B3Y2O"
      },
      "execution_count": null,
      "outputs": []
    },
    {
      "cell_type": "code",
      "source": [
        "model"
      ],
      "metadata": {
        "colab": {
          "base_uri": "https://localhost:8080/"
        },
        "id": "D1mijCVS3d_R",
        "outputId": "8043a6f0-2fc8-4d4a-a6a0-71d749a67fe6"
      },
      "execution_count": null,
      "outputs": [
        {
          "output_type": "execute_result",
          "data": {
            "text/plain": [
              "ResNet(\n",
              "  (conv1): Conv2d(3, 64, kernel_size=(7, 7), stride=(2, 2), padding=(3, 3), bias=False)\n",
              "  (bn1): BatchNorm2d(64, eps=1e-05, momentum=0.1, affine=True, track_running_stats=True)\n",
              "  (relu): ReLU(inplace=True)\n",
              "  (maxpool): MaxPool2d(kernel_size=3, stride=2, padding=1, dilation=1, ceil_mode=False)\n",
              "  (layer1): Sequential(\n",
              "    (0): BasicBlock(\n",
              "      (conv1): Conv2d(64, 64, kernel_size=(3, 3), stride=(1, 1), padding=(1, 1), bias=False)\n",
              "      (bn1): BatchNorm2d(64, eps=1e-05, momentum=0.1, affine=True, track_running_stats=True)\n",
              "      (relu): ReLU(inplace=True)\n",
              "      (conv2): Conv2d(64, 64, kernel_size=(3, 3), stride=(1, 1), padding=(1, 1), bias=False)\n",
              "      (bn2): BatchNorm2d(64, eps=1e-05, momentum=0.1, affine=True, track_running_stats=True)\n",
              "    )\n",
              "    (1): BasicBlock(\n",
              "      (conv1): Conv2d(64, 64, kernel_size=(3, 3), stride=(1, 1), padding=(1, 1), bias=False)\n",
              "      (bn1): BatchNorm2d(64, eps=1e-05, momentum=0.1, affine=True, track_running_stats=True)\n",
              "      (relu): ReLU(inplace=True)\n",
              "      (conv2): Conv2d(64, 64, kernel_size=(3, 3), stride=(1, 1), padding=(1, 1), bias=False)\n",
              "      (bn2): BatchNorm2d(64, eps=1e-05, momentum=0.1, affine=True, track_running_stats=True)\n",
              "    )\n",
              "  )\n",
              "  (layer2): Sequential(\n",
              "    (0): BasicBlock(\n",
              "      (conv1): Conv2d(64, 128, kernel_size=(3, 3), stride=(2, 2), padding=(1, 1), bias=False)\n",
              "      (bn1): BatchNorm2d(128, eps=1e-05, momentum=0.1, affine=True, track_running_stats=True)\n",
              "      (relu): ReLU(inplace=True)\n",
              "      (conv2): Conv2d(128, 128, kernel_size=(3, 3), stride=(1, 1), padding=(1, 1), bias=False)\n",
              "      (bn2): BatchNorm2d(128, eps=1e-05, momentum=0.1, affine=True, track_running_stats=True)\n",
              "      (downsample): Sequential(\n",
              "        (0): Conv2d(64, 128, kernel_size=(1, 1), stride=(2, 2), bias=False)\n",
              "        (1): BatchNorm2d(128, eps=1e-05, momentum=0.1, affine=True, track_running_stats=True)\n",
              "      )\n",
              "    )\n",
              "    (1): BasicBlock(\n",
              "      (conv1): Conv2d(128, 128, kernel_size=(3, 3), stride=(1, 1), padding=(1, 1), bias=False)\n",
              "      (bn1): BatchNorm2d(128, eps=1e-05, momentum=0.1, affine=True, track_running_stats=True)\n",
              "      (relu): ReLU(inplace=True)\n",
              "      (conv2): Conv2d(128, 128, kernel_size=(3, 3), stride=(1, 1), padding=(1, 1), bias=False)\n",
              "      (bn2): BatchNorm2d(128, eps=1e-05, momentum=0.1, affine=True, track_running_stats=True)\n",
              "    )\n",
              "  )\n",
              "  (layer3): Sequential(\n",
              "    (0): BasicBlock(\n",
              "      (conv1): Conv2d(128, 256, kernel_size=(3, 3), stride=(2, 2), padding=(1, 1), bias=False)\n",
              "      (bn1): BatchNorm2d(256, eps=1e-05, momentum=0.1, affine=True, track_running_stats=True)\n",
              "      (relu): ReLU(inplace=True)\n",
              "      (conv2): Conv2d(256, 256, kernel_size=(3, 3), stride=(1, 1), padding=(1, 1), bias=False)\n",
              "      (bn2): BatchNorm2d(256, eps=1e-05, momentum=0.1, affine=True, track_running_stats=True)\n",
              "      (downsample): Sequential(\n",
              "        (0): Conv2d(128, 256, kernel_size=(1, 1), stride=(2, 2), bias=False)\n",
              "        (1): BatchNorm2d(256, eps=1e-05, momentum=0.1, affine=True, track_running_stats=True)\n",
              "      )\n",
              "    )\n",
              "    (1): BasicBlock(\n",
              "      (conv1): Conv2d(256, 256, kernel_size=(3, 3), stride=(1, 1), padding=(1, 1), bias=False)\n",
              "      (bn1): BatchNorm2d(256, eps=1e-05, momentum=0.1, affine=True, track_running_stats=True)\n",
              "      (relu): ReLU(inplace=True)\n",
              "      (conv2): Conv2d(256, 256, kernel_size=(3, 3), stride=(1, 1), padding=(1, 1), bias=False)\n",
              "      (bn2): BatchNorm2d(256, eps=1e-05, momentum=0.1, affine=True, track_running_stats=True)\n",
              "    )\n",
              "  )\n",
              "  (layer4): Sequential(\n",
              "    (0): BasicBlock(\n",
              "      (conv1): Conv2d(256, 512, kernel_size=(3, 3), stride=(2, 2), padding=(1, 1), bias=False)\n",
              "      (bn1): BatchNorm2d(512, eps=1e-05, momentum=0.1, affine=True, track_running_stats=True)\n",
              "      (relu): ReLU(inplace=True)\n",
              "      (conv2): Conv2d(512, 512, kernel_size=(3, 3), stride=(1, 1), padding=(1, 1), bias=False)\n",
              "      (bn2): BatchNorm2d(512, eps=1e-05, momentum=0.1, affine=True, track_running_stats=True)\n",
              "      (downsample): Sequential(\n",
              "        (0): Conv2d(256, 512, kernel_size=(1, 1), stride=(2, 2), bias=False)\n",
              "        (1): BatchNorm2d(512, eps=1e-05, momentum=0.1, affine=True, track_running_stats=True)\n",
              "      )\n",
              "    )\n",
              "    (1): BasicBlock(\n",
              "      (conv1): Conv2d(512, 512, kernel_size=(3, 3), stride=(1, 1), padding=(1, 1), bias=False)\n",
              "      (bn1): BatchNorm2d(512, eps=1e-05, momentum=0.1, affine=True, track_running_stats=True)\n",
              "      (relu): ReLU(inplace=True)\n",
              "      (conv2): Conv2d(512, 512, kernel_size=(3, 3), stride=(1, 1), padding=(1, 1), bias=False)\n",
              "      (bn2): BatchNorm2d(512, eps=1e-05, momentum=0.1, affine=True, track_running_stats=True)\n",
              "    )\n",
              "  )\n",
              "  (avgpool): AdaptiveAvgPool2d(output_size=(1, 1))\n",
              "  (fc): Linear(in_features=512, out_features=5, bias=True)\n",
              ")"
            ]
          },
          "metadata": {},
          "execution_count": 107
        }
      ]
    },
    {
      "cell_type": "code",
      "source": [
        "model.to(device)"
      ],
      "metadata": {
        "colab": {
          "base_uri": "https://localhost:8080/"
        },
        "id": "EXlI7QhR3jHK",
        "outputId": "c01ad5fb-e86f-4692-c22d-142edc63437d"
      },
      "execution_count": null,
      "outputs": [
        {
          "output_type": "execute_result",
          "data": {
            "text/plain": [
              "ResNet(\n",
              "  (conv1): Conv2d(3, 64, kernel_size=(7, 7), stride=(2, 2), padding=(3, 3), bias=False)\n",
              "  (bn1): BatchNorm2d(64, eps=1e-05, momentum=0.1, affine=True, track_running_stats=True)\n",
              "  (relu): ReLU(inplace=True)\n",
              "  (maxpool): MaxPool2d(kernel_size=3, stride=2, padding=1, dilation=1, ceil_mode=False)\n",
              "  (layer1): Sequential(\n",
              "    (0): BasicBlock(\n",
              "      (conv1): Conv2d(64, 64, kernel_size=(3, 3), stride=(1, 1), padding=(1, 1), bias=False)\n",
              "      (bn1): BatchNorm2d(64, eps=1e-05, momentum=0.1, affine=True, track_running_stats=True)\n",
              "      (relu): ReLU(inplace=True)\n",
              "      (conv2): Conv2d(64, 64, kernel_size=(3, 3), stride=(1, 1), padding=(1, 1), bias=False)\n",
              "      (bn2): BatchNorm2d(64, eps=1e-05, momentum=0.1, affine=True, track_running_stats=True)\n",
              "    )\n",
              "    (1): BasicBlock(\n",
              "      (conv1): Conv2d(64, 64, kernel_size=(3, 3), stride=(1, 1), padding=(1, 1), bias=False)\n",
              "      (bn1): BatchNorm2d(64, eps=1e-05, momentum=0.1, affine=True, track_running_stats=True)\n",
              "      (relu): ReLU(inplace=True)\n",
              "      (conv2): Conv2d(64, 64, kernel_size=(3, 3), stride=(1, 1), padding=(1, 1), bias=False)\n",
              "      (bn2): BatchNorm2d(64, eps=1e-05, momentum=0.1, affine=True, track_running_stats=True)\n",
              "    )\n",
              "  )\n",
              "  (layer2): Sequential(\n",
              "    (0): BasicBlock(\n",
              "      (conv1): Conv2d(64, 128, kernel_size=(3, 3), stride=(2, 2), padding=(1, 1), bias=False)\n",
              "      (bn1): BatchNorm2d(128, eps=1e-05, momentum=0.1, affine=True, track_running_stats=True)\n",
              "      (relu): ReLU(inplace=True)\n",
              "      (conv2): Conv2d(128, 128, kernel_size=(3, 3), stride=(1, 1), padding=(1, 1), bias=False)\n",
              "      (bn2): BatchNorm2d(128, eps=1e-05, momentum=0.1, affine=True, track_running_stats=True)\n",
              "      (downsample): Sequential(\n",
              "        (0): Conv2d(64, 128, kernel_size=(1, 1), stride=(2, 2), bias=False)\n",
              "        (1): BatchNorm2d(128, eps=1e-05, momentum=0.1, affine=True, track_running_stats=True)\n",
              "      )\n",
              "    )\n",
              "    (1): BasicBlock(\n",
              "      (conv1): Conv2d(128, 128, kernel_size=(3, 3), stride=(1, 1), padding=(1, 1), bias=False)\n",
              "      (bn1): BatchNorm2d(128, eps=1e-05, momentum=0.1, affine=True, track_running_stats=True)\n",
              "      (relu): ReLU(inplace=True)\n",
              "      (conv2): Conv2d(128, 128, kernel_size=(3, 3), stride=(1, 1), padding=(1, 1), bias=False)\n",
              "      (bn2): BatchNorm2d(128, eps=1e-05, momentum=0.1, affine=True, track_running_stats=True)\n",
              "    )\n",
              "  )\n",
              "  (layer3): Sequential(\n",
              "    (0): BasicBlock(\n",
              "      (conv1): Conv2d(128, 256, kernel_size=(3, 3), stride=(2, 2), padding=(1, 1), bias=False)\n",
              "      (bn1): BatchNorm2d(256, eps=1e-05, momentum=0.1, affine=True, track_running_stats=True)\n",
              "      (relu): ReLU(inplace=True)\n",
              "      (conv2): Conv2d(256, 256, kernel_size=(3, 3), stride=(1, 1), padding=(1, 1), bias=False)\n",
              "      (bn2): BatchNorm2d(256, eps=1e-05, momentum=0.1, affine=True, track_running_stats=True)\n",
              "      (downsample): Sequential(\n",
              "        (0): Conv2d(128, 256, kernel_size=(1, 1), stride=(2, 2), bias=False)\n",
              "        (1): BatchNorm2d(256, eps=1e-05, momentum=0.1, affine=True, track_running_stats=True)\n",
              "      )\n",
              "    )\n",
              "    (1): BasicBlock(\n",
              "      (conv1): Conv2d(256, 256, kernel_size=(3, 3), stride=(1, 1), padding=(1, 1), bias=False)\n",
              "      (bn1): BatchNorm2d(256, eps=1e-05, momentum=0.1, affine=True, track_running_stats=True)\n",
              "      (relu): ReLU(inplace=True)\n",
              "      (conv2): Conv2d(256, 256, kernel_size=(3, 3), stride=(1, 1), padding=(1, 1), bias=False)\n",
              "      (bn2): BatchNorm2d(256, eps=1e-05, momentum=0.1, affine=True, track_running_stats=True)\n",
              "    )\n",
              "  )\n",
              "  (layer4): Sequential(\n",
              "    (0): BasicBlock(\n",
              "      (conv1): Conv2d(256, 512, kernel_size=(3, 3), stride=(2, 2), padding=(1, 1), bias=False)\n",
              "      (bn1): BatchNorm2d(512, eps=1e-05, momentum=0.1, affine=True, track_running_stats=True)\n",
              "      (relu): ReLU(inplace=True)\n",
              "      (conv2): Conv2d(512, 512, kernel_size=(3, 3), stride=(1, 1), padding=(1, 1), bias=False)\n",
              "      (bn2): BatchNorm2d(512, eps=1e-05, momentum=0.1, affine=True, track_running_stats=True)\n",
              "      (downsample): Sequential(\n",
              "        (0): Conv2d(256, 512, kernel_size=(1, 1), stride=(2, 2), bias=False)\n",
              "        (1): BatchNorm2d(512, eps=1e-05, momentum=0.1, affine=True, track_running_stats=True)\n",
              "      )\n",
              "    )\n",
              "    (1): BasicBlock(\n",
              "      (conv1): Conv2d(512, 512, kernel_size=(3, 3), stride=(1, 1), padding=(1, 1), bias=False)\n",
              "      (bn1): BatchNorm2d(512, eps=1e-05, momentum=0.1, affine=True, track_running_stats=True)\n",
              "      (relu): ReLU(inplace=True)\n",
              "      (conv2): Conv2d(512, 512, kernel_size=(3, 3), stride=(1, 1), padding=(1, 1), bias=False)\n",
              "      (bn2): BatchNorm2d(512, eps=1e-05, momentum=0.1, affine=True, track_running_stats=True)\n",
              "    )\n",
              "  )\n",
              "  (avgpool): AdaptiveAvgPool2d(output_size=(1, 1))\n",
              "  (fc): Linear(in_features=512, out_features=5, bias=True)\n",
              ")"
            ]
          },
          "metadata": {},
          "execution_count": 109
        }
      ]
    },
    {
      "cell_type": "code",
      "source": [
        "summary(model, (3, 224, 224))"
      ],
      "metadata": {
        "colab": {
          "base_uri": "https://localhost:8080/"
        },
        "id": "2IELmhrt3hVv",
        "outputId": "3e8c5bc8-3279-42ef-871f-5fbe8a3fd3c6"
      },
      "execution_count": null,
      "outputs": [
        {
          "output_type": "stream",
          "name": "stdout",
          "text": [
            "----------------------------------------------------------------\n",
            "        Layer (type)               Output Shape         Param #\n",
            "================================================================\n",
            "            Conv2d-1         [-1, 64, 112, 112]           9,408\n",
            "       BatchNorm2d-2         [-1, 64, 112, 112]             128\n",
            "              ReLU-3         [-1, 64, 112, 112]               0\n",
            "         MaxPool2d-4           [-1, 64, 56, 56]               0\n",
            "            Conv2d-5           [-1, 64, 56, 56]          36,864\n",
            "       BatchNorm2d-6           [-1, 64, 56, 56]             128\n",
            "              ReLU-7           [-1, 64, 56, 56]               0\n",
            "            Conv2d-8           [-1, 64, 56, 56]          36,864\n",
            "       BatchNorm2d-9           [-1, 64, 56, 56]             128\n",
            "             ReLU-10           [-1, 64, 56, 56]               0\n",
            "       BasicBlock-11           [-1, 64, 56, 56]               0\n",
            "           Conv2d-12           [-1, 64, 56, 56]          36,864\n",
            "      BatchNorm2d-13           [-1, 64, 56, 56]             128\n",
            "             ReLU-14           [-1, 64, 56, 56]               0\n",
            "           Conv2d-15           [-1, 64, 56, 56]          36,864\n",
            "      BatchNorm2d-16           [-1, 64, 56, 56]             128\n",
            "             ReLU-17           [-1, 64, 56, 56]               0\n",
            "       BasicBlock-18           [-1, 64, 56, 56]               0\n",
            "           Conv2d-19          [-1, 128, 28, 28]          73,728\n",
            "      BatchNorm2d-20          [-1, 128, 28, 28]             256\n",
            "             ReLU-21          [-1, 128, 28, 28]               0\n",
            "           Conv2d-22          [-1, 128, 28, 28]         147,456\n",
            "      BatchNorm2d-23          [-1, 128, 28, 28]             256\n",
            "           Conv2d-24          [-1, 128, 28, 28]           8,192\n",
            "      BatchNorm2d-25          [-1, 128, 28, 28]             256\n",
            "             ReLU-26          [-1, 128, 28, 28]               0\n",
            "       BasicBlock-27          [-1, 128, 28, 28]               0\n",
            "           Conv2d-28          [-1, 128, 28, 28]         147,456\n",
            "      BatchNorm2d-29          [-1, 128, 28, 28]             256\n",
            "             ReLU-30          [-1, 128, 28, 28]               0\n",
            "           Conv2d-31          [-1, 128, 28, 28]         147,456\n",
            "      BatchNorm2d-32          [-1, 128, 28, 28]             256\n",
            "             ReLU-33          [-1, 128, 28, 28]               0\n",
            "       BasicBlock-34          [-1, 128, 28, 28]               0\n",
            "           Conv2d-35          [-1, 256, 14, 14]         294,912\n",
            "      BatchNorm2d-36          [-1, 256, 14, 14]             512\n",
            "             ReLU-37          [-1, 256, 14, 14]               0\n",
            "           Conv2d-38          [-1, 256, 14, 14]         589,824\n",
            "      BatchNorm2d-39          [-1, 256, 14, 14]             512\n",
            "           Conv2d-40          [-1, 256, 14, 14]          32,768\n",
            "      BatchNorm2d-41          [-1, 256, 14, 14]             512\n",
            "             ReLU-42          [-1, 256, 14, 14]               0\n",
            "       BasicBlock-43          [-1, 256, 14, 14]               0\n",
            "           Conv2d-44          [-1, 256, 14, 14]         589,824\n",
            "      BatchNorm2d-45          [-1, 256, 14, 14]             512\n",
            "             ReLU-46          [-1, 256, 14, 14]               0\n",
            "           Conv2d-47          [-1, 256, 14, 14]         589,824\n",
            "      BatchNorm2d-48          [-1, 256, 14, 14]             512\n",
            "             ReLU-49          [-1, 256, 14, 14]               0\n",
            "       BasicBlock-50          [-1, 256, 14, 14]               0\n",
            "           Conv2d-51            [-1, 512, 7, 7]       1,179,648\n",
            "      BatchNorm2d-52            [-1, 512, 7, 7]           1,024\n",
            "             ReLU-53            [-1, 512, 7, 7]               0\n",
            "           Conv2d-54            [-1, 512, 7, 7]       2,359,296\n",
            "      BatchNorm2d-55            [-1, 512, 7, 7]           1,024\n",
            "           Conv2d-56            [-1, 512, 7, 7]         131,072\n",
            "      BatchNorm2d-57            [-1, 512, 7, 7]           1,024\n",
            "             ReLU-58            [-1, 512, 7, 7]               0\n",
            "       BasicBlock-59            [-1, 512, 7, 7]               0\n",
            "           Conv2d-60            [-1, 512, 7, 7]       2,359,296\n",
            "      BatchNorm2d-61            [-1, 512, 7, 7]           1,024\n",
            "             ReLU-62            [-1, 512, 7, 7]               0\n",
            "           Conv2d-63            [-1, 512, 7, 7]       2,359,296\n",
            "      BatchNorm2d-64            [-1, 512, 7, 7]           1,024\n",
            "             ReLU-65            [-1, 512, 7, 7]               0\n",
            "       BasicBlock-66            [-1, 512, 7, 7]               0\n",
            "AdaptiveAvgPool2d-67            [-1, 512, 1, 1]               0\n",
            "           Linear-68                    [-1, 5]           2,565\n",
            "================================================================\n",
            "Total params: 11,179,077\n",
            "Trainable params: 2,565\n",
            "Non-trainable params: 11,176,512\n",
            "----------------------------------------------------------------\n",
            "Input size (MB): 0.57\n",
            "Forward/backward pass size (MB): 62.79\n",
            "Params size (MB): 42.64\n",
            "Estimated Total Size (MB): 106.00\n",
            "----------------------------------------------------------------\n"
          ]
        }
      ]
    },
    {
      "cell_type": "code",
      "source": [
        "transfer_model = models.resnet18(\n",
        "    weights=models.ResNet18_Weights.IMAGENET1K_V1\n",
        ")\n",
        "# freeze FE\n",
        "for param in transfer_model.parameters():\n",
        "   param.requires_grad = False\n",
        "\n",
        "in_features = transfer_model.fc.in_features\n",
        "transfer_model.fc = nn.Linear(in_features, num_classes)\n",
        "\n",
        "device = torch.device('cuda' if torch.cuda.is_available() else 'cpu')\n",
        "transfer_model.to(device)\n",
        "\n",
        "criterion = torch.nn.CrossEntropyLoss()\n",
        "optimizer = optim.Adam(transfer_model.parameters(), lr=0.0001)\n",
        "\n",
        "num_epochs = 50\n",
        "save_model = './model'\n",
        "os.makedirs(save_model, exist_ok = True)\n",
        "model_name = 'transfer_model'\n",
        "\n",
        "transfer_model, transfer_metrics = train(\n",
        "    transfer_model, model_name, save_model, optimizer, criterion, train_dataloader, valid_dataloader, num_epochs, device\n",
        ")"
      ],
      "metadata": {
        "colab": {
          "base_uri": "https://localhost:8080/"
        },
        "id": "JFgsbs2k4mhN",
        "outputId": "75a5d423-9cb1-4f6e-f2d3-67af7dc5a6de"
      },
      "execution_count": null,
      "outputs": [
        {
          "output_type": "stream",
          "name": "stdout",
          "text": [
            "| epoch   1 |     5/   12 batches | accuracy    0.182\n",
            "| epoch   1 |    10/   12 batches | accuracy    0.192\n",
            "-----------------------------------------------------------\n",
            "| End of epoch   1 | Time: 21.13s | Train Accuracy    0.196 | Train Loss    1.742 | Valid Accuracy    0.233 | Valid Loss    1.676 \n",
            "-----------------------------------------------------------\n",
            "| epoch   2 |     5/   12 batches | accuracy    0.247\n",
            "| epoch   2 |    10/   12 batches | accuracy    0.264\n",
            "-----------------------------------------------------------\n",
            "| End of epoch   2 | Time: 23.12s | Train Accuracy    0.269 | Train Loss    1.636 | Valid Accuracy    0.338 | Valid Loss    1.586 \n",
            "-----------------------------------------------------------\n",
            "| epoch   3 |     5/   12 batches | accuracy    0.316\n",
            "| epoch   3 |    10/   12 batches | accuracy    0.334\n",
            "-----------------------------------------------------------\n",
            "| End of epoch   3 | Time: 21.72s | Train Accuracy    0.343 | Train Loss    1.556 | Valid Accuracy    0.405 | Valid Loss    1.509 \n",
            "-----------------------------------------------------------\n",
            "| epoch   4 |     5/   12 batches | accuracy    0.389\n",
            "| epoch   4 |    10/   12 batches | accuracy    0.387\n",
            "-----------------------------------------------------------\n",
            "| End of epoch   4 | Time: 20.87s | Train Accuracy    0.389 | Train Loss    1.486 | Valid Accuracy    0.448 | Valid Loss    1.436 \n",
            "-----------------------------------------------------------\n",
            "| epoch   5 |     5/   12 batches | accuracy    0.429\n",
            "| epoch   5 |    10/   12 batches | accuracy    0.433\n",
            "-----------------------------------------------------------\n",
            "| End of epoch   5 | Time: 20.89s | Train Accuracy    0.433 | Train Loss    1.418 | Valid Accuracy    0.480 | Valid Loss    1.372 \n",
            "-----------------------------------------------------------\n",
            "| epoch   6 |     5/   12 batches | accuracy    0.472\n",
            "| epoch   6 |    10/   12 batches | accuracy    0.481\n",
            "-----------------------------------------------------------\n",
            "| End of epoch   6 | Time: 25.30s | Train Accuracy    0.483 | Train Loss    1.349 | Valid Accuracy    0.503 | Valid Loss    1.310 \n",
            "-----------------------------------------------------------\n",
            "| epoch   7 |     5/   12 batches | accuracy    0.525\n",
            "| epoch   7 |    10/   12 batches | accuracy    0.529\n",
            "-----------------------------------------------------------\n",
            "| End of epoch   7 | Time: 20.98s | Train Accuracy    0.529 | Train Loss    1.291 | Valid Accuracy    0.562 | Valid Loss    1.254 \n",
            "-----------------------------------------------------------\n",
            "| epoch   8 |     5/   12 batches | accuracy    0.574\n",
            "| epoch   8 |    10/   12 batches | accuracy    0.573\n",
            "-----------------------------------------------------------\n",
            "| End of epoch   8 | Time: 21.28s | Train Accuracy    0.576 | Train Loss    1.232 | Valid Accuracy    0.609 | Valid Loss    1.200 \n",
            "-----------------------------------------------------------\n",
            "| epoch   9 |     5/   12 batches | accuracy    0.616\n",
            "| epoch   9 |    10/   12 batches | accuracy    0.609\n",
            "-----------------------------------------------------------\n",
            "| End of epoch   9 | Time: 22.26s | Train Accuracy    0.607 | Train Loss    1.182 | Valid Accuracy    0.645 | Valid Loss    1.153 \n",
            "-----------------------------------------------------------\n",
            "| epoch  10 |     5/   12 batches | accuracy    0.647\n",
            "| epoch  10 |    10/   12 batches | accuracy    0.641\n",
            "-----------------------------------------------------------\n",
            "| End of epoch  10 | Time: 24.39s | Train Accuracy    0.639 | Train Loss    1.132 | Valid Accuracy    0.663 | Valid Loss    1.106 \n",
            "-----------------------------------------------------------\n",
            "| epoch  11 |     5/   12 batches | accuracy    0.674\n",
            "| epoch  11 |    10/   12 batches | accuracy    0.662\n",
            "-----------------------------------------------------------\n",
            "| End of epoch  11 | Time: 23.64s | Train Accuracy    0.667 | Train Loss    1.086 | Valid Accuracy    0.680 | Valid Loss    1.066 \n",
            "-----------------------------------------------------------\n",
            "| epoch  12 |     5/   12 batches | accuracy    0.684\n",
            "| epoch  12 |    10/   12 batches | accuracy    0.683\n",
            "-----------------------------------------------------------\n",
            "| End of epoch  12 | Time: 21.28s | Train Accuracy    0.686 | Train Loss    1.041 | Valid Accuracy    0.695 | Valid Loss    1.027 \n",
            "-----------------------------------------------------------\n",
            "| epoch  13 |     5/   12 batches | accuracy    0.695\n",
            "| epoch  13 |    10/   12 batches | accuracy    0.703\n",
            "-----------------------------------------------------------\n",
            "| End of epoch  13 | Time: 22.86s | Train Accuracy    0.704 | Train Loss    1.006 | Valid Accuracy    0.717 | Valid Loss    0.993 \n",
            "-----------------------------------------------------------\n",
            "| epoch  14 |     5/   12 batches | accuracy    0.710\n",
            "| epoch  14 |    10/   12 batches | accuracy    0.719\n",
            "-----------------------------------------------------------\n",
            "| End of epoch  14 | Time: 21.99s | Train Accuracy    0.718 | Train Loss    0.969 | Valid Accuracy    0.730 | Valid Loss    0.960 \n",
            "-----------------------------------------------------------\n",
            "| epoch  15 |     5/   12 batches | accuracy    0.738\n",
            "| epoch  15 |    10/   12 batches | accuracy    0.740\n",
            "-----------------------------------------------------------\n",
            "| End of epoch  15 | Time: 21.30s | Train Accuracy    0.738 | Train Loss    0.939 | Valid Accuracy    0.755 | Valid Loss    0.930 \n",
            "-----------------------------------------------------------\n",
            "| epoch  16 |     5/   12 batches | accuracy    0.749\n",
            "| epoch  16 |    10/   12 batches | accuracy    0.758\n",
            "-----------------------------------------------------------\n",
            "| End of epoch  16 | Time: 21.88s | Train Accuracy    0.753 | Train Loss    0.910 | Valid Accuracy    0.760 | Valid Loss    0.900 \n",
            "-----------------------------------------------------------\n",
            "| epoch  17 |     5/   12 batches | accuracy    0.761\n",
            "| epoch  17 |    10/   12 batches | accuracy    0.762\n",
            "-----------------------------------------------------------\n",
            "| End of epoch  17 | Time: 20.89s | Train Accuracy    0.762 | Train Loss    0.878 | Valid Accuracy    0.770 | Valid Loss    0.877 \n",
            "-----------------------------------------------------------\n",
            "| epoch  18 |     5/   12 batches | accuracy    0.786\n",
            "| epoch  18 |    10/   12 batches | accuracy    0.775\n",
            "-----------------------------------------------------------\n",
            "| End of epoch  18 | Time: 22.34s | Train Accuracy    0.778 | Train Loss    0.850 | Valid Accuracy    0.781 | Valid Loss    0.852 \n",
            "-----------------------------------------------------------\n",
            "| epoch  19 |     5/   12 batches | accuracy    0.779\n",
            "| epoch  19 |    10/   12 batches | accuracy    0.786\n",
            "-----------------------------------------------------------\n",
            "| End of epoch  19 | Time: 21.76s | Train Accuracy    0.783 | Train Loss    0.828 | Valid Accuracy    0.794 | Valid Loss    0.829 \n",
            "-----------------------------------------------------------\n",
            "| epoch  20 |     5/   12 batches | accuracy    0.790\n",
            "| epoch  20 |    10/   12 batches | accuracy    0.794\n",
            "-----------------------------------------------------------\n",
            "| End of epoch  20 | Time: 20.87s | Train Accuracy    0.790 | Train Loss    0.807 | Valid Accuracy    0.800 | Valid Loss    0.809 \n",
            "-----------------------------------------------------------\n",
            "| epoch  21 |     5/   12 batches | accuracy    0.796\n",
            "| epoch  21 |    10/   12 batches | accuracy    0.798\n",
            "-----------------------------------------------------------\n",
            "| End of epoch  21 | Time: 20.83s | Train Accuracy    0.800 | Train Loss    0.784 | Valid Accuracy    0.797 | Valid Loss    0.788 \n",
            "-----------------------------------------------------------\n",
            "| epoch  22 |     5/   12 batches | accuracy    0.804\n",
            "| epoch  22 |    10/   12 batches | accuracy    0.802\n",
            "-----------------------------------------------------------\n",
            "| End of epoch  22 | Time: 21.52s | Train Accuracy    0.802 | Train Loss    0.762 | Valid Accuracy    0.805 | Valid Loss    0.773 \n",
            "-----------------------------------------------------------\n",
            "| epoch  23 |     5/   12 batches | accuracy    0.816\n",
            "| epoch  23 |    10/   12 batches | accuracy    0.808\n",
            "-----------------------------------------------------------\n",
            "| End of epoch  23 | Time: 23.35s | Train Accuracy    0.807 | Train Loss    0.745 | Valid Accuracy    0.818 | Valid Loss    0.755 \n",
            "-----------------------------------------------------------\n",
            "| epoch  24 |     5/   12 batches | accuracy    0.817\n",
            "| epoch  24 |    10/   12 batches | accuracy    0.813\n",
            "-----------------------------------------------------------\n",
            "| End of epoch  24 | Time: 20.86s | Train Accuracy    0.811 | Train Loss    0.730 | Valid Accuracy    0.814 | Valid Loss    0.737 \n",
            "-----------------------------------------------------------\n",
            "| epoch  25 |     5/   12 batches | accuracy    0.826\n",
            "| epoch  25 |    10/   12 batches | accuracy    0.820\n",
            "-----------------------------------------------------------\n",
            "| End of epoch  25 | Time: 21.24s | Train Accuracy    0.821 | Train Loss    0.708 | Valid Accuracy    0.823 | Valid Loss    0.724 \n",
            "-----------------------------------------------------------\n",
            "| epoch  26 |     5/   12 batches | accuracy    0.823\n",
            "| epoch  26 |    10/   12 batches | accuracy    0.821\n",
            "-----------------------------------------------------------\n",
            "| End of epoch  26 | Time: 21.79s | Train Accuracy    0.820 | Train Loss    0.693 | Valid Accuracy    0.819 | Valid Loss    0.709 \n",
            "-----------------------------------------------------------\n",
            "| epoch  27 |     5/   12 batches | accuracy    0.833\n",
            "| epoch  27 |    10/   12 batches | accuracy    0.828\n",
            "-----------------------------------------------------------\n",
            "| End of epoch  27 | Time: 20.68s | Train Accuracy    0.821 | Train Loss    0.679 | Valid Accuracy    0.823 | Valid Loss    0.696 \n",
            "-----------------------------------------------------------\n",
            "| epoch  28 |     5/   12 batches | accuracy    0.827\n",
            "| epoch  28 |    10/   12 batches | accuracy    0.825\n",
            "-----------------------------------------------------------\n",
            "| End of epoch  28 | Time: 20.49s | Train Accuracy    0.827 | Train Loss    0.664 | Valid Accuracy    0.823 | Valid Loss    0.683 \n",
            "-----------------------------------------------------------\n",
            "| epoch  29 |     5/   12 batches | accuracy    0.818\n",
            "| epoch  29 |    10/   12 batches | accuracy    0.822\n",
            "-----------------------------------------------------------\n",
            "| End of epoch  29 | Time: 20.88s | Train Accuracy    0.830 | Train Loss    0.650 | Valid Accuracy    0.823 | Valid Loss    0.673 \n",
            "-----------------------------------------------------------\n",
            "| epoch  30 |     5/   12 batches | accuracy    0.824\n",
            "| epoch  30 |    10/   12 batches | accuracy    0.830\n",
            "-----------------------------------------------------------\n",
            "| End of epoch  30 | Time: 21.90s | Train Accuracy    0.831 | Train Loss    0.639 | Valid Accuracy    0.825 | Valid Loss    0.660 \n",
            "-----------------------------------------------------------\n",
            "| epoch  31 |     5/   12 batches | accuracy    0.837\n",
            "| epoch  31 |    10/   12 batches | accuracy    0.836\n",
            "-----------------------------------------------------------\n",
            "| End of epoch  31 | Time: 21.56s | Train Accuracy    0.837 | Train Loss    0.626 | Valid Accuracy    0.833 | Valid Loss    0.651 \n",
            "-----------------------------------------------------------\n",
            "| epoch  32 |     5/   12 batches | accuracy    0.830\n",
            "| epoch  32 |    10/   12 batches | accuracy    0.836\n",
            "-----------------------------------------------------------\n",
            "| End of epoch  32 | Time: 21.22s | Train Accuracy    0.840 | Train Loss    0.615 | Valid Accuracy    0.827 | Valid Loss    0.639 \n",
            "-----------------------------------------------------------\n",
            "| epoch  33 |     5/   12 batches | accuracy    0.839\n",
            "| epoch  33 |    10/   12 batches | accuracy    0.837\n",
            "-----------------------------------------------------------\n",
            "| End of epoch  33 | Time: 21.98s | Train Accuracy    0.838 | Train Loss    0.605 | Valid Accuracy    0.842 | Valid Loss    0.630 \n",
            "-----------------------------------------------------------\n",
            "| epoch  34 |     5/   12 batches | accuracy    0.841\n",
            "| epoch  34 |    10/   12 batches | accuracy    0.843\n",
            "-----------------------------------------------------------\n",
            "| End of epoch  34 | Time: 20.72s | Train Accuracy    0.838 | Train Loss    0.598 | Valid Accuracy    0.835 | Valid Loss    0.621 \n",
            "-----------------------------------------------------------\n",
            "| epoch  35 |     5/   12 batches | accuracy    0.844\n",
            "| epoch  35 |    10/   12 batches | accuracy    0.843\n",
            "-----------------------------------------------------------\n",
            "| End of epoch  35 | Time: 20.74s | Train Accuracy    0.846 | Train Loss    0.584 | Valid Accuracy    0.842 | Valid Loss    0.612 \n",
            "-----------------------------------------------------------\n",
            "| epoch  36 |     5/   12 batches | accuracy    0.840\n",
            "| epoch  36 |    10/   12 batches | accuracy    0.847\n",
            "-----------------------------------------------------------\n",
            "| End of epoch  36 | Time: 21.85s | Train Accuracy    0.841 | Train Loss    0.580 | Valid Accuracy    0.839 | Valid Loss    0.604 \n",
            "-----------------------------------------------------------\n",
            "| epoch  37 |     5/   12 batches | accuracy    0.855\n",
            "| epoch  37 |    10/   12 batches | accuracy    0.847\n",
            "-----------------------------------------------------------\n",
            "| End of epoch  37 | Time: 21.10s | Train Accuracy    0.850 | Train Loss    0.568 | Valid Accuracy    0.842 | Valid Loss    0.597 \n",
            "-----------------------------------------------------------\n",
            "| epoch  38 |     5/   12 batches | accuracy    0.834\n",
            "| epoch  38 |    10/   12 batches | accuracy    0.848\n",
            "-----------------------------------------------------------\n",
            "| End of epoch  38 | Time: 20.90s | Train Accuracy    0.851 | Train Loss    0.558 | Valid Accuracy    0.839 | Valid Loss    0.590 \n",
            "-----------------------------------------------------------\n",
            "| epoch  39 |     5/   12 batches | accuracy    0.860\n",
            "| epoch  39 |    10/   12 batches | accuracy    0.852\n",
            "-----------------------------------------------------------\n",
            "| End of epoch  39 | Time: 20.83s | Train Accuracy    0.850 | Train Loss    0.556 | Valid Accuracy    0.837 | Valid Loss    0.582 \n",
            "-----------------------------------------------------------\n",
            "| epoch  40 |     5/   12 batches | accuracy    0.852\n",
            "| epoch  40 |    10/   12 batches | accuracy    0.851\n",
            "-----------------------------------------------------------\n",
            "| End of epoch  40 | Time: 23.05s | Train Accuracy    0.849 | Train Loss    0.548 | Valid Accuracy    0.839 | Valid Loss    0.574 \n",
            "-----------------------------------------------------------\n",
            "| epoch  41 |     5/   12 batches | accuracy    0.855\n",
            "| epoch  41 |    10/   12 batches | accuracy    0.858\n",
            "-----------------------------------------------------------\n",
            "| End of epoch  41 | Time: 21.75s | Train Accuracy    0.858 | Train Loss    0.535 | Valid Accuracy    0.844 | Valid Loss    0.569 \n",
            "-----------------------------------------------------------\n",
            "| epoch  42 |     5/   12 batches | accuracy    0.850\n",
            "| epoch  42 |    10/   12 batches | accuracy    0.858\n",
            "-----------------------------------------------------------\n",
            "| End of epoch  42 | Time: 20.61s | Train Accuracy    0.858 | Train Loss    0.528 | Valid Accuracy    0.842 | Valid Loss    0.562 \n",
            "-----------------------------------------------------------\n",
            "| epoch  43 |     5/   12 batches | accuracy    0.845\n",
            "| epoch  43 |    10/   12 batches | accuracy    0.850\n",
            "-----------------------------------------------------------\n",
            "| End of epoch  43 | Time: 24.50s | Train Accuracy    0.853 | Train Loss    0.522 | Valid Accuracy    0.848 | Valid Loss    0.558 \n",
            "-----------------------------------------------------------\n",
            "| epoch  44 |     5/   12 batches | accuracy    0.859\n",
            "| epoch  44 |    10/   12 batches | accuracy    0.858\n",
            "-----------------------------------------------------------\n",
            "| End of epoch  44 | Time: 25.94s | Train Accuracy    0.862 | Train Loss    0.511 | Valid Accuracy    0.848 | Valid Loss    0.549 \n",
            "-----------------------------------------------------------\n",
            "| epoch  45 |     5/   12 batches | accuracy    0.872\n",
            "| epoch  45 |    10/   12 batches | accuracy    0.862\n",
            "-----------------------------------------------------------\n",
            "| End of epoch  45 | Time: 24.89s | Train Accuracy    0.861 | Train Loss    0.509 | Valid Accuracy    0.852 | Valid Loss    0.544 \n",
            "-----------------------------------------------------------\n",
            "| epoch  46 |     5/   12 batches | accuracy    0.855\n",
            "| epoch  46 |    10/   12 batches | accuracy    0.863\n",
            "-----------------------------------------------------------\n",
            "| End of epoch  46 | Time: 21.14s | Train Accuracy    0.862 | Train Loss    0.505 | Valid Accuracy    0.848 | Valid Loss    0.540 \n",
            "-----------------------------------------------------------\n",
            "| epoch  47 |     5/   12 batches | accuracy    0.857\n",
            "| epoch  47 |    10/   12 batches | accuracy    0.865\n",
            "-----------------------------------------------------------\n",
            "| End of epoch  47 | Time: 20.61s | Train Accuracy    0.864 | Train Loss    0.497 | Valid Accuracy    0.846 | Valid Loss    0.534 \n",
            "-----------------------------------------------------------\n",
            "| epoch  48 |     5/   12 batches | accuracy    0.863\n",
            "| epoch  48 |    10/   12 batches | accuracy    0.863\n",
            "-----------------------------------------------------------\n",
            "| End of epoch  48 | Time: 22.71s | Train Accuracy    0.866 | Train Loss    0.490 | Valid Accuracy    0.848 | Valid Loss    0.528 \n",
            "-----------------------------------------------------------\n",
            "| epoch  49 |     5/   12 batches | accuracy    0.859\n",
            "| epoch  49 |    10/   12 batches | accuracy    0.866\n",
            "-----------------------------------------------------------\n",
            "| End of epoch  49 | Time: 21.21s | Train Accuracy    0.867 | Train Loss    0.482 | Valid Accuracy    0.852 | Valid Loss    0.524 \n",
            "-----------------------------------------------------------\n",
            "| epoch  50 |     5/   12 batches | accuracy    0.865\n",
            "| epoch  50 |    10/   12 batches | accuracy    0.871\n",
            "-----------------------------------------------------------\n",
            "| End of epoch  50 | Time: 20.83s | Train Accuracy    0.870 | Train Loss    0.483 | Valid Accuracy    0.852 | Valid Loss    0.519 \n",
            "-----------------------------------------------------------\n"
          ]
        }
      ]
    },
    {
      "cell_type": "code",
      "source": [
        "test_acc, test_loss = evaluate_epoch(transfer_model, criterion, test_dataloader)\n",
        "test_acc, test_loss"
      ],
      "metadata": {
        "colab": {
          "base_uri": "https://localhost:8080/"
        },
        "id": "TqhT-xZ25v-0",
        "outputId": "691f38aa-9a6f-4e07-a542-393a936bb7db"
      },
      "execution_count": null,
      "outputs": [
        {
          "output_type": "execute_result",
          "data": {
            "text/plain": [
              "(0.8697740709459459, 0.514044776558876)"
            ]
          },
          "metadata": {},
          "execution_count": 113
        }
      ]
    },
    {
      "cell_type": "code",
      "source": [
        "plot_result(\n",
        "    num_epochs,\n",
        "    transfer_metrics[\"train_accuracy\"],\n",
        "    transfer_metrics[\"valid_accuracy\"],\n",
        "    transfer_metrics[\"train_loss\"],\n",
        "    transfer_metrics[\"valid_loss\"]\n",
        ")"
      ],
      "metadata": {
        "colab": {
          "base_uri": "https://localhost:8080/",
          "height": 545
        },
        "id": "LItvSEP45zGX",
        "outputId": "28bc1527-7253-46be-d914-d551afaf4383"
      },
      "execution_count": null,
      "outputs": [
        {
          "output_type": "display_data",
          "data": {
            "text/plain": [
              "<Figure size 1200x600 with 2 Axes>"
            ],
            "image/png": "[encoded data removed]"
          },
          "metadata": {}
        }
      ]
    },
    {
      "cell_type": "markdown",
      "source": [
        "###**4.3. Fine-Tuning**"
      ],
      "metadata": {
        "id": "YBBaFdjf4_dZ"
      }
    },
    {
      "cell_type": "code",
      "source": [
        "model = models.resnet18(weights=models.ResNet18_Weights.IMAGENET1K_V1)"
      ],
      "metadata": {
        "id": "Lb46HLR45Ff5",
        "colab": {
          "base_uri": "https://localhost:8080/"
        },
        "outputId": "ec0cca01-2ac8-46b1-e30d-225feb0fb987"
      },
      "execution_count": null,
      "outputs": [
        {
          "output_type": "stream",
          "name": "stderr",
          "text": [
            "Downloading: \"https://download.pytorch.org/models/resnet18-f37072fd.pth\" to /root/.cache/torch/hub/checkpoints/resnet18-f37072fd.pth\n",
            "100%|██████████| 44.7M/44.7M [00:00<00:00, 141MB/s]\n"
          ]
        }
      ]
    },
    {
      "cell_type": "code",
      "source": [
        "model"
      ],
      "metadata": {
        "colab": {
          "base_uri": "https://localhost:8080/"
        },
        "id": "kQUYQMM7-pm4",
        "outputId": "bb884201-94bc-41db-a6c1-5364bae6293b"
      },
      "execution_count": null,
      "outputs": [
        {
          "output_type": "execute_result",
          "data": {
            "text/plain": [
              "ResNet(\n",
              "  (conv1): Conv2d(3, 64, kernel_size=(7, 7), stride=(2, 2), padding=(3, 3), bias=False)\n",
              "  (bn1): BatchNorm2d(64, eps=1e-05, momentum=0.1, affine=True, track_running_stats=True)\n",
              "  (relu): ReLU(inplace=True)\n",
              "  (maxpool): MaxPool2d(kernel_size=3, stride=2, padding=1, dilation=1, ceil_mode=False)\n",
              "  (layer1): Sequential(\n",
              "    (0): BasicBlock(\n",
              "      (conv1): Conv2d(64, 64, kernel_size=(3, 3), stride=(1, 1), padding=(1, 1), bias=False)\n",
              "      (bn1): BatchNorm2d(64, eps=1e-05, momentum=0.1, affine=True, track_running_stats=True)\n",
              "      (relu): ReLU(inplace=True)\n",
              "      (conv2): Conv2d(64, 64, kernel_size=(3, 3), stride=(1, 1), padding=(1, 1), bias=False)\n",
              "      (bn2): BatchNorm2d(64, eps=1e-05, momentum=0.1, affine=True, track_running_stats=True)\n",
              "    )\n",
              "    (1): BasicBlock(\n",
              "      (conv1): Conv2d(64, 64, kernel_size=(3, 3), stride=(1, 1), padding=(1, 1), bias=False)\n",
              "      (bn1): BatchNorm2d(64, eps=1e-05, momentum=0.1, affine=True, track_running_stats=True)\n",
              "      (relu): ReLU(inplace=True)\n",
              "      (conv2): Conv2d(64, 64, kernel_size=(3, 3), stride=(1, 1), padding=(1, 1), bias=False)\n",
              "      (bn2): BatchNorm2d(64, eps=1e-05, momentum=0.1, affine=True, track_running_stats=True)\n",
              "    )\n",
              "  )\n",
              "  (layer2): Sequential(\n",
              "    (0): BasicBlock(\n",
              "      (conv1): Conv2d(64, 128, kernel_size=(3, 3), stride=(2, 2), padding=(1, 1), bias=False)\n",
              "      (bn1): BatchNorm2d(128, eps=1e-05, momentum=0.1, affine=True, track_running_stats=True)\n",
              "      (relu): ReLU(inplace=True)\n",
              "      (conv2): Conv2d(128, 128, kernel_size=(3, 3), stride=(1, 1), padding=(1, 1), bias=False)\n",
              "      (bn2): BatchNorm2d(128, eps=1e-05, momentum=0.1, affine=True, track_running_stats=True)\n",
              "      (downsample): Sequential(\n",
              "        (0): Conv2d(64, 128, kernel_size=(1, 1), stride=(2, 2), bias=False)\n",
              "        (1): BatchNorm2d(128, eps=1e-05, momentum=0.1, affine=True, track_running_stats=True)\n",
              "      )\n",
              "    )\n",
              "    (1): BasicBlock(\n",
              "      (conv1): Conv2d(128, 128, kernel_size=(3, 3), stride=(1, 1), padding=(1, 1), bias=False)\n",
              "      (bn1): BatchNorm2d(128, eps=1e-05, momentum=0.1, affine=True, track_running_stats=True)\n",
              "      (relu): ReLU(inplace=True)\n",
              "      (conv2): Conv2d(128, 128, kernel_size=(3, 3), stride=(1, 1), padding=(1, 1), bias=False)\n",
              "      (bn2): BatchNorm2d(128, eps=1e-05, momentum=0.1, affine=True, track_running_stats=True)\n",
              "    )\n",
              "  )\n",
              "  (layer3): Sequential(\n",
              "    (0): BasicBlock(\n",
              "      (conv1): Conv2d(128, 256, kernel_size=(3, 3), stride=(2, 2), padding=(1, 1), bias=False)\n",
              "      (bn1): BatchNorm2d(256, eps=1e-05, momentum=0.1, affine=True, track_running_stats=True)\n",
              "      (relu): ReLU(inplace=True)\n",
              "      (conv2): Conv2d(256, 256, kernel_size=(3, 3), stride=(1, 1), padding=(1, 1), bias=False)\n",
              "      (bn2): BatchNorm2d(256, eps=1e-05, momentum=0.1, affine=True, track_running_stats=True)\n",
              "      (downsample): Sequential(\n",
              "        (0): Conv2d(128, 256, kernel_size=(1, 1), stride=(2, 2), bias=False)\n",
              "        (1): BatchNorm2d(256, eps=1e-05, momentum=0.1, affine=True, track_running_stats=True)\n",
              "      )\n",
              "    )\n",
              "    (1): BasicBlock(\n",
              "      (conv1): Conv2d(256, 256, kernel_size=(3, 3), stride=(1, 1), padding=(1, 1), bias=False)\n",
              "      (bn1): BatchNorm2d(256, eps=1e-05, momentum=0.1, affine=True, track_running_stats=True)\n",
              "      (relu): ReLU(inplace=True)\n",
              "      (conv2): Conv2d(256, 256, kernel_size=(3, 3), stride=(1, 1), padding=(1, 1), bias=False)\n",
              "      (bn2): BatchNorm2d(256, eps=1e-05, momentum=0.1, affine=True, track_running_stats=True)\n",
              "    )\n",
              "  )\n",
              "  (layer4): Sequential(\n",
              "    (0): BasicBlock(\n",
              "      (conv1): Conv2d(256, 512, kernel_size=(3, 3), stride=(2, 2), padding=(1, 1), bias=False)\n",
              "      (bn1): BatchNorm2d(512, eps=1e-05, momentum=0.1, affine=True, track_running_stats=True)\n",
              "      (relu): ReLU(inplace=True)\n",
              "      (conv2): Conv2d(512, 512, kernel_size=(3, 3), stride=(1, 1), padding=(1, 1), bias=False)\n",
              "      (bn2): BatchNorm2d(512, eps=1e-05, momentum=0.1, affine=True, track_running_stats=True)\n",
              "      (downsample): Sequential(\n",
              "        (0): Conv2d(256, 512, kernel_size=(1, 1), stride=(2, 2), bias=False)\n",
              "        (1): BatchNorm2d(512, eps=1e-05, momentum=0.1, affine=True, track_running_stats=True)\n",
              "      )\n",
              "    )\n",
              "    (1): BasicBlock(\n",
              "      (conv1): Conv2d(512, 512, kernel_size=(3, 3), stride=(1, 1), padding=(1, 1), bias=False)\n",
              "      (bn1): BatchNorm2d(512, eps=1e-05, momentum=0.1, affine=True, track_running_stats=True)\n",
              "      (relu): ReLU(inplace=True)\n",
              "      (conv2): Conv2d(512, 512, kernel_size=(3, 3), stride=(1, 1), padding=(1, 1), bias=False)\n",
              "      (bn2): BatchNorm2d(512, eps=1e-05, momentum=0.1, affine=True, track_running_stats=True)\n",
              "    )\n",
              "  )\n",
              "  (avgpool): AdaptiveAvgPool2d(output_size=(1, 1))\n",
              "  (fc): Linear(in_features=512, out_features=1000, bias=True)\n",
              ")"
            ]
          },
          "metadata": {},
          "execution_count": 138
        }
      ]
    },
    {
      "cell_type": "code",
      "source": [
        "# freeze the first 50 layers\n",
        "num_layers = 50\n",
        "for index, param in enumerate(model.parameters()):\n",
        "    if index < num_layers:\n",
        "        param.requires_grad = False"
      ],
      "metadata": {
        "id": "VeAgVXsN9aXX"
      },
      "execution_count": null,
      "outputs": []
    },
    {
      "cell_type": "code",
      "source": [
        "in_features = model.fc.in_features\n",
        "model.fc = nn.Linear(in_features, num_classes)"
      ],
      "metadata": {
        "id": "Fd2fbr6cnv5y"
      },
      "execution_count": null,
      "outputs": []
    },
    {
      "cell_type": "code",
      "source": [
        "model.to(device)"
      ],
      "metadata": {
        "colab": {
          "base_uri": "https://localhost:8080/"
        },
        "id": "xTytQmmz_P6f",
        "outputId": "962fb16b-af78-4d40-d5a7-755811bceeb9"
      },
      "execution_count": null,
      "outputs": [
        {
          "output_type": "execute_result",
          "data": {
            "text/plain": [
              "ResNet(\n",
              "  (conv1): Conv2d(3, 64, kernel_size=(7, 7), stride=(2, 2), padding=(3, 3), bias=False)\n",
              "  (bn1): BatchNorm2d(64, eps=1e-05, momentum=0.1, affine=True, track_running_stats=True)\n",
              "  (relu): ReLU(inplace=True)\n",
              "  (maxpool): MaxPool2d(kernel_size=3, stride=2, padding=1, dilation=1, ceil_mode=False)\n",
              "  (layer1): Sequential(\n",
              "    (0): BasicBlock(\n",
              "      (conv1): Conv2d(64, 64, kernel_size=(3, 3), stride=(1, 1), padding=(1, 1), bias=False)\n",
              "      (bn1): BatchNorm2d(64, eps=1e-05, momentum=0.1, affine=True, track_running_stats=True)\n",
              "      (relu): ReLU(inplace=True)\n",
              "      (conv2): Conv2d(64, 64, kernel_size=(3, 3), stride=(1, 1), padding=(1, 1), bias=False)\n",
              "      (bn2): BatchNorm2d(64, eps=1e-05, momentum=0.1, affine=True, track_running_stats=True)\n",
              "    )\n",
              "    (1): BasicBlock(\n",
              "      (conv1): Conv2d(64, 64, kernel_size=(3, 3), stride=(1, 1), padding=(1, 1), bias=False)\n",
              "      (bn1): BatchNorm2d(64, eps=1e-05, momentum=0.1, affine=True, track_running_stats=True)\n",
              "      (relu): ReLU(inplace=True)\n",
              "      (conv2): Conv2d(64, 64, kernel_size=(3, 3), stride=(1, 1), padding=(1, 1), bias=False)\n",
              "      (bn2): BatchNorm2d(64, eps=1e-05, momentum=0.1, affine=True, track_running_stats=True)\n",
              "    )\n",
              "  )\n",
              "  (layer2): Sequential(\n",
              "    (0): BasicBlock(\n",
              "      (conv1): Conv2d(64, 128, kernel_size=(3, 3), stride=(2, 2), padding=(1, 1), bias=False)\n",
              "      (bn1): BatchNorm2d(128, eps=1e-05, momentum=0.1, affine=True, track_running_stats=True)\n",
              "      (relu): ReLU(inplace=True)\n",
              "      (conv2): Conv2d(128, 128, kernel_size=(3, 3), stride=(1, 1), padding=(1, 1), bias=False)\n",
              "      (bn2): BatchNorm2d(128, eps=1e-05, momentum=0.1, affine=True, track_running_stats=True)\n",
              "      (downsample): Sequential(\n",
              "        (0): Conv2d(64, 128, kernel_size=(1, 1), stride=(2, 2), bias=False)\n",
              "        (1): BatchNorm2d(128, eps=1e-05, momentum=0.1, affine=True, track_running_stats=True)\n",
              "      )\n",
              "    )\n",
              "    (1): BasicBlock(\n",
              "      (conv1): Conv2d(128, 128, kernel_size=(3, 3), stride=(1, 1), padding=(1, 1), bias=False)\n",
              "      (bn1): BatchNorm2d(128, eps=1e-05, momentum=0.1, affine=True, track_running_stats=True)\n",
              "      (relu): ReLU(inplace=True)\n",
              "      (conv2): Conv2d(128, 128, kernel_size=(3, 3), stride=(1, 1), padding=(1, 1), bias=False)\n",
              "      (bn2): BatchNorm2d(128, eps=1e-05, momentum=0.1, affine=True, track_running_stats=True)\n",
              "    )\n",
              "  )\n",
              "  (layer3): Sequential(\n",
              "    (0): BasicBlock(\n",
              "      (conv1): Conv2d(128, 256, kernel_size=(3, 3), stride=(2, 2), padding=(1, 1), bias=False)\n",
              "      (bn1): BatchNorm2d(256, eps=1e-05, momentum=0.1, affine=True, track_running_stats=True)\n",
              "      (relu): ReLU(inplace=True)\n",
              "      (conv2): Conv2d(256, 256, kernel_size=(3, 3), stride=(1, 1), padding=(1, 1), bias=False)\n",
              "      (bn2): BatchNorm2d(256, eps=1e-05, momentum=0.1, affine=True, track_running_stats=True)\n",
              "      (downsample): Sequential(\n",
              "        (0): Conv2d(128, 256, kernel_size=(1, 1), stride=(2, 2), bias=False)\n",
              "        (1): BatchNorm2d(256, eps=1e-05, momentum=0.1, affine=True, track_running_stats=True)\n",
              "      )\n",
              "    )\n",
              "    (1): BasicBlock(\n",
              "      (conv1): Conv2d(256, 256, kernel_size=(3, 3), stride=(1, 1), padding=(1, 1), bias=False)\n",
              "      (bn1): BatchNorm2d(256, eps=1e-05, momentum=0.1, affine=True, track_running_stats=True)\n",
              "      (relu): ReLU(inplace=True)\n",
              "      (conv2): Conv2d(256, 256, kernel_size=(3, 3), stride=(1, 1), padding=(1, 1), bias=False)\n",
              "      (bn2): BatchNorm2d(256, eps=1e-05, momentum=0.1, affine=True, track_running_stats=True)\n",
              "    )\n",
              "  )\n",
              "  (layer4): Sequential(\n",
              "    (0): BasicBlock(\n",
              "      (conv1): Conv2d(256, 512, kernel_size=(3, 3), stride=(2, 2), padding=(1, 1), bias=False)\n",
              "      (bn1): BatchNorm2d(512, eps=1e-05, momentum=0.1, affine=True, track_running_stats=True)\n",
              "      (relu): ReLU(inplace=True)\n",
              "      (conv2): Conv2d(512, 512, kernel_size=(3, 3), stride=(1, 1), padding=(1, 1), bias=False)\n",
              "      (bn2): BatchNorm2d(512, eps=1e-05, momentum=0.1, affine=True, track_running_stats=True)\n",
              "      (downsample): Sequential(\n",
              "        (0): Conv2d(256, 512, kernel_size=(1, 1), stride=(2, 2), bias=False)\n",
              "        (1): BatchNorm2d(512, eps=1e-05, momentum=0.1, affine=True, track_running_stats=True)\n",
              "      )\n",
              "    )\n",
              "    (1): BasicBlock(\n",
              "      (conv1): Conv2d(512, 512, kernel_size=(3, 3), stride=(1, 1), padding=(1, 1), bias=False)\n",
              "      (bn1): BatchNorm2d(512, eps=1e-05, momentum=0.1, affine=True, track_running_stats=True)\n",
              "      (relu): ReLU(inplace=True)\n",
              "      (conv2): Conv2d(512, 512, kernel_size=(3, 3), stride=(1, 1), padding=(1, 1), bias=False)\n",
              "      (bn2): BatchNorm2d(512, eps=1e-05, momentum=0.1, affine=True, track_running_stats=True)\n",
              "    )\n",
              "  )\n",
              "  (avgpool): AdaptiveAvgPool2d(output_size=(1, 1))\n",
              "  (fc): Linear(in_features=512, out_features=1000, bias=True)\n",
              ")"
            ]
          },
          "metadata": {},
          "execution_count": 143
        }
      ]
    },
    {
      "cell_type": "code",
      "source": [
        "device = torch.device('cuda' if torch.cuda.is_available() else 'cpu')"
      ],
      "metadata": {
        "id": "Y8GvykIEn48Y"
      },
      "execution_count": null,
      "outputs": []
    },
    {
      "cell_type": "code",
      "source": [
        "model.to(device)"
      ],
      "metadata": {
        "colab": {
          "base_uri": "https://localhost:8080/"
        },
        "id": "ENycynLnn5hk",
        "outputId": "e355daa3-861a-4a57-8d70-cf1ca0ba13f4"
      },
      "execution_count": null,
      "outputs": [
        {
          "output_type": "execute_result",
          "data": {
            "text/plain": [
              "ResNet(\n",
              "  (conv1): Conv2d(3, 64, kernel_size=(7, 7), stride=(2, 2), padding=(3, 3), bias=False)\n",
              "  (bn1): BatchNorm2d(64, eps=1e-05, momentum=0.1, affine=True, track_running_stats=True)\n",
              "  (relu): ReLU(inplace=True)\n",
              "  (maxpool): MaxPool2d(kernel_size=3, stride=2, padding=1, dilation=1, ceil_mode=False)\n",
              "  (layer1): Sequential(\n",
              "    (0): BasicBlock(\n",
              "      (conv1): Conv2d(64, 64, kernel_size=(3, 3), stride=(1, 1), padding=(1, 1), bias=False)\n",
              "      (bn1): BatchNorm2d(64, eps=1e-05, momentum=0.1, affine=True, track_running_stats=True)\n",
              "      (relu): ReLU(inplace=True)\n",
              "      (conv2): Conv2d(64, 64, kernel_size=(3, 3), stride=(1, 1), padding=(1, 1), bias=False)\n",
              "      (bn2): BatchNorm2d(64, eps=1e-05, momentum=0.1, affine=True, track_running_stats=True)\n",
              "    )\n",
              "    (1): BasicBlock(\n",
              "      (conv1): Conv2d(64, 64, kernel_size=(3, 3), stride=(1, 1), padding=(1, 1), bias=False)\n",
              "      (bn1): BatchNorm2d(64, eps=1e-05, momentum=0.1, affine=True, track_running_stats=True)\n",
              "      (relu): ReLU(inplace=True)\n",
              "      (conv2): Conv2d(64, 64, kernel_size=(3, 3), stride=(1, 1), padding=(1, 1), bias=False)\n",
              "      (bn2): BatchNorm2d(64, eps=1e-05, momentum=0.1, affine=True, track_running_stats=True)\n",
              "    )\n",
              "  )\n",
              "  (layer2): Sequential(\n",
              "    (0): BasicBlock(\n",
              "      (conv1): Conv2d(64, 128, kernel_size=(3, 3), stride=(2, 2), padding=(1, 1), bias=False)\n",
              "      (bn1): BatchNorm2d(128, eps=1e-05, momentum=0.1, affine=True, track_running_stats=True)\n",
              "      (relu): ReLU(inplace=True)\n",
              "      (conv2): Conv2d(128, 128, kernel_size=(3, 3), stride=(1, 1), padding=(1, 1), bias=False)\n",
              "      (bn2): BatchNorm2d(128, eps=1e-05, momentum=0.1, affine=True, track_running_stats=True)\n",
              "      (downsample): Sequential(\n",
              "        (0): Conv2d(64, 128, kernel_size=(1, 1), stride=(2, 2), bias=False)\n",
              "        (1): BatchNorm2d(128, eps=1e-05, momentum=0.1, affine=True, track_running_stats=True)\n",
              "      )\n",
              "    )\n",
              "    (1): BasicBlock(\n",
              "      (conv1): Conv2d(128, 128, kernel_size=(3, 3), stride=(1, 1), padding=(1, 1), bias=False)\n",
              "      (bn1): BatchNorm2d(128, eps=1e-05, momentum=0.1, affine=True, track_running_stats=True)\n",
              "      (relu): ReLU(inplace=True)\n",
              "      (conv2): Conv2d(128, 128, kernel_size=(3, 3), stride=(1, 1), padding=(1, 1), bias=False)\n",
              "      (bn2): BatchNorm2d(128, eps=1e-05, momentum=0.1, affine=True, track_running_stats=True)\n",
              "    )\n",
              "  )\n",
              "  (layer3): Sequential(\n",
              "    (0): BasicBlock(\n",
              "      (conv1): Conv2d(128, 256, kernel_size=(3, 3), stride=(2, 2), padding=(1, 1), bias=False)\n",
              "      (bn1): BatchNorm2d(256, eps=1e-05, momentum=0.1, affine=True, track_running_stats=True)\n",
              "      (relu): ReLU(inplace=True)\n",
              "      (conv2): Conv2d(256, 256, kernel_size=(3, 3), stride=(1, 1), padding=(1, 1), bias=False)\n",
              "      (bn2): BatchNorm2d(256, eps=1e-05, momentum=0.1, affine=True, track_running_stats=True)\n",
              "      (downsample): Sequential(\n",
              "        (0): Conv2d(128, 256, kernel_size=(1, 1), stride=(2, 2), bias=False)\n",
              "        (1): BatchNorm2d(256, eps=1e-05, momentum=0.1, affine=True, track_running_stats=True)\n",
              "      )\n",
              "    )\n",
              "    (1): BasicBlock(\n",
              "      (conv1): Conv2d(256, 256, kernel_size=(3, 3), stride=(1, 1), padding=(1, 1), bias=False)\n",
              "      (bn1): BatchNorm2d(256, eps=1e-05, momentum=0.1, affine=True, track_running_stats=True)\n",
              "      (relu): ReLU(inplace=True)\n",
              "      (conv2): Conv2d(256, 256, kernel_size=(3, 3), stride=(1, 1), padding=(1, 1), bias=False)\n",
              "      (bn2): BatchNorm2d(256, eps=1e-05, momentum=0.1, affine=True, track_running_stats=True)\n",
              "    )\n",
              "  )\n",
              "  (layer4): Sequential(\n",
              "    (0): BasicBlock(\n",
              "      (conv1): Conv2d(256, 512, kernel_size=(3, 3), stride=(2, 2), padding=(1, 1), bias=False)\n",
              "      (bn1): BatchNorm2d(512, eps=1e-05, momentum=0.1, affine=True, track_running_stats=True)\n",
              "      (relu): ReLU(inplace=True)\n",
              "      (conv2): Conv2d(512, 512, kernel_size=(3, 3), stride=(1, 1), padding=(1, 1), bias=False)\n",
              "      (bn2): BatchNorm2d(512, eps=1e-05, momentum=0.1, affine=True, track_running_stats=True)\n",
              "      (downsample): Sequential(\n",
              "        (0): Conv2d(256, 512, kernel_size=(1, 1), stride=(2, 2), bias=False)\n",
              "        (1): BatchNorm2d(512, eps=1e-05, momentum=0.1, affine=True, track_running_stats=True)\n",
              "      )\n",
              "    )\n",
              "    (1): BasicBlock(\n",
              "      (conv1): Conv2d(512, 512, kernel_size=(3, 3), stride=(1, 1), padding=(1, 1), bias=False)\n",
              "      (bn1): BatchNorm2d(512, eps=1e-05, momentum=0.1, affine=True, track_running_stats=True)\n",
              "      (relu): ReLU(inplace=True)\n",
              "      (conv2): Conv2d(512, 512, kernel_size=(3, 3), stride=(1, 1), padding=(1, 1), bias=False)\n",
              "      (bn2): BatchNorm2d(512, eps=1e-05, momentum=0.1, affine=True, track_running_stats=True)\n",
              "    )\n",
              "  )\n",
              "  (avgpool): AdaptiveAvgPool2d(output_size=(1, 1))\n",
              "  (fc): Linear(in_features=512, out_features=5, bias=True)\n",
              ")"
            ]
          },
          "metadata": {},
          "execution_count": 9
        }
      ]
    },
    {
      "cell_type": "code",
      "source": [
        "summary(model, (3, 224, 224))"
      ],
      "metadata": {
        "colab": {
          "base_uri": "https://localhost:8080/"
        },
        "id": "up-SpW2R_SLc",
        "outputId": "028a9b8e-0d53-4ec2-86c1-55e2afda95a5"
      },
      "execution_count": null,
      "outputs": [
        {
          "output_type": "stream",
          "name": "stdout",
          "text": [
            "----------------------------------------------------------------\n",
            "        Layer (type)               Output Shape         Param #\n",
            "================================================================\n",
            "            Conv2d-1         [-1, 64, 112, 112]           9,408\n",
            "       BatchNorm2d-2         [-1, 64, 112, 112]             128\n",
            "              ReLU-3         [-1, 64, 112, 112]               0\n",
            "         MaxPool2d-4           [-1, 64, 56, 56]               0\n",
            "            Conv2d-5           [-1, 64, 56, 56]          36,864\n",
            "       BatchNorm2d-6           [-1, 64, 56, 56]             128\n",
            "              ReLU-7           [-1, 64, 56, 56]               0\n",
            "            Conv2d-8           [-1, 64, 56, 56]          36,864\n",
            "       BatchNorm2d-9           [-1, 64, 56, 56]             128\n",
            "             ReLU-10           [-1, 64, 56, 56]               0\n",
            "       BasicBlock-11           [-1, 64, 56, 56]               0\n",
            "           Conv2d-12           [-1, 64, 56, 56]          36,864\n",
            "      BatchNorm2d-13           [-1, 64, 56, 56]             128\n",
            "             ReLU-14           [-1, 64, 56, 56]               0\n",
            "           Conv2d-15           [-1, 64, 56, 56]          36,864\n",
            "      BatchNorm2d-16           [-1, 64, 56, 56]             128\n",
            "             ReLU-17           [-1, 64, 56, 56]               0\n",
            "       BasicBlock-18           [-1, 64, 56, 56]               0\n",
            "           Conv2d-19          [-1, 128, 28, 28]          73,728\n",
            "      BatchNorm2d-20          [-1, 128, 28, 28]             256\n",
            "             ReLU-21          [-1, 128, 28, 28]               0\n",
            "           Conv2d-22          [-1, 128, 28, 28]         147,456\n",
            "      BatchNorm2d-23          [-1, 128, 28, 28]             256\n",
            "           Conv2d-24          [-1, 128, 28, 28]           8,192\n",
            "      BatchNorm2d-25          [-1, 128, 28, 28]             256\n",
            "             ReLU-26          [-1, 128, 28, 28]               0\n",
            "       BasicBlock-27          [-1, 128, 28, 28]               0\n",
            "           Conv2d-28          [-1, 128, 28, 28]         147,456\n",
            "      BatchNorm2d-29          [-1, 128, 28, 28]             256\n",
            "             ReLU-30          [-1, 128, 28, 28]               0\n",
            "           Conv2d-31          [-1, 128, 28, 28]         147,456\n",
            "      BatchNorm2d-32          [-1, 128, 28, 28]             256\n",
            "             ReLU-33          [-1, 128, 28, 28]               0\n",
            "       BasicBlock-34          [-1, 128, 28, 28]               0\n",
            "           Conv2d-35          [-1, 256, 14, 14]         294,912\n",
            "      BatchNorm2d-36          [-1, 256, 14, 14]             512\n",
            "             ReLU-37          [-1, 256, 14, 14]               0\n",
            "           Conv2d-38          [-1, 256, 14, 14]         589,824\n",
            "      BatchNorm2d-39          [-1, 256, 14, 14]             512\n",
            "           Conv2d-40          [-1, 256, 14, 14]          32,768\n",
            "      BatchNorm2d-41          [-1, 256, 14, 14]             512\n",
            "             ReLU-42          [-1, 256, 14, 14]               0\n",
            "       BasicBlock-43          [-1, 256, 14, 14]               0\n",
            "           Conv2d-44          [-1, 256, 14, 14]         589,824\n",
            "      BatchNorm2d-45          [-1, 256, 14, 14]             512\n",
            "             ReLU-46          [-1, 256, 14, 14]               0\n",
            "           Conv2d-47          [-1, 256, 14, 14]         589,824\n",
            "      BatchNorm2d-48          [-1, 256, 14, 14]             512\n",
            "             ReLU-49          [-1, 256, 14, 14]               0\n",
            "       BasicBlock-50          [-1, 256, 14, 14]               0\n",
            "           Conv2d-51            [-1, 512, 7, 7]       1,179,648\n",
            "      BatchNorm2d-52            [-1, 512, 7, 7]           1,024\n",
            "             ReLU-53            [-1, 512, 7, 7]               0\n",
            "           Conv2d-54            [-1, 512, 7, 7]       2,359,296\n",
            "      BatchNorm2d-55            [-1, 512, 7, 7]           1,024\n",
            "           Conv2d-56            [-1, 512, 7, 7]         131,072\n",
            "      BatchNorm2d-57            [-1, 512, 7, 7]           1,024\n",
            "             ReLU-58            [-1, 512, 7, 7]               0\n",
            "       BasicBlock-59            [-1, 512, 7, 7]               0\n",
            "           Conv2d-60            [-1, 512, 7, 7]       2,359,296\n",
            "      BatchNorm2d-61            [-1, 512, 7, 7]           1,024\n",
            "             ReLU-62            [-1, 512, 7, 7]               0\n",
            "           Conv2d-63            [-1, 512, 7, 7]       2,359,296\n",
            "      BatchNorm2d-64            [-1, 512, 7, 7]           1,024\n",
            "             ReLU-65            [-1, 512, 7, 7]               0\n",
            "       BasicBlock-66            [-1, 512, 7, 7]               0\n",
            "AdaptiveAvgPool2d-67            [-1, 512, 1, 1]               0\n",
            "           Linear-68                    [-1, 5]           2,565\n",
            "================================================================\n",
            "Total params: 11,179,077\n",
            "Trainable params: 4,855,301\n",
            "Non-trainable params: 6,323,776\n",
            "----------------------------------------------------------------\n",
            "Input size (MB): 0.57\n",
            "Forward/backward pass size (MB): 62.79\n",
            "Params size (MB): 42.64\n",
            "Estimated Total Size (MB): 106.00\n",
            "----------------------------------------------------------------\n"
          ]
        }
      ]
    },
    {
      "cell_type": "code",
      "source": [
        "fine_tuning_model = models.resnet18(\n",
        "    weights=models.ResNet18_Weights.IMAGENET1K_V1\n",
        ")\n",
        "\n",
        "# freeze the first 50 layers\n",
        "num_layers = 50\n",
        "for index, param in enumerate(fine_tuning_model.parameters()):\n",
        "    if index < num_layers:\n",
        "        param.requires_grad = False\n",
        "\n",
        "in_features = fine_tuning_model.fc.in_features\n",
        "fine_tuning_model.fc = nn.Linear(in_features, num_classes)\n",
        "\n",
        "device = torch.device('cuda' if torch.cuda.is_available() else 'cpu')\n",
        "fine_tuning_model.to(device)\n",
        "\n",
        "criterion = torch.nn.CrossEntropyLoss()\n",
        "optimizer = optim.Adam(fine_tuning_model.parameters(), lr=0.0001)\n",
        "\n",
        "num_epochs = 50\n",
        "save_model = './model'\n",
        "os.makedirs(save_model, exist_ok = True)\n",
        "model_name = 'fine_tuning_model'\n",
        "\n",
        "fine_tuning_model, fine_tuning_metrics = train(\n",
        "    fine_tuning_model, model_name, save_model, optimizer, criterion, train_dataloader, valid_dataloader, num_epochs, device\n",
        ")"
      ],
      "metadata": {
        "colab": {
          "base_uri": "https://localhost:8080/"
        },
        "id": "zGuvvqBD_lC1",
        "outputId": "d656dee4-e9b4-4647-a823-7d8539c11f23"
      },
      "execution_count": null,
      "outputs": [
        {
          "output_type": "stream",
          "name": "stdout",
          "text": [
            "| epoch   1 |     5/   12 batches | accuracy    0.482\n",
            "| epoch   1 |    10/   12 batches | accuracy    0.623\n",
            "-----------------------------------------------------------\n",
            "| End of epoch   1 | Time: 22.53s | Train Accuracy    0.642 | Train Loss    0.982 | Valid Accuracy    0.839 | Valid Loss    0.523 \n",
            "-----------------------------------------------------------\n",
            "| epoch   2 |     5/   12 batches | accuracy    0.874\n",
            "| epoch   2 |    10/   12 batches | accuracy    0.883\n",
            "-----------------------------------------------------------\n",
            "| End of epoch   2 | Time: 22.11s | Train Accuracy    0.886 | Train Loss    0.383 | Valid Accuracy    0.883 | Valid Loss    0.315 \n",
            "-----------------------------------------------------------\n",
            "| epoch   3 |     5/   12 batches | accuracy    0.928\n",
            "| epoch   3 |    10/   12 batches | accuracy    0.928\n",
            "-----------------------------------------------------------\n",
            "| End of epoch   3 | Time: 21.66s | Train Accuracy    0.931 | Train Loss    0.247 | Valid Accuracy    0.910 | Valid Loss    0.246 \n",
            "-----------------------------------------------------------\n",
            "| epoch   4 |     5/   12 batches | accuracy    0.954\n",
            "| epoch   4 |    10/   12 batches | accuracy    0.957\n",
            "-----------------------------------------------------------\n",
            "| End of epoch   4 | Time: 21.98s | Train Accuracy    0.957 | Train Loss    0.179 | Valid Accuracy    0.923 | Valid Loss    0.223 \n",
            "-----------------------------------------------------------\n",
            "| epoch   5 |     5/   12 batches | accuracy    0.969\n",
            "| epoch   5 |    10/   12 batches | accuracy    0.972\n",
            "-----------------------------------------------------------\n",
            "| End of epoch   5 | Time: 21.96s | Train Accuracy    0.974 | Train Loss    0.133 | Valid Accuracy    0.925 | Valid Loss    0.213 \n",
            "-----------------------------------------------------------\n",
            "| epoch   6 |     5/   12 batches | accuracy    0.986\n",
            "| epoch   6 |    10/   12 batches | accuracy    0.983\n",
            "-----------------------------------------------------------\n",
            "| End of epoch   6 | Time: 20.69s | Train Accuracy    0.983 | Train Loss    0.101 | Valid Accuracy    0.934 | Valid Loss    0.202 \n",
            "-----------------------------------------------------------\n",
            "| epoch   7 |     5/   12 batches | accuracy    0.988\n",
            "| epoch   7 |    10/   12 batches | accuracy    0.990\n",
            "-----------------------------------------------------------\n",
            "| End of epoch   7 | Time: 21.24s | Train Accuracy    0.990 | Train Loss    0.074 | Valid Accuracy    0.934 | Valid Loss    0.197 \n",
            "-----------------------------------------------------------\n",
            "| epoch   8 |     5/   12 batches | accuracy    0.997\n",
            "| epoch   8 |    10/   12 batches | accuracy    0.998\n",
            "-----------------------------------------------------------\n",
            "| End of epoch   8 | Time: 21.69s | Train Accuracy    0.997 | Train Loss    0.057 | Valid Accuracy    0.936 | Valid Loss    0.189 \n",
            "-----------------------------------------------------------\n",
            "| epoch   9 |     5/   12 batches | accuracy    0.999\n",
            "| epoch   9 |    10/   12 batches | accuracy    0.998\n",
            "-----------------------------------------------------------\n",
            "| End of epoch   9 | Time: 23.45s | Train Accuracy    0.998 | Train Loss    0.044 | Valid Accuracy    0.942 | Valid Loss    0.189 \n",
            "-----------------------------------------------------------\n",
            "| epoch  10 |     5/   12 batches | accuracy    1.000\n",
            "| epoch  10 |    10/   12 batches | accuracy    0.999\n",
            "-----------------------------------------------------------\n",
            "| End of epoch  10 | Time: 21.23s | Train Accuracy    0.999 | Train Loss    0.035 | Valid Accuracy    0.940 | Valid Loss    0.191 \n",
            "-----------------------------------------------------------\n",
            "| epoch  11 |     5/   12 batches | accuracy    1.000\n",
            "| epoch  11 |    10/   12 batches | accuracy    0.999\n",
            "-----------------------------------------------------------\n",
            "| End of epoch  11 | Time: 22.16s | Train Accuracy    0.999 | Train Loss    0.027 | Valid Accuracy    0.944 | Valid Loss    0.188 \n",
            "-----------------------------------------------------------\n",
            "| epoch  12 |     5/   12 batches | accuracy    0.999\n",
            "| epoch  12 |    10/   12 batches | accuracy    1.000\n",
            "-----------------------------------------------------------\n",
            "| End of epoch  12 | Time: 20.94s | Train Accuracy    0.999 | Train Loss    0.022 | Valid Accuracy    0.940 | Valid Loss    0.181 \n",
            "-----------------------------------------------------------\n",
            "| epoch  13 |     5/   12 batches | accuracy    1.000\n",
            "| epoch  13 |    10/   12 batches | accuracy    1.000\n",
            "-----------------------------------------------------------\n",
            "| End of epoch  13 | Time: 21.52s | Train Accuracy    1.000 | Train Loss    0.019 | Valid Accuracy    0.942 | Valid Loss    0.180 \n",
            "-----------------------------------------------------------\n",
            "| epoch  14 |     5/   12 batches | accuracy    0.999\n",
            "| epoch  14 |    10/   12 batches | accuracy    0.999\n",
            "-----------------------------------------------------------\n",
            "| End of epoch  14 | Time: 23.29s | Train Accuracy    0.999 | Train Loss    0.016 | Valid Accuracy    0.946 | Valid Loss    0.182 \n",
            "-----------------------------------------------------------\n",
            "| epoch  15 |     5/   12 batches | accuracy    0.999\n",
            "| epoch  15 |    10/   12 batches | accuracy    1.000\n",
            "-----------------------------------------------------------\n",
            "| End of epoch  15 | Time: 21.32s | Train Accuracy    1.000 | Train Loss    0.014 | Valid Accuracy    0.946 | Valid Loss    0.182 \n",
            "-----------------------------------------------------------\n",
            "| epoch  16 |     5/   12 batches | accuracy    0.999\n",
            "| epoch  16 |    10/   12 batches | accuracy    0.999\n",
            "-----------------------------------------------------------\n",
            "| End of epoch  16 | Time: 21.22s | Train Accuracy    0.999 | Train Loss    0.013 | Valid Accuracy    0.944 | Valid Loss    0.180 \n",
            "-----------------------------------------------------------\n",
            "| epoch  17 |     5/   12 batches | accuracy    1.000\n",
            "| epoch  17 |    10/   12 batches | accuracy    1.000\n",
            "-----------------------------------------------------------\n",
            "| End of epoch  17 | Time: 24.57s | Train Accuracy    1.000 | Train Loss    0.010 | Valid Accuracy    0.942 | Valid Loss    0.181 \n",
            "-----------------------------------------------------------\n",
            "| epoch  18 |     5/   12 batches | accuracy    1.000\n",
            "| epoch  18 |    10/   12 batches | accuracy    1.000\n",
            "-----------------------------------------------------------\n",
            "| End of epoch  18 | Time: 21.44s | Train Accuracy    1.000 | Train Loss    0.010 | Valid Accuracy    0.942 | Valid Loss    0.180 \n",
            "-----------------------------------------------------------\n",
            "| epoch  19 |     5/   12 batches | accuracy    1.000\n",
            "| epoch  19 |    10/   12 batches | accuracy    1.000\n",
            "-----------------------------------------------------------\n",
            "| End of epoch  19 | Time: 21.25s | Train Accuracy    1.000 | Train Loss    0.008 | Valid Accuracy    0.940 | Valid Loss    0.188 \n",
            "-----------------------------------------------------------\n",
            "| epoch  20 |     5/   12 batches | accuracy    0.999\n",
            "| epoch  20 |    10/   12 batches | accuracy    1.000\n",
            "-----------------------------------------------------------\n",
            "| End of epoch  20 | Time: 22.09s | Train Accuracy    1.000 | Train Loss    0.008 | Valid Accuracy    0.942 | Valid Loss    0.185 \n",
            "-----------------------------------------------------------\n",
            "| epoch  21 |     5/   12 batches | accuracy    1.000\n",
            "| epoch  21 |    10/   12 batches | accuracy    1.000\n",
            "-----------------------------------------------------------\n",
            "| End of epoch  21 | Time: 23.27s | Train Accuracy    1.000 | Train Loss    0.007 | Valid Accuracy    0.942 | Valid Loss    0.185 \n",
            "-----------------------------------------------------------\n",
            "| epoch  22 |     5/   12 batches | accuracy    1.000\n",
            "| epoch  22 |    10/   12 batches | accuracy    0.999\n",
            "-----------------------------------------------------------\n",
            "| End of epoch  22 | Time: 27.49s | Train Accuracy    0.999 | Train Loss    0.007 | Valid Accuracy    0.942 | Valid Loss    0.185 \n",
            "-----------------------------------------------------------\n",
            "| epoch  23 |     5/   12 batches | accuracy    1.000\n",
            "| epoch  23 |    10/   12 batches | accuracy    1.000\n",
            "-----------------------------------------------------------\n",
            "| End of epoch  23 | Time: 23.20s | Train Accuracy    1.000 | Train Loss    0.006 | Valid Accuracy    0.942 | Valid Loss    0.185 \n",
            "-----------------------------------------------------------\n",
            "| epoch  24 |     5/   12 batches | accuracy    1.000\n",
            "| epoch  24 |    10/   12 batches | accuracy    1.000\n",
            "-----------------------------------------------------------\n",
            "| End of epoch  24 | Time: 21.32s | Train Accuracy    1.000 | Train Loss    0.006 | Valid Accuracy    0.944 | Valid Loss    0.182 \n",
            "-----------------------------------------------------------\n",
            "| epoch  25 |     5/   12 batches | accuracy    1.000\n",
            "| epoch  25 |    10/   12 batches | accuracy    1.000\n",
            "-----------------------------------------------------------\n",
            "| End of epoch  25 | Time: 22.61s | Train Accuracy    1.000 | Train Loss    0.005 | Valid Accuracy    0.946 | Valid Loss    0.184 \n",
            "-----------------------------------------------------------\n",
            "| epoch  26 |     5/   12 batches | accuracy    0.999\n",
            "| epoch  26 |    10/   12 batches | accuracy    1.000\n",
            "-----------------------------------------------------------\n",
            "| End of epoch  26 | Time: 23.83s | Train Accuracy    1.000 | Train Loss    0.005 | Valid Accuracy    0.948 | Valid Loss    0.184 \n",
            "-----------------------------------------------------------\n",
            "| epoch  27 |     5/   12 batches | accuracy    0.999\n",
            "| epoch  27 |    10/   12 batches | accuracy    1.000\n",
            "-----------------------------------------------------------\n",
            "| End of epoch  27 | Time: 26.49s | Train Accuracy    1.000 | Train Loss    0.005 | Valid Accuracy    0.942 | Valid Loss    0.185 \n",
            "-----------------------------------------------------------\n",
            "| epoch  28 |     5/   12 batches | accuracy    0.999\n",
            "| epoch  28 |    10/   12 batches | accuracy    1.000\n",
            "-----------------------------------------------------------\n",
            "| End of epoch  28 | Time: 21.48s | Train Accuracy    1.000 | Train Loss    0.005 | Valid Accuracy    0.946 | Valid Loss    0.179 \n",
            "-----------------------------------------------------------\n",
            "| epoch  29 |     5/   12 batches | accuracy    1.000\n",
            "| epoch  29 |    10/   12 batches | accuracy    1.000\n",
            "-----------------------------------------------------------\n",
            "| End of epoch  29 | Time: 20.88s | Train Accuracy    1.000 | Train Loss    0.004 | Valid Accuracy    0.942 | Valid Loss    0.185 \n",
            "-----------------------------------------------------------\n",
            "| epoch  30 |     5/   12 batches | accuracy    0.999\n",
            "| epoch  30 |    10/   12 batches | accuracy    0.999\n",
            "-----------------------------------------------------------\n",
            "| End of epoch  30 | Time: 23.08s | Train Accuracy    0.999 | Train Loss    0.004 | Valid Accuracy    0.944 | Valid Loss    0.187 \n",
            "-----------------------------------------------------------\n",
            "| epoch  31 |     5/   12 batches | accuracy    0.999\n",
            "| epoch  31 |    10/   12 batches | accuracy    0.999\n",
            "-----------------------------------------------------------\n",
            "| End of epoch  31 | Time: 21.07s | Train Accuracy    0.999 | Train Loss    0.004 | Valid Accuracy    0.944 | Valid Loss    0.188 \n",
            "-----------------------------------------------------------\n",
            "| epoch  32 |     5/   12 batches | accuracy    0.999\n",
            "| epoch  32 |    10/   12 batches | accuracy    1.000\n",
            "-----------------------------------------------------------\n",
            "| End of epoch  32 | Time: 21.87s | Train Accuracy    1.000 | Train Loss    0.003 | Valid Accuracy    0.946 | Valid Loss    0.182 \n",
            "-----------------------------------------------------------\n",
            "| epoch  33 |     5/   12 batches | accuracy    1.000\n",
            "| epoch  33 |    10/   12 batches | accuracy    1.000\n",
            "-----------------------------------------------------------\n",
            "| End of epoch  33 | Time: 27.87s | Train Accuracy    1.000 | Train Loss    0.003 | Valid Accuracy    0.946 | Valid Loss    0.188 \n",
            "-----------------------------------------------------------\n",
            "| epoch  34 |     5/   12 batches | accuracy    0.999\n",
            "| epoch  34 |    10/   12 batches | accuracy    0.999\n",
            "-----------------------------------------------------------\n",
            "| End of epoch  34 | Time: 20.58s | Train Accuracy    0.999 | Train Loss    0.004 | Valid Accuracy    0.944 | Valid Loss    0.185 \n",
            "-----------------------------------------------------------\n",
            "| epoch  35 |     5/   12 batches | accuracy    0.999\n",
            "| epoch  35 |    10/   12 batches | accuracy    1.000\n",
            "-----------------------------------------------------------\n",
            "| End of epoch  35 | Time: 20.50s | Train Accuracy    1.000 | Train Loss    0.004 | Valid Accuracy    0.948 | Valid Loss    0.183 \n",
            "-----------------------------------------------------------\n",
            "| epoch  36 |     5/   12 batches | accuracy    0.999\n",
            "| epoch  36 |    10/   12 batches | accuracy    0.999\n",
            "-----------------------------------------------------------\n",
            "| End of epoch  36 | Time: 21.84s | Train Accuracy    0.999 | Train Loss    0.004 | Valid Accuracy    0.942 | Valid Loss    0.186 \n",
            "-----------------------------------------------------------\n",
            "| epoch  37 |     5/   12 batches | accuracy    0.999\n",
            "| epoch  37 |    10/   12 batches | accuracy    1.000\n",
            "-----------------------------------------------------------\n",
            "| End of epoch  37 | Time: 20.63s | Train Accuracy    1.000 | Train Loss    0.003 | Valid Accuracy    0.944 | Valid Loss    0.186 \n",
            "-----------------------------------------------------------\n",
            "| epoch  38 |     5/   12 batches | accuracy    1.000\n",
            "| epoch  38 |    10/   12 batches | accuracy    1.000\n",
            "-----------------------------------------------------------\n",
            "| End of epoch  38 | Time: 20.88s | Train Accuracy    1.000 | Train Loss    0.003 | Valid Accuracy    0.946 | Valid Loss    0.187 \n",
            "-----------------------------------------------------------\n",
            "| epoch  39 |     5/   12 batches | accuracy    1.000\n",
            "| epoch  39 |    10/   12 batches | accuracy    1.000\n",
            "-----------------------------------------------------------\n",
            "| End of epoch  39 | Time: 20.94s | Train Accuracy    1.000 | Train Loss    0.003 | Valid Accuracy    0.944 | Valid Loss    0.186 \n",
            "-----------------------------------------------------------\n",
            "| epoch  40 |     5/   12 batches | accuracy    1.000\n",
            "| epoch  40 |    10/   12 batches | accuracy    1.000\n",
            "-----------------------------------------------------------\n",
            "| End of epoch  40 | Time: 22.00s | Train Accuracy    1.000 | Train Loss    0.003 | Valid Accuracy    0.944 | Valid Loss    0.188 \n",
            "-----------------------------------------------------------\n",
            "| epoch  41 |     5/   12 batches | accuracy    0.999\n",
            "| epoch  41 |    10/   12 batches | accuracy    1.000\n",
            "-----------------------------------------------------------\n",
            "| End of epoch  41 | Time: 20.65s | Train Accuracy    1.000 | Train Loss    0.003 | Valid Accuracy    0.944 | Valid Loss    0.188 \n",
            "-----------------------------------------------------------\n",
            "| epoch  42 |     5/   12 batches | accuracy    1.000\n",
            "| epoch  42 |    10/   12 batches | accuracy    1.000\n",
            "-----------------------------------------------------------\n",
            "| End of epoch  42 | Time: 20.70s | Train Accuracy    1.000 | Train Loss    0.002 | Valid Accuracy    0.946 | Valid Loss    0.189 \n",
            "-----------------------------------------------------------\n",
            "| epoch  43 |     5/   12 batches | accuracy    1.000\n",
            "| epoch  43 |    10/   12 batches | accuracy    1.000\n",
            "-----------------------------------------------------------\n",
            "| End of epoch  43 | Time: 23.59s | Train Accuracy    1.000 | Train Loss    0.002 | Valid Accuracy    0.946 | Valid Loss    0.190 \n",
            "-----------------------------------------------------------\n",
            "| epoch  44 |     5/   12 batches | accuracy    1.000\n",
            "| epoch  44 |    10/   12 batches | accuracy    1.000\n",
            "-----------------------------------------------------------\n",
            "| End of epoch  44 | Time: 20.44s | Train Accuracy    1.000 | Train Loss    0.003 | Valid Accuracy    0.946 | Valid Loss    0.188 \n",
            "-----------------------------------------------------------\n",
            "| epoch  45 |     5/   12 batches | accuracy    1.000\n",
            "| epoch  45 |    10/   12 batches | accuracy    1.000\n",
            "-----------------------------------------------------------\n",
            "| End of epoch  45 | Time: 20.42s | Train Accuracy    1.000 | Train Loss    0.002 | Valid Accuracy    0.946 | Valid Loss    0.185 \n",
            "-----------------------------------------------------------\n",
            "| epoch  46 |     5/   12 batches | accuracy    0.999\n",
            "| epoch  46 |    10/   12 batches | accuracy    1.000\n",
            "-----------------------------------------------------------\n",
            "| End of epoch  46 | Time: 21.18s | Train Accuracy    1.000 | Train Loss    0.002 | Valid Accuracy    0.942 | Valid Loss    0.185 \n",
            "-----------------------------------------------------------\n",
            "| epoch  47 |     5/   12 batches | accuracy    1.000\n",
            "| epoch  47 |    10/   12 batches | accuracy    1.000\n",
            "-----------------------------------------------------------\n",
            "| End of epoch  47 | Time: 21.13s | Train Accuracy    0.999 | Train Loss    0.003 | Valid Accuracy    0.942 | Valid Loss    0.189 \n",
            "-----------------------------------------------------------\n",
            "| epoch  48 |     5/   12 batches | accuracy    1.000\n",
            "| epoch  48 |    10/   12 batches | accuracy    1.000\n",
            "-----------------------------------------------------------\n",
            "| End of epoch  48 | Time: 20.35s | Train Accuracy    1.000 | Train Loss    0.002 | Valid Accuracy    0.944 | Valid Loss    0.187 \n",
            "-----------------------------------------------------------\n",
            "| epoch  49 |     5/   12 batches | accuracy    0.999\n",
            "| epoch  49 |    10/   12 batches | accuracy    1.000\n",
            "-----------------------------------------------------------\n",
            "| End of epoch  49 | Time: 20.41s | Train Accuracy    1.000 | Train Loss    0.003 | Valid Accuracy    0.946 | Valid Loss    0.184 \n",
            "-----------------------------------------------------------\n",
            "| epoch  50 |     5/   12 batches | accuracy    0.999\n",
            "| epoch  50 |    10/   12 batches | accuracy    1.000\n",
            "-----------------------------------------------------------\n",
            "| End of epoch  50 | Time: 25.12s | Train Accuracy    0.999 | Train Loss    0.003 | Valid Accuracy    0.944 | Valid Loss    0.184 \n",
            "-----------------------------------------------------------\n"
          ]
        }
      ]
    },
    {
      "cell_type": "code",
      "source": [
        "test_acc, test_loss = evaluate_epoch(fine_tuning_model, criterion, test_dataloader)\n",
        "test_acc, test_loss"
      ],
      "metadata": {
        "colab": {
          "base_uri": "https://localhost:8080/"
        },
        "id": "v9Lduk5vEAvV",
        "outputId": "173bd3da-0a65-49e0-cece-6ec8d6a27b53"
      },
      "execution_count": null,
      "outputs": [
        {
          "output_type": "execute_result",
          "data": {
            "text/plain": [
              "(0.9313590934684685, 0.2318771481513977)"
            ]
          },
          "metadata": {},
          "execution_count": 146
        }
      ]
    },
    {
      "cell_type": "code",
      "source": [
        "plot_result(\n",
        "    num_epochs,\n",
        "    fine_tuning_metrics[\"train_accuracy\"],\n",
        "    fine_tuning_metrics[\"valid_accuracy\"],\n",
        "    fine_tuning_metrics[\"train_loss\"],\n",
        "    fine_tuning_metrics[\"valid_loss\"]\n",
        ")"
      ],
      "metadata": {
        "colab": {
          "base_uri": "https://localhost:8080/",
          "height": 542
        },
        "id": "Jd-ZqPzCEFJT",
        "outputId": "912f8396-e2cf-4b4d-8443-d677db11f61d"
      },
      "execution_count": null,
      "outputs": [
        {
          "output_type": "display_data",
          "data": {
            "text/plain": [
              "<Figure size 1200x600 with 2 Axes>"
            ],
            "image/png": "[encoded data removed]"
          },
          "metadata": {}
        }
      ]
    },
    {
      "cell_type": "markdown",
      "source": [
        "###**4.4. Fine-Tuning (Initilization)**"
      ],
      "metadata": {
        "id": "npiqGSQ_8dhA"
      }
    },
    {
      "cell_type": "code",
      "source": [
        "model = models.resnet18(weights=models.ResNet18_Weights.IMAGENET1K_V1)"
      ],
      "metadata": {
        "id": "8a2vmUELKPvJ"
      },
      "execution_count": null,
      "outputs": []
    },
    {
      "cell_type": "code",
      "source": [
        "in_features = model.fc.in_features\n",
        "model.fc = nn.Linear(in_features, num_classes)"
      ],
      "metadata": {
        "id": "IQ2spOIpoxT7"
      },
      "execution_count": null,
      "outputs": []
    },
    {
      "cell_type": "code",
      "source": [
        "model.to(device)"
      ],
      "metadata": {
        "colab": {
          "base_uri": "https://localhost:8080/"
        },
        "id": "DqbiEV0NKSox",
        "outputId": "5cc7d647-01af-43f2-ca35-a63de4ec1988"
      },
      "execution_count": null,
      "outputs": [
        {
          "output_type": "execute_result",
          "data": {
            "text/plain": [
              "ResNet(\n",
              "  (conv1): Conv2d(3, 64, kernel_size=(7, 7), stride=(2, 2), padding=(3, 3), bias=False)\n",
              "  (bn1): BatchNorm2d(64, eps=1e-05, momentum=0.1, affine=True, track_running_stats=True)\n",
              "  (relu): ReLU(inplace=True)\n",
              "  (maxpool): MaxPool2d(kernel_size=3, stride=2, padding=1, dilation=1, ceil_mode=False)\n",
              "  (layer1): Sequential(\n",
              "    (0): BasicBlock(\n",
              "      (conv1): Conv2d(64, 64, kernel_size=(3, 3), stride=(1, 1), padding=(1, 1), bias=False)\n",
              "      (bn1): BatchNorm2d(64, eps=1e-05, momentum=0.1, affine=True, track_running_stats=True)\n",
              "      (relu): ReLU(inplace=True)\n",
              "      (conv2): Conv2d(64, 64, kernel_size=(3, 3), stride=(1, 1), padding=(1, 1), bias=False)\n",
              "      (bn2): BatchNorm2d(64, eps=1e-05, momentum=0.1, affine=True, track_running_stats=True)\n",
              "    )\n",
              "    (1): BasicBlock(\n",
              "      (conv1): Conv2d(64, 64, kernel_size=(3, 3), stride=(1, 1), padding=(1, 1), bias=False)\n",
              "      (bn1): BatchNorm2d(64, eps=1e-05, momentum=0.1, affine=True, track_running_stats=True)\n",
              "      (relu): ReLU(inplace=True)\n",
              "      (conv2): Conv2d(64, 64, kernel_size=(3, 3), stride=(1, 1), padding=(1, 1), bias=False)\n",
              "      (bn2): BatchNorm2d(64, eps=1e-05, momentum=0.1, affine=True, track_running_stats=True)\n",
              "    )\n",
              "  )\n",
              "  (layer2): Sequential(\n",
              "    (0): BasicBlock(\n",
              "      (conv1): Conv2d(64, 128, kernel_size=(3, 3), stride=(2, 2), padding=(1, 1), bias=False)\n",
              "      (bn1): BatchNorm2d(128, eps=1e-05, momentum=0.1, affine=True, track_running_stats=True)\n",
              "      (relu): ReLU(inplace=True)\n",
              "      (conv2): Conv2d(128, 128, kernel_size=(3, 3), stride=(1, 1), padding=(1, 1), bias=False)\n",
              "      (bn2): BatchNorm2d(128, eps=1e-05, momentum=0.1, affine=True, track_running_stats=True)\n",
              "      (downsample): Sequential(\n",
              "        (0): Conv2d(64, 128, kernel_size=(1, 1), stride=(2, 2), bias=False)\n",
              "        (1): BatchNorm2d(128, eps=1e-05, momentum=0.1, affine=True, track_running_stats=True)\n",
              "      )\n",
              "    )\n",
              "    (1): BasicBlock(\n",
              "      (conv1): Conv2d(128, 128, kernel_size=(3, 3), stride=(1, 1), padding=(1, 1), bias=False)\n",
              "      (bn1): BatchNorm2d(128, eps=1e-05, momentum=0.1, affine=True, track_running_stats=True)\n",
              "      (relu): ReLU(inplace=True)\n",
              "      (conv2): Conv2d(128, 128, kernel_size=(3, 3), stride=(1, 1), padding=(1, 1), bias=False)\n",
              "      (bn2): BatchNorm2d(128, eps=1e-05, momentum=0.1, affine=True, track_running_stats=True)\n",
              "    )\n",
              "  )\n",
              "  (layer3): Sequential(\n",
              "    (0): BasicBlock(\n",
              "      (conv1): Conv2d(128, 256, kernel_size=(3, 3), stride=(2, 2), padding=(1, 1), bias=False)\n",
              "      (bn1): BatchNorm2d(256, eps=1e-05, momentum=0.1, affine=True, track_running_stats=True)\n",
              "      (relu): ReLU(inplace=True)\n",
              "      (conv2): Conv2d(256, 256, kernel_size=(3, 3), stride=(1, 1), padding=(1, 1), bias=False)\n",
              "      (bn2): BatchNorm2d(256, eps=1e-05, momentum=0.1, affine=True, track_running_stats=True)\n",
              "      (downsample): Sequential(\n",
              "        (0): Conv2d(128, 256, kernel_size=(1, 1), stride=(2, 2), bias=False)\n",
              "        (1): BatchNorm2d(256, eps=1e-05, momentum=0.1, affine=True, track_running_stats=True)\n",
              "      )\n",
              "    )\n",
              "    (1): BasicBlock(\n",
              "      (conv1): Conv2d(256, 256, kernel_size=(3, 3), stride=(1, 1), padding=(1, 1), bias=False)\n",
              "      (bn1): BatchNorm2d(256, eps=1e-05, momentum=0.1, affine=True, track_running_stats=True)\n",
              "      (relu): ReLU(inplace=True)\n",
              "      (conv2): Conv2d(256, 256, kernel_size=(3, 3), stride=(1, 1), padding=(1, 1), bias=False)\n",
              "      (bn2): BatchNorm2d(256, eps=1e-05, momentum=0.1, affine=True, track_running_stats=True)\n",
              "    )\n",
              "  )\n",
              "  (layer4): Sequential(\n",
              "    (0): BasicBlock(\n",
              "      (conv1): Conv2d(256, 512, kernel_size=(3, 3), stride=(2, 2), padding=(1, 1), bias=False)\n",
              "      (bn1): BatchNorm2d(512, eps=1e-05, momentum=0.1, affine=True, track_running_stats=True)\n",
              "      (relu): ReLU(inplace=True)\n",
              "      (conv2): Conv2d(512, 512, kernel_size=(3, 3), stride=(1, 1), padding=(1, 1), bias=False)\n",
              "      (bn2): BatchNorm2d(512, eps=1e-05, momentum=0.1, affine=True, track_running_stats=True)\n",
              "      (downsample): Sequential(\n",
              "        (0): Conv2d(256, 512, kernel_size=(1, 1), stride=(2, 2), bias=False)\n",
              "        (1): BatchNorm2d(512, eps=1e-05, momentum=0.1, affine=True, track_running_stats=True)\n",
              "      )\n",
              "    )\n",
              "    (1): BasicBlock(\n",
              "      (conv1): Conv2d(512, 512, kernel_size=(3, 3), stride=(1, 1), padding=(1, 1), bias=False)\n",
              "      (bn1): BatchNorm2d(512, eps=1e-05, momentum=0.1, affine=True, track_running_stats=True)\n",
              "      (relu): ReLU(inplace=True)\n",
              "      (conv2): Conv2d(512, 512, kernel_size=(3, 3), stride=(1, 1), padding=(1, 1), bias=False)\n",
              "      (bn2): BatchNorm2d(512, eps=1e-05, momentum=0.1, affine=True, track_running_stats=True)\n",
              "    )\n",
              "  )\n",
              "  (avgpool): AdaptiveAvgPool2d(output_size=(1, 1))\n",
              "  (fc): Linear(in_features=512, out_features=5, bias=True)\n",
              ")"
            ]
          },
          "metadata": {},
          "execution_count": 15
        }
      ]
    },
    {
      "cell_type": "code",
      "source": [
        "summary(model, (3, 224, 224))"
      ],
      "metadata": {
        "colab": {
          "base_uri": "https://localhost:8080/"
        },
        "id": "txHuQnaCKVVF",
        "outputId": "27a025de-0da3-455c-eae8-863cc05b3d4e"
      },
      "execution_count": null,
      "outputs": [
        {
          "output_type": "stream",
          "name": "stdout",
          "text": [
            "----------------------------------------------------------------\n",
            "        Layer (type)               Output Shape         Param #\n",
            "================================================================\n",
            "            Conv2d-1         [-1, 64, 112, 112]           9,408\n",
            "       BatchNorm2d-2         [-1, 64, 112, 112]             128\n",
            "              ReLU-3         [-1, 64, 112, 112]               0\n",
            "         MaxPool2d-4           [-1, 64, 56, 56]               0\n",
            "            Conv2d-5           [-1, 64, 56, 56]          36,864\n",
            "       BatchNorm2d-6           [-1, 64, 56, 56]             128\n",
            "              ReLU-7           [-1, 64, 56, 56]               0\n",
            "            Conv2d-8           [-1, 64, 56, 56]          36,864\n",
            "       BatchNorm2d-9           [-1, 64, 56, 56]             128\n",
            "             ReLU-10           [-1, 64, 56, 56]               0\n",
            "       BasicBlock-11           [-1, 64, 56, 56]               0\n",
            "           Conv2d-12           [-1, 64, 56, 56]          36,864\n",
            "      BatchNorm2d-13           [-1, 64, 56, 56]             128\n",
            "             ReLU-14           [-1, 64, 56, 56]               0\n",
            "           Conv2d-15           [-1, 64, 56, 56]          36,864\n",
            "      BatchNorm2d-16           [-1, 64, 56, 56]             128\n",
            "             ReLU-17           [-1, 64, 56, 56]               0\n",
            "       BasicBlock-18           [-1, 64, 56, 56]               0\n",
            "           Conv2d-19          [-1, 128, 28, 28]          73,728\n",
            "      BatchNorm2d-20          [-1, 128, 28, 28]             256\n",
            "             ReLU-21          [-1, 128, 28, 28]               0\n",
            "           Conv2d-22          [-1, 128, 28, 28]         147,456\n",
            "      BatchNorm2d-23          [-1, 128, 28, 28]             256\n",
            "           Conv2d-24          [-1, 128, 28, 28]           8,192\n",
            "      BatchNorm2d-25          [-1, 128, 28, 28]             256\n",
            "             ReLU-26          [-1, 128, 28, 28]               0\n",
            "       BasicBlock-27          [-1, 128, 28, 28]               0\n",
            "           Conv2d-28          [-1, 128, 28, 28]         147,456\n",
            "      BatchNorm2d-29          [-1, 128, 28, 28]             256\n",
            "             ReLU-30          [-1, 128, 28, 28]               0\n",
            "           Conv2d-31          [-1, 128, 28, 28]         147,456\n",
            "      BatchNorm2d-32          [-1, 128, 28, 28]             256\n",
            "             ReLU-33          [-1, 128, 28, 28]               0\n",
            "       BasicBlock-34          [-1, 128, 28, 28]               0\n",
            "           Conv2d-35          [-1, 256, 14, 14]         294,912\n",
            "      BatchNorm2d-36          [-1, 256, 14, 14]             512\n",
            "             ReLU-37          [-1, 256, 14, 14]               0\n",
            "           Conv2d-38          [-1, 256, 14, 14]         589,824\n",
            "      BatchNorm2d-39          [-1, 256, 14, 14]             512\n",
            "           Conv2d-40          [-1, 256, 14, 14]          32,768\n",
            "      BatchNorm2d-41          [-1, 256, 14, 14]             512\n",
            "             ReLU-42          [-1, 256, 14, 14]               0\n",
            "       BasicBlock-43          [-1, 256, 14, 14]               0\n",
            "           Conv2d-44          [-1, 256, 14, 14]         589,824\n",
            "      BatchNorm2d-45          [-1, 256, 14, 14]             512\n",
            "             ReLU-46          [-1, 256, 14, 14]               0\n",
            "           Conv2d-47          [-1, 256, 14, 14]         589,824\n",
            "      BatchNorm2d-48          [-1, 256, 14, 14]             512\n",
            "             ReLU-49          [-1, 256, 14, 14]               0\n",
            "       BasicBlock-50          [-1, 256, 14, 14]               0\n",
            "           Conv2d-51            [-1, 512, 7, 7]       1,179,648\n",
            "      BatchNorm2d-52            [-1, 512, 7, 7]           1,024\n",
            "             ReLU-53            [-1, 512, 7, 7]               0\n",
            "           Conv2d-54            [-1, 512, 7, 7]       2,359,296\n",
            "      BatchNorm2d-55            [-1, 512, 7, 7]           1,024\n",
            "           Conv2d-56            [-1, 512, 7, 7]         131,072\n",
            "      BatchNorm2d-57            [-1, 512, 7, 7]           1,024\n",
            "             ReLU-58            [-1, 512, 7, 7]               0\n",
            "       BasicBlock-59            [-1, 512, 7, 7]               0\n",
            "           Conv2d-60            [-1, 512, 7, 7]       2,359,296\n",
            "      BatchNorm2d-61            [-1, 512, 7, 7]           1,024\n",
            "             ReLU-62            [-1, 512, 7, 7]               0\n",
            "           Conv2d-63            [-1, 512, 7, 7]       2,359,296\n",
            "      BatchNorm2d-64            [-1, 512, 7, 7]           1,024\n",
            "             ReLU-65            [-1, 512, 7, 7]               0\n",
            "       BasicBlock-66            [-1, 512, 7, 7]               0\n",
            "AdaptiveAvgPool2d-67            [-1, 512, 1, 1]               0\n",
            "           Linear-68                    [-1, 5]           2,565\n",
            "================================================================\n",
            "Total params: 11,179,077\n",
            "Trainable params: 11,179,077\n",
            "Non-trainable params: 0\n",
            "----------------------------------------------------------------\n",
            "Input size (MB): 0.57\n",
            "Forward/backward pass size (MB): 62.79\n",
            "Params size (MB): 42.64\n",
            "Estimated Total Size (MB): 106.00\n",
            "----------------------------------------------------------------\n"
          ]
        }
      ]
    },
    {
      "cell_type": "code",
      "source": [
        "initilization_model = models.resnet18(\n",
        "    weights=models.ResNet18_Weights.IMAGENET1K_V1\n",
        "    )\n",
        "\n",
        "in_features = initilization_model.fc.in_features\n",
        "initilization_model.fc = nn.Linear(in_features, num_classes)\n",
        "\n",
        "device = torch.device('cuda' if torch.cuda.is_available() else 'cpu')\n",
        "initilization_model.to(device)\n",
        "\n",
        "criterion = torch.nn.CrossEntropyLoss()\n",
        "optimizer = optim.Adam(initilization_model.parameters(), lr=0.0001)\n",
        "\n",
        "num_epochs = 50\n",
        "save_model = './model'\n",
        "os.makedirs(save_model, exist_ok = True)\n",
        "model_name = 'initilization_model'\n",
        "\n",
        "initilization_model, initilization_metrics = train(\n",
        "    initilization_model, model_name, save_model, optimizer, criterion, train_dataloader, valid_dataloader, num_epochs, device\n",
        ")"
      ],
      "metadata": {
        "colab": {
          "base_uri": "https://localhost:8080/"
        },
        "id": "ljT0xGr_Es1d",
        "outputId": "56788fe9-3fd1-4085-880b-c1d1c6ffc465"
      },
      "execution_count": null,
      "outputs": [
        {
          "output_type": "stream",
          "name": "stdout",
          "text": [
            "| epoch   1 |     5/   12 batches | accuracy    0.604\n",
            "| epoch   1 |    10/   12 batches | accuracy    0.719\n",
            "-----------------------------------------------------------\n",
            "| End of epoch   1 | Time: 22.66s | Train Accuracy    0.732 | Train Loss    0.793 | Valid Accuracy    0.854 | Valid Loss    0.366 \n",
            "-----------------------------------------------------------\n",
            "| epoch   2 |     5/   12 batches | accuracy    0.935\n",
            "| epoch   2 |    10/   12 batches | accuracy    0.940\n",
            "-----------------------------------------------------------\n",
            "| End of epoch   2 | Time: 21.88s | Train Accuracy    0.942 | Train Loss    0.204 | Valid Accuracy    0.919 | Valid Loss    0.206 \n",
            "-----------------------------------------------------------\n",
            "| epoch   3 |     5/   12 batches | accuracy    0.976\n",
            "| epoch   3 |    10/   12 batches | accuracy    0.982\n",
            "-----------------------------------------------------------\n",
            "| End of epoch   3 | Time: 24.68s | Train Accuracy    0.980 | Train Loss    0.088 | Valid Accuracy    0.935 | Valid Loss    0.188 \n",
            "-----------------------------------------------------------\n",
            "| epoch   4 |     5/   12 batches | accuracy    0.997\n",
            "| epoch   4 |    10/   12 batches | accuracy    0.997\n",
            "-----------------------------------------------------------\n",
            "| End of epoch   4 | Time: 21.84s | Train Accuracy    0.997 | Train Loss    0.036 | Valid Accuracy    0.936 | Valid Loss    0.179 \n",
            "-----------------------------------------------------------\n",
            "| epoch   5 |     5/   12 batches | accuracy    0.999\n",
            "| epoch   5 |    10/   12 batches | accuracy    0.999\n",
            "-----------------------------------------------------------\n",
            "| End of epoch   5 | Time: 22.78s | Train Accuracy    0.999 | Train Loss    0.017 | Valid Accuracy    0.947 | Valid Loss    0.175 \n",
            "-----------------------------------------------------------\n",
            "| epoch   6 |     5/   12 batches | accuracy    0.999\n",
            "| epoch   6 |    10/   12 batches | accuracy    0.999\n",
            "-----------------------------------------------------------\n",
            "| End of epoch   6 | Time: 24.54s | Train Accuracy    0.999 | Train Loss    0.010 | Valid Accuracy    0.944 | Valid Loss    0.161 \n",
            "-----------------------------------------------------------\n",
            "| epoch   7 |     5/   12 batches | accuracy    0.999\n",
            "| epoch   7 |    10/   12 batches | accuracy    1.000\n",
            "-----------------------------------------------------------\n",
            "| End of epoch   7 | Time: 23.98s | Train Accuracy    1.000 | Train Loss    0.007 | Valid Accuracy    0.955 | Valid Loss    0.158 \n",
            "-----------------------------------------------------------\n",
            "| epoch   8 |     5/   12 batches | accuracy    1.000\n",
            "| epoch   8 |    10/   12 batches | accuracy    1.000\n",
            "-----------------------------------------------------------\n",
            "| End of epoch   8 | Time: 24.36s | Train Accuracy    1.000 | Train Loss    0.005 | Valid Accuracy    0.955 | Valid Loss    0.159 \n",
            "-----------------------------------------------------------\n",
            "| epoch   9 |     5/   12 batches | accuracy    1.000\n",
            "| epoch   9 |    10/   12 batches | accuracy    1.000\n",
            "-----------------------------------------------------------\n",
            "| End of epoch   9 | Time: 27.72s | Train Accuracy    1.000 | Train Loss    0.005 | Valid Accuracy    0.947 | Valid Loss    0.163 \n",
            "-----------------------------------------------------------\n",
            "| epoch  10 |     5/   12 batches | accuracy    1.000\n",
            "| epoch  10 |    10/   12 batches | accuracy    1.000\n",
            "-----------------------------------------------------------\n",
            "| End of epoch  10 | Time: 25.29s | Train Accuracy    1.000 | Train Loss    0.004 | Valid Accuracy    0.947 | Valid Loss    0.162 \n",
            "-----------------------------------------------------------\n",
            "| epoch  11 |     5/   12 batches | accuracy    0.999\n",
            "| epoch  11 |    10/   12 batches | accuracy    1.000\n",
            "-----------------------------------------------------------\n",
            "| End of epoch  11 | Time: 28.03s | Train Accuracy    1.000 | Train Loss    0.003 | Valid Accuracy    0.949 | Valid Loss    0.166 \n",
            "-----------------------------------------------------------\n",
            "| epoch  12 |     5/   12 batches | accuracy    1.000\n",
            "| epoch  12 |    10/   12 batches | accuracy    1.000\n",
            "-----------------------------------------------------------\n",
            "| End of epoch  12 | Time: 26.25s | Train Accuracy    1.000 | Train Loss    0.003 | Valid Accuracy    0.949 | Valid Loss    0.161 \n",
            "-----------------------------------------------------------\n",
            "| epoch  13 |     5/   12 batches | accuracy    0.999\n",
            "| epoch  13 |    10/   12 batches | accuracy    1.000\n",
            "-----------------------------------------------------------\n",
            "| End of epoch  13 | Time: 23.48s | Train Accuracy    1.000 | Train Loss    0.003 | Valid Accuracy    0.949 | Valid Loss    0.160 \n",
            "-----------------------------------------------------------\n",
            "| epoch  14 |     5/   12 batches | accuracy    1.000\n",
            "| epoch  14 |    10/   12 batches | accuracy    1.000\n",
            "-----------------------------------------------------------\n",
            "| End of epoch  14 | Time: 24.40s | Train Accuracy    1.000 | Train Loss    0.003 | Valid Accuracy    0.945 | Valid Loss    0.163 \n",
            "-----------------------------------------------------------\n",
            "| epoch  15 |     5/   12 batches | accuracy    1.000\n",
            "| epoch  15 |    10/   12 batches | accuracy    0.999\n",
            "-----------------------------------------------------------\n",
            "| End of epoch  15 | Time: 22.63s | Train Accuracy    0.999 | Train Loss    0.002 | Valid Accuracy    0.947 | Valid Loss    0.166 \n",
            "-----------------------------------------------------------\n",
            "| epoch  16 |     5/   12 batches | accuracy    0.999\n",
            "| epoch  16 |    10/   12 batches | accuracy    1.000\n",
            "-----------------------------------------------------------\n",
            "| End of epoch  16 | Time: 24.13s | Train Accuracy    1.000 | Train Loss    0.002 | Valid Accuracy    0.945 | Valid Loss    0.170 \n",
            "-----------------------------------------------------------\n",
            "| epoch  17 |     5/   12 batches | accuracy    0.999\n",
            "| epoch  17 |    10/   12 batches | accuracy    1.000\n",
            "-----------------------------------------------------------\n",
            "| End of epoch  17 | Time: 21.73s | Train Accuracy    1.000 | Train Loss    0.002 | Valid Accuracy    0.945 | Valid Loss    0.168 \n",
            "-----------------------------------------------------------\n",
            "| epoch  18 |     5/   12 batches | accuracy    1.000\n",
            "| epoch  18 |    10/   12 batches | accuracy    1.000\n",
            "-----------------------------------------------------------\n",
            "| End of epoch  18 | Time: 25.18s | Train Accuracy    1.000 | Train Loss    0.002 | Valid Accuracy    0.949 | Valid Loss    0.165 \n",
            "-----------------------------------------------------------\n",
            "| epoch  19 |     5/   12 batches | accuracy    1.000\n",
            "| epoch  19 |    10/   12 batches | accuracy    1.000\n",
            "-----------------------------------------------------------\n",
            "| End of epoch  19 | Time: 27.25s | Train Accuracy    1.000 | Train Loss    0.002 | Valid Accuracy    0.949 | Valid Loss    0.160 \n",
            "-----------------------------------------------------------\n",
            "| epoch  20 |     5/   12 batches | accuracy    1.000\n",
            "| epoch  20 |    10/   12 batches | accuracy    1.000\n",
            "-----------------------------------------------------------\n",
            "| End of epoch  20 | Time: 25.04s | Train Accuracy    1.000 | Train Loss    0.002 | Valid Accuracy    0.945 | Valid Loss    0.168 \n",
            "-----------------------------------------------------------\n",
            "| epoch  21 |     5/   12 batches | accuracy    1.000\n",
            "| epoch  21 |    10/   12 batches | accuracy    1.000\n",
            "-----------------------------------------------------------\n",
            "| End of epoch  21 | Time: 24.06s | Train Accuracy    1.000 | Train Loss    0.002 | Valid Accuracy    0.945 | Valid Loss    0.170 \n",
            "-----------------------------------------------------------\n",
            "| epoch  22 |     5/   12 batches | accuracy    0.999\n",
            "| epoch  22 |    10/   12 batches | accuracy    1.000\n",
            "-----------------------------------------------------------\n",
            "| End of epoch  22 | Time: 23.75s | Train Accuracy    1.000 | Train Loss    0.001 | Valid Accuracy    0.947 | Valid Loss    0.166 \n",
            "-----------------------------------------------------------\n",
            "| epoch  23 |     5/   12 batches | accuracy    0.999\n",
            "| epoch  23 |    10/   12 batches | accuracy    0.999\n",
            "-----------------------------------------------------------\n",
            "| End of epoch  23 | Time: 22.30s | Train Accuracy    0.999 | Train Loss    0.002 | Valid Accuracy    0.947 | Valid Loss    0.168 \n",
            "-----------------------------------------------------------\n",
            "| epoch  24 |     5/   12 batches | accuracy    1.000\n",
            "| epoch  24 |    10/   12 batches | accuracy    1.000\n",
            "-----------------------------------------------------------\n",
            "| End of epoch  24 | Time: 22.66s | Train Accuracy    1.000 | Train Loss    0.001 | Valid Accuracy    0.947 | Valid Loss    0.168 \n",
            "-----------------------------------------------------------\n",
            "| epoch  25 |     5/   12 batches | accuracy    0.999\n",
            "| epoch  25 |    10/   12 batches | accuracy    0.999\n",
            "-----------------------------------------------------------\n",
            "| End of epoch  25 | Time: 22.93s | Train Accuracy    0.999 | Train Loss    0.001 | Valid Accuracy    0.949 | Valid Loss    0.166 \n",
            "-----------------------------------------------------------\n",
            "| epoch  26 |     5/   12 batches | accuracy    0.999\n",
            "| epoch  26 |    10/   12 batches | accuracy    0.999\n",
            "-----------------------------------------------------------\n",
            "| End of epoch  26 | Time: 22.00s | Train Accuracy    0.999 | Train Loss    0.001 | Valid Accuracy    0.947 | Valid Loss    0.167 \n",
            "-----------------------------------------------------------\n",
            "| epoch  27 |     5/   12 batches | accuracy    1.000\n",
            "| epoch  27 |    10/   12 batches | accuracy    1.000\n",
            "-----------------------------------------------------------\n",
            "| End of epoch  27 | Time: 23.42s | Train Accuracy    1.000 | Train Loss    0.001 | Valid Accuracy    0.945 | Valid Loss    0.174 \n",
            "-----------------------------------------------------------\n",
            "| epoch  28 |     5/   12 batches | accuracy    0.999\n",
            "| epoch  28 |    10/   12 batches | accuracy    0.999\n",
            "-----------------------------------------------------------\n",
            "| End of epoch  28 | Time: 22.12s | Train Accuracy    0.999 | Train Loss    0.001 | Valid Accuracy    0.947 | Valid Loss    0.172 \n",
            "-----------------------------------------------------------\n",
            "| epoch  29 |     5/   12 batches | accuracy    0.999\n",
            "| epoch  29 |    10/   12 batches | accuracy    0.999\n",
            "-----------------------------------------------------------\n",
            "| End of epoch  29 | Time: 22.77s | Train Accuracy    0.999 | Train Loss    0.001 | Valid Accuracy    0.949 | Valid Loss    0.169 \n",
            "-----------------------------------------------------------\n",
            "| epoch  30 |     5/   12 batches | accuracy    0.999\n",
            "| epoch  30 |    10/   12 batches | accuracy    1.000\n",
            "-----------------------------------------------------------\n",
            "| End of epoch  30 | Time: 24.91s | Train Accuracy    0.999 | Train Loss    0.002 | Valid Accuracy    0.949 | Valid Loss    0.170 \n",
            "-----------------------------------------------------------\n",
            "| epoch  31 |     5/   12 batches | accuracy    1.000\n",
            "| epoch  31 |    10/   12 batches | accuracy    1.000\n",
            "-----------------------------------------------------------\n",
            "| End of epoch  31 | Time: 22.28s | Train Accuracy    1.000 | Train Loss    0.001 | Valid Accuracy    0.947 | Valid Loss    0.173 \n",
            "-----------------------------------------------------------\n",
            "| epoch  32 |     5/   12 batches | accuracy    1.000\n",
            "| epoch  32 |    10/   12 batches | accuracy    1.000\n",
            "-----------------------------------------------------------\n",
            "| End of epoch  32 | Time: 23.44s | Train Accuracy    1.000 | Train Loss    0.001 | Valid Accuracy    0.947 | Valid Loss    0.173 \n",
            "-----------------------------------------------------------\n",
            "| epoch  33 |     5/   12 batches | accuracy    0.999\n",
            "| epoch  33 |    10/   12 batches | accuracy    1.000\n",
            "-----------------------------------------------------------\n",
            "| End of epoch  33 | Time: 22.79s | Train Accuracy    1.000 | Train Loss    0.001 | Valid Accuracy    0.949 | Valid Loss    0.167 \n",
            "-----------------------------------------------------------\n",
            "| epoch  34 |     5/   12 batches | accuracy    1.000\n",
            "| epoch  34 |    10/   12 batches | accuracy    1.000\n",
            "-----------------------------------------------------------\n",
            "| End of epoch  34 | Time: 23.74s | Train Accuracy    1.000 | Train Loss    0.001 | Valid Accuracy    0.945 | Valid Loss    0.172 \n",
            "-----------------------------------------------------------\n",
            "| epoch  35 |     5/   12 batches | accuracy    1.000\n",
            "| epoch  35 |    10/   12 batches | accuracy    1.000\n",
            "-----------------------------------------------------------\n",
            "| End of epoch  35 | Time: 23.54s | Train Accuracy    1.000 | Train Loss    0.001 | Valid Accuracy    0.945 | Valid Loss    0.175 \n",
            "-----------------------------------------------------------\n",
            "| epoch  36 |     5/   12 batches | accuracy    1.000\n",
            "| epoch  36 |    10/   12 batches | accuracy    1.000\n",
            "-----------------------------------------------------------\n",
            "| End of epoch  36 | Time: 23.54s | Train Accuracy    1.000 | Train Loss    0.001 | Valid Accuracy    0.945 | Valid Loss    0.175 \n",
            "-----------------------------------------------------------\n",
            "| epoch  37 |     5/   12 batches | accuracy    0.999\n",
            "| epoch  37 |    10/   12 batches | accuracy    0.999\n",
            "-----------------------------------------------------------\n",
            "| End of epoch  37 | Time: 25.27s | Train Accuracy    0.999 | Train Loss    0.001 | Valid Accuracy    0.945 | Valid Loss    0.178 \n",
            "-----------------------------------------------------------\n",
            "| epoch  38 |     5/   12 batches | accuracy    0.999\n",
            "| epoch  38 |    10/   12 batches | accuracy    1.000\n",
            "-----------------------------------------------------------\n",
            "| End of epoch  38 | Time: 22.47s | Train Accuracy    1.000 | Train Loss    0.001 | Valid Accuracy    0.945 | Valid Loss    0.179 \n",
            "-----------------------------------------------------------\n",
            "| epoch  39 |     5/   12 batches | accuracy    1.000\n",
            "| epoch  39 |    10/   12 batches | accuracy    1.000\n",
            "-----------------------------------------------------------\n",
            "| End of epoch  39 | Time: 23.29s | Train Accuracy    1.000 | Train Loss    0.001 | Valid Accuracy    0.945 | Valid Loss    0.176 \n",
            "-----------------------------------------------------------\n",
            "| epoch  40 |     5/   12 batches | accuracy    0.999\n",
            "| epoch  40 |    10/   12 batches | accuracy    0.999\n",
            "-----------------------------------------------------------\n",
            "| End of epoch  40 | Time: 22.87s | Train Accuracy    0.999 | Train Loss    0.001 | Valid Accuracy    0.949 | Valid Loss    0.172 \n",
            "-----------------------------------------------------------\n",
            "| epoch  41 |     5/   12 batches | accuracy    0.999\n",
            "| epoch  41 |    10/   12 batches | accuracy    0.999\n",
            "-----------------------------------------------------------\n",
            "| End of epoch  41 | Time: 23.13s | Train Accuracy    0.999 | Train Loss    0.001 | Valid Accuracy    0.945 | Valid Loss    0.176 \n",
            "-----------------------------------------------------------\n",
            "| epoch  42 |     5/   12 batches | accuracy    0.999\n",
            "| epoch  42 |    10/   12 batches | accuracy    0.999\n",
            "-----------------------------------------------------------\n",
            "| End of epoch  42 | Time: 24.34s | Train Accuracy    0.999 | Train Loss    0.001 | Valid Accuracy    0.945 | Valid Loss    0.177 \n",
            "-----------------------------------------------------------\n",
            "| epoch  43 |     5/   12 batches | accuracy    1.000\n",
            "| epoch  43 |    10/   12 batches | accuracy    1.000\n",
            "-----------------------------------------------------------\n",
            "| End of epoch  43 | Time: 23.09s | Train Accuracy    1.000 | Train Loss    0.001 | Valid Accuracy    0.947 | Valid Loss    0.177 \n",
            "-----------------------------------------------------------\n",
            "| epoch  44 |     5/   12 batches | accuracy    0.999\n",
            "| epoch  44 |    10/   12 batches | accuracy    0.999\n",
            "-----------------------------------------------------------\n",
            "| End of epoch  44 | Time: 24.10s | Train Accuracy    0.999 | Train Loss    0.001 | Valid Accuracy    0.945 | Valid Loss    0.177 \n",
            "-----------------------------------------------------------\n",
            "| epoch  45 |     5/   12 batches | accuracy    0.999\n",
            "| epoch  45 |    10/   12 batches | accuracy    1.000\n",
            "-----------------------------------------------------------\n",
            "| End of epoch  45 | Time: 23.07s | Train Accuracy    1.000 | Train Loss    0.001 | Valid Accuracy    0.947 | Valid Loss    0.173 \n",
            "-----------------------------------------------------------\n",
            "| epoch  46 |     5/   12 batches | accuracy    0.999\n",
            "| epoch  46 |    10/   12 batches | accuracy    1.000\n",
            "-----------------------------------------------------------\n",
            "| End of epoch  46 | Time: 26.03s | Train Accuracy    1.000 | Train Loss    0.001 | Valid Accuracy    0.949 | Valid Loss    0.172 \n",
            "-----------------------------------------------------------\n",
            "| epoch  47 |     5/   12 batches | accuracy    0.999\n",
            "| epoch  47 |    10/   12 batches | accuracy    1.000\n",
            "-----------------------------------------------------------\n",
            "| End of epoch  47 | Time: 22.60s | Train Accuracy    1.000 | Train Loss    0.001 | Valid Accuracy    0.949 | Valid Loss    0.171 \n",
            "-----------------------------------------------------------\n",
            "| epoch  48 |     5/   12 batches | accuracy    1.000\n",
            "| epoch  48 |    10/   12 batches | accuracy    1.000\n",
            "-----------------------------------------------------------\n",
            "| End of epoch  48 | Time: 23.83s | Train Accuracy    1.000 | Train Loss    0.001 | Valid Accuracy    0.949 | Valid Loss    0.173 \n",
            "-----------------------------------------------------------\n",
            "| epoch  49 |     5/   12 batches | accuracy    1.000\n",
            "| epoch  49 |    10/   12 batches | accuracy    1.000\n",
            "-----------------------------------------------------------\n",
            "| End of epoch  49 | Time: 23.25s | Train Accuracy    1.000 | Train Loss    0.001 | Valid Accuracy    0.949 | Valid Loss    0.173 \n",
            "-----------------------------------------------------------\n",
            "| epoch  50 |     5/   12 batches | accuracy    1.000\n",
            "| epoch  50 |    10/   12 batches | accuracy    1.000\n",
            "-----------------------------------------------------------\n",
            "| End of epoch  50 | Time: 22.71s | Train Accuracy    1.000 | Train Loss    0.001 | Valid Accuracy    0.945 | Valid Loss    0.179 \n",
            "-----------------------------------------------------------\n"
          ]
        }
      ]
    },
    {
      "cell_type": "code",
      "source": [
        "test_acc, test_loss = evaluate_epoch(initilization_model, criterion, test_dataloader)\n",
        "test_acc, test_loss"
      ],
      "metadata": {
        "colab": {
          "base_uri": "https://localhost:8080/"
        },
        "id": "JpT4cIQTGvs4",
        "outputId": "4bec5ecd-51d7-4b05-ebb9-89629ee7eacb"
      },
      "execution_count": null,
      "outputs": [
        {
          "output_type": "execute_result",
          "data": {
            "text/plain": [
              "(0.9526851069819819, 0.20071009546518326)"
            ]
          },
          "metadata": {},
          "execution_count": 152
        }
      ]
    },
    {
      "cell_type": "code",
      "source": [
        "plot_result(\n",
        "    num_epochs,\n",
        "    initilization_metrics[\"train_accuracy\"],\n",
        "    initilization_metrics[\"valid_accuracy\"],\n",
        "    initilization_metrics[\"train_loss\"],\n",
        "    initilization_metrics[\"valid_loss\"]\n",
        ")"
      ],
      "metadata": {
        "colab": {
          "base_uri": "https://localhost:8080/",
          "height": 542
        },
        "id": "IjJmL9WDG0mU",
        "outputId": "8a98247c-a840-4bdd-b227-e939fbbcdeec"
      },
      "execution_count": null,
      "outputs": [
        {
          "output_type": "display_data",
          "data": {
            "text/plain": [
              "<Figure size 1200x600 with 2 Axes>"
            ],
            "image/png": "[encoded data removed]"
          },
          "metadata": {}
        }
      ]
    },
    {
      "cell_type": "markdown",
      "source": [
        "##**5. Comparing**"
      ],
      "metadata": {
        "id": "0yVInf0s8mrf"
      }
    },
    {
      "cell_type": "code",
      "source": [
        "epochs = list(range(num_epochs))\n",
        "fig, axs = plt.subplots(nrows = 1, ncols =2 , figsize = (12,6))\n",
        "\n",
        "metrics = [base_metrics, transfer_metrics, fine_tuning_metrics, initilization_metrics]\n",
        "lables_plt = [\"base\", \"transfer_learning\", \"fine_tuning\", \"initilization\"]\n",
        "\n",
        "for idx, metric in enumerate(metrics):\n",
        "    axs[0].plot(epochs, metric['valid_loss'], label=lables_plt[idx])\n",
        "    axs[1].plot(epochs, metric['valid_accuracy'], label=lables_plt[idx])\n",
        "axs[0].set_xlabel(\"Epoch\")\n",
        "axs[1].set_xlabel(\"Epoch\")\n",
        "axs[0].set_ylabel(\"Evaluation Loss\")\n",
        "axs[1].set_ylabel(\"Evaluation Accuracy\")\n",
        "plt.legend()"
      ],
      "metadata": {
        "colab": {
          "base_uri": "https://localhost:8080/",
          "height": 559
        },
        "id": "wYs9j5w18qmT",
        "outputId": "527b28bd-908a-48b1-ddf2-c2be0b8439c5"
      },
      "execution_count": null,
      "outputs": [
        {
          "output_type": "execute_result",
          "data": {
            "text/plain": [
              "<matplotlib.legend.Legend at 0x7a22d67fea70>"
            ]
          },
          "metadata": {},
          "execution_count": 154
        },
        {
          "output_type": "display_data",
          "data": {
            "text/plain": [
              "<Figure size 1200x600 with 2 Axes>"
            ],
            "image/png": "[encoded data removed]"
          },
          "metadata": {}
        }
      ]
    },
    {
      "cell_type": "code",
      "source": [
        "epochs = list(range(num_epochs))\n",
        "fig, axs = plt.subplots(nrows = 1, ncols =2 , figsize = (12,6))\n",
        "\n",
        "metrics = [base_metrics, transfer_metrics, fine_tuning_metrics, initilization_metrics]\n",
        "lables_plt = [\"base\", \"transfer_learning\", \"fine_tuning\", \"initilization\"]\n",
        "\n",
        "for idx, metric in enumerate(metrics):\n",
        "    axs[0].plot(epochs, metric['train_loss'], label=lables_plt[idx])\n",
        "    axs[1].plot(epochs, metric['train_accuracy'], label=lables_plt[idx])\n",
        "axs[0].set_xlabel(\"Epoch\")\n",
        "axs[1].set_xlabel(\"Epoch\")\n",
        "axs[0].set_ylabel(\"Training Loss\")\n",
        "axs[1].set_ylabel(\"Training Accuracy\")\n",
        "plt.legend()"
      ],
      "metadata": {
        "colab": {
          "base_uri": "https://localhost:8080/",
          "height": 559
        },
        "id": "GKIqz56fJyGn",
        "outputId": "5b588bc6-8fbd-474a-e97c-0e73a6ad4d48"
      },
      "execution_count": null,
      "outputs": [
        {
          "output_type": "execute_result",
          "data": {
            "text/plain": [
              "<matplotlib.legend.Legend at 0x7a22d67173d0>"
            ]
          },
          "metadata": {},
          "execution_count": 155
        },
        {
          "output_type": "display_data",
          "data": {
            "text/plain": [
              "<Figure size 1200x600 with 2 Axes>"
            ],
            "image/png": "[encoded data removed]"
          },
          "metadata": {}
        }
      ]
    }
  ]
}